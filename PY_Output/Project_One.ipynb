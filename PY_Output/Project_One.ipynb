{
 "cells": [
  {
   "cell_type": "code",
   "execution_count": 16,
   "id": "14732780",
   "metadata": {
    "scrolled": true
   },
   "outputs": [],
   "source": [
    "import pandas as pd \n",
    "import matplotlib.pyplot as plt\n",
    "import pandas as pd\n",
    "\n"
   ]
  },
  {
   "cell_type": "code",
   "execution_count": 17,
   "id": "c41e43e2",
   "metadata": {},
   "outputs": [],
   "source": [
    "df = pd.read_csv('UseOfForce_Type_OpenData_HOSTED.csv')\n"
   ]
  },
  {
   "cell_type": "code",
   "execution_count": 18,
   "id": "88dba0ff",
   "metadata": {
    "scrolled": true
   },
   "outputs": [],
   "source": [
    "#Deleted columns we don't need\n",
    "df_col = df.drop(['OBJECTID', 'Incident_Type','Date_Occurred','Date_Received','File_Number','RowNumber','Investigation_Status','Disposition','Citizen_Arrested','Report_Type','Cit_Infl_Assmt'], axis=1)"
   ]
  },
  {
   "cell_type": "code",
   "execution_count": 19,
   "id": "c4a9851f",
   "metadata": {},
   "outputs": [],
   "source": [
    "#removing rows with missing values\n",
    "df_col.dropna(inplace=True)"
   ]
  },
  {
   "cell_type": "code",
   "execution_count": 20,
   "id": "3fca603e",
   "metadata": {},
   "outputs": [],
   "source": [
    "#Removing rows we dont need\n",
    "df_col = df_col.drop(index = df_col[df_col['Sex']=='No Sex Listed'].index)\n",
    "df_col = df_col.drop(index = df_col[df_col['Race']=='No Race Listed'].index)\n",
    "df_col = df_col.drop(index = df_col[df_col['Sex']=='No sex'].index)\n",
    "df_col = df_col.drop(index = df_col[df_col['Race']=='No Race'].index)\n",
    "df_col = df_col.drop(index = df_col[df_col['Force_Used']=='Other'].index)\n",
    "df_col = df_col.drop(index = df_col[df_col['UseOfForce_Reason']=='Other'].index)"
   ]
  },
  {
   "cell_type": "code",
   "execution_count": 21,
   "id": "25ecfd9a",
   "metadata": {},
   "outputs": [
    {
     "data": {
      "text/html": [
       "<div>\n",
       "<style scoped>\n",
       "    .dataframe tbody tr th:only-of-type {\n",
       "        vertical-align: middle;\n",
       "    }\n",
       "\n",
       "    .dataframe tbody tr th {\n",
       "        vertical-align: top;\n",
       "    }\n",
       "\n",
       "    .dataframe thead th {\n",
       "        text-align: right;\n",
       "    }\n",
       "</style>\n",
       "<table border=\"1\" class=\"dataframe\">\n",
       "  <thead>\n",
       "    <tr style=\"text-align: right;\">\n",
       "      <th></th>\n",
       "      <th>UseOfForce_Reason</th>\n",
       "      <th>Citizen_Injured</th>\n",
       "      <th>Officer_Injured</th>\n",
       "      <th>Sex</th>\n",
       "      <th>Race</th>\n",
       "      <th>Citizen_Age</th>\n",
       "      <th>Year</th>\n",
       "      <th>Force_Used</th>\n",
       "    </tr>\n",
       "  </thead>\n",
       "  <tbody>\n",
       "    <tr>\n",
       "      <th>0</th>\n",
       "      <td>Combative</td>\n",
       "      <td>Yes</td>\n",
       "      <td>No</td>\n",
       "      <td>Female</td>\n",
       "      <td>White</td>\n",
       "      <td>26-35</td>\n",
       "      <td>2018</td>\n",
       "      <td>Physical Force</td>\n",
       "    </tr>\n",
       "    <tr>\n",
       "      <th>1</th>\n",
       "      <td>Combative</td>\n",
       "      <td>Yes</td>\n",
       "      <td>No</td>\n",
       "      <td>Female</td>\n",
       "      <td>White</td>\n",
       "      <td>26-35</td>\n",
       "      <td>2018</td>\n",
       "      <td>Physical Force</td>\n",
       "    </tr>\n",
       "    <tr>\n",
       "      <th>2</th>\n",
       "      <td>Combative</td>\n",
       "      <td>No</td>\n",
       "      <td>No</td>\n",
       "      <td>Male</td>\n",
       "      <td>White</td>\n",
       "      <td>26-35</td>\n",
       "      <td>2018</td>\n",
       "      <td>Physical Force</td>\n",
       "    </tr>\n",
       "    <tr>\n",
       "      <th>3</th>\n",
       "      <td>Combative</td>\n",
       "      <td>No</td>\n",
       "      <td>No</td>\n",
       "      <td>Male</td>\n",
       "      <td>White</td>\n",
       "      <td>26-35</td>\n",
       "      <td>2018</td>\n",
       "      <td>Physical Force</td>\n",
       "    </tr>\n",
       "    <tr>\n",
       "      <th>4</th>\n",
       "      <td>Combative</td>\n",
       "      <td>Yes</td>\n",
       "      <td>Yes</td>\n",
       "      <td>Male</td>\n",
       "      <td>Black</td>\n",
       "      <td>36-45</td>\n",
       "      <td>2018</td>\n",
       "      <td>Physical Force</td>\n",
       "    </tr>\n",
       "    <tr>\n",
       "      <th>...</th>\n",
       "      <td>...</td>\n",
       "      <td>...</td>\n",
       "      <td>...</td>\n",
       "      <td>...</td>\n",
       "      <td>...</td>\n",
       "      <td>...</td>\n",
       "      <td>...</td>\n",
       "      <td>...</td>\n",
       "    </tr>\n",
       "    <tr>\n",
       "      <th>1419</th>\n",
       "      <td>Fleeing</td>\n",
       "      <td>Yes</td>\n",
       "      <td>No</td>\n",
       "      <td>Male</td>\n",
       "      <td>Black</td>\n",
       "      <td>26-35</td>\n",
       "      <td>2022</td>\n",
       "      <td>Taser</td>\n",
       "    </tr>\n",
       "    <tr>\n",
       "      <th>1421</th>\n",
       "      <td>Fleeing</td>\n",
       "      <td>Yes</td>\n",
       "      <td>Yes</td>\n",
       "      <td>Male</td>\n",
       "      <td>Black</td>\n",
       "      <td>26-35</td>\n",
       "      <td>2022</td>\n",
       "      <td>Physical Force</td>\n",
       "    </tr>\n",
       "    <tr>\n",
       "      <th>1422</th>\n",
       "      <td>Combative</td>\n",
       "      <td>No</td>\n",
       "      <td>No</td>\n",
       "      <td>Male</td>\n",
       "      <td>Black</td>\n",
       "      <td>36-45</td>\n",
       "      <td>2022</td>\n",
       "      <td>Physical Force</td>\n",
       "    </tr>\n",
       "    <tr>\n",
       "      <th>1423</th>\n",
       "      <td>Combative</td>\n",
       "      <td>No</td>\n",
       "      <td>No</td>\n",
       "      <td>Male</td>\n",
       "      <td>Black</td>\n",
       "      <td>36-45</td>\n",
       "      <td>2022</td>\n",
       "      <td>Physical Force</td>\n",
       "    </tr>\n",
       "    <tr>\n",
       "      <th>1424</th>\n",
       "      <td>Fleeing</td>\n",
       "      <td>Yes</td>\n",
       "      <td>No</td>\n",
       "      <td>Male</td>\n",
       "      <td>White</td>\n",
       "      <td>Other</td>\n",
       "      <td>2022</td>\n",
       "      <td>Taser</td>\n",
       "    </tr>\n",
       "  </tbody>\n",
       "</table>\n",
       "<p>1245 rows × 8 columns</p>\n",
       "</div>"
      ],
      "text/plain": [
       "     UseOfForce_Reason Citizen_Injured Officer_Injured     Sex   Race  \\\n",
       "0            Combative             Yes              No  Female  White   \n",
       "1            Combative             Yes              No  Female  White   \n",
       "2            Combative              No              No    Male  White   \n",
       "3            Combative              No              No    Male  White   \n",
       "4            Combative             Yes             Yes    Male  Black   \n",
       "...                ...             ...             ...     ...    ...   \n",
       "1419           Fleeing             Yes              No    Male  Black   \n",
       "1421           Fleeing             Yes             Yes    Male  Black   \n",
       "1422         Combative              No              No    Male  Black   \n",
       "1423         Combative              No              No    Male  Black   \n",
       "1424           Fleeing             Yes              No    Male  White   \n",
       "\n",
       "     Citizen_Age  Year      Force_Used  \n",
       "0          26-35  2018  Physical Force  \n",
       "1          26-35  2018  Physical Force  \n",
       "2          26-35  2018  Physical Force  \n",
       "3          26-35  2018  Physical Force  \n",
       "4          36-45  2018  Physical Force  \n",
       "...          ...   ...             ...  \n",
       "1419       26-35  2022           Taser  \n",
       "1421       26-35  2022  Physical Force  \n",
       "1422       36-45  2022  Physical Force  \n",
       "1423       36-45  2022  Physical Force  \n",
       "1424       Other  2022           Taser  \n",
       "\n",
       "[1245 rows x 8 columns]"
      ]
     },
     "execution_count": 21,
     "metadata": {},
     "output_type": "execute_result"
    }
   ],
   "source": [
    "df_col\n",
    " \n"
   ]
  },
  {
   "cell_type": "markdown",
   "id": "dacc4c27",
   "metadata": {},
   "source": [
    "### Use of force by gender"
   ]
  },
  {
   "cell_type": "code",
   "execution_count": 22,
   "id": "d9347d7a",
   "metadata": {
    "scrolled": true
   },
   "outputs": [],
   "source": [
    "# Get totals by sex category\n",
    "females = df_col[df_col['Sex']=='Female'].Sex.count()\n"
   ]
  },
  {
   "cell_type": "code",
   "execution_count": 23,
   "id": "812afed8",
   "metadata": {},
   "outputs": [],
   "source": [
    "males = df_col[df_col['Sex']=='Male'].Sex.count()"
   ]
  },
  {
   "cell_type": "code",
   "execution_count": 24,
   "id": "4ef71d53",
   "metadata": {},
   "outputs": [],
   "source": [
    "no_sex = df_col[df_col['Sex']=='No Sex Listed'].Sex.count()"
   ]
  },
  {
   "cell_type": "code",
   "execution_count": 25,
   "id": "0b695472",
   "metadata": {},
   "outputs": [
    {
     "name": "stdout",
     "output_type": "stream",
     "text": [
      "Use of force was higher in males than any other sex categories\n"
     ]
    },
    {
     "data": {
      "image/png": "[encoded data removed]",
      "text/plain": [
       "<Figure size 432x288 with 1 Axes>"
      ]
     },
     "metadata": {},
     "output_type": "display_data"
    }
   ],
   "source": [
    "sizes = [males, females  ]\n",
    "lab = [\"Male\",\"Female\"]\n",
    "plt.pie(sizes,shadow = True, labels= lab);\n",
    "print(\"Use of force was higher in males than any other sex categories\")"
   ]
  },
  {
   "cell_type": "markdown",
   "id": "6c433d6f",
   "metadata": {},
   "source": [
    "### Use of force by race"
   ]
  },
  {
   "cell_type": "code",
   "execution_count": 26,
   "id": "dd2c7bc0",
   "metadata": {},
   "outputs": [],
   "source": [
    "#get race data segments\n",
    "white = df_col[df_col['Race']=='White'].Race\n",
    "black =  df_col[df_col['Race']=='Black'].Race"
   ]
  },
  {
   "cell_type": "code",
   "execution_count": 27,
   "id": "75b6beef",
   "metadata": {
    "scrolled": true
   },
   "outputs": [
    {
     "data": {
      "image/png": "[encoded data removed]",
      "text/plain": [
       "<Figure size 432x288 with 1 Axes>"
      ]
     },
     "metadata": {
      "needs_background": "light"
     },
     "output_type": "display_data"
    }
   ],
   "source": [
    "plt.bar(white, white.count(),color ='maroon',\n",
    "        width = 0.5)\n",
    "plt.bar(black,black.count(), color ='green',\n",
    "        width = 0.5)\n",
    "plt.title(\"Use of force by race\")\n",
    "plt.show()"
   ]
  },
  {
   "cell_type": "markdown",
   "id": "73331ec7",
   "metadata": {},
   "source": [
    "### Probability that a black male will combat the police during arrest"
   ]
  },
  {
   "cell_type": "code",
   "execution_count": 32,
   "id": "722d6d2b",
   "metadata": {},
   "outputs": [],
   "source": [
    "population =(df_col['UseOfForce_Reason']== 'Combative').count()\n"
   ]
  },
  {
   "cell_type": "code",
   "execution_count": 33,
   "id": "7cae027b",
   "metadata": {
    "scrolled": true
   },
   "outputs": [],
   "source": [
    " prob_black = df_col[df_col['Race']=='Black'].Race.count()/population"
   ]
  },
  {
   "cell_type": "code",
   "execution_count": 34,
   "id": "4df46274",
   "metadata": {},
   "outputs": [],
   "source": [
    " prob_white = df_col[df_col['Race']=='White'].Race.count()/population\n",
    " prob_male = df_col[df_col['Sex']=='Male'].Race.count()/population"
   ]
  },
  {
   "cell_type": "code",
   "execution_count": 35,
   "id": "2a9811a4",
   "metadata": {},
   "outputs": [
    {
     "name": "stdout",
     "output_type": "stream",
     "text": [
      "The probability that a white male will combat police during arrest is:  0.4\n",
      "The probability that a black male will combat police during arrest is:  0.5\n"
     ]
    }
   ],
   "source": [
    "print(\"The probability that a white male will combat police during arrest is: \",round(prob_white* prob_male,1))\n",
    "print(\"The probability that a black male will combat police during arrest is: \",round(prob_black* prob_male,1))"
   ]
  },
  {
   "cell_type": "markdown",
   "id": "15ebbdcf",
   "metadata": {},
   "source": [
    "### Probability that taser will be used on a white male during arrest"
   ]
  },
  {
   "cell_type": "code",
   "execution_count": null,
   "id": "2eb2f75a",
   "metadata": {},
   "outputs": [],
   "source": [
    " prob_white = df_col[df_col['Race']=='White'].Race.count()/population"
   ]
  },
  {
   "cell_type": "code",
   "execution_count": null,
   "id": "83df242c",
   "metadata": {},
   "outputs": [],
   "source": [
    "prob_arm = df_col[df_col['Force_Used']=='Taser'].Race.count()/population"
   ]
  },
  {
   "cell_type": "code",
   "execution_count": null,
   "id": "223349de",
   "metadata": {
    "scrolled": true
   },
   "outputs": [],
   "source": [
    "print(\"The probability that police will need a fire arm while arresting a white male is: \",round(prob_arm * prob_male,1))"
   ]
  },
  {
   "cell_type": "markdown",
   "id": "6b8fa8b9",
   "metadata": {},
   "source": [
    "### Force Used by gender"
   ]
  },
  {
   "cell_type": "code",
   "execution_count": 5,
   "id": "2431c025",
   "metadata": {
    "scrolled": true
   },
   "outputs": [
    {
     "ename": "NameError",
     "evalue": "name 'df_col' is not defined",
     "output_type": "error",
     "traceback": [
      "\u001b[0;31m---------------------------------------------------------------------------\u001b[0m",
      "\u001b[0;31mNameError\u001b[0m                                 Traceback (most recent call last)",
      "Input \u001b[0;32mIn [5]\u001b[0m, in \u001b[0;36m<cell line: 1>\u001b[0;34m()\u001b[0m\n\u001b[0;32m----> 1\u001b[0m \u001b[43mdf_col\u001b[49m\u001b[38;5;241m.\u001b[39mgroupby(\u001b[38;5;124m'\u001b[39m\u001b[38;5;124mSex\u001b[39m\u001b[38;5;124m'\u001b[39m)[\u001b[38;5;124m'\u001b[39m\u001b[38;5;124mForce_Used\u001b[39m\u001b[38;5;124m'\u001b[39m]\u001b[38;5;241m.\u001b[39mvalue_counts()\u001b[38;5;241m.\u001b[39mplot(kind \u001b[38;5;241m=\u001b[39m\u001b[38;5;124m'\u001b[39m\u001b[38;5;124mbar\u001b[39m\u001b[38;5;124m'\u001b[39m,color \u001b[38;5;241m=\u001b[39m\u001b[38;5;124m'\u001b[39m\u001b[38;5;124mgreen\u001b[39m\u001b[38;5;124m'\u001b[39m,width \u001b[38;5;241m=\u001b[39m \u001b[38;5;241m0.8\u001b[39m)\n",
      "\u001b[0;31mNameError\u001b[0m: name 'df_col' is not defined"
     ]
    }
   ],
   "source": [
    "df_col.groupby('Sex')['Force_Used'].value_counts().plot(kind ='bar',color ='green',width = 0.8)"
   ]
  },
  {
   "cell_type": "code",
   "execution_count": 6,
   "id": "96e1024c",
   "metadata": {},
   "outputs": [
    {
     "ename": "NameError",
     "evalue": "name 'df_col' is not defined",
     "output_type": "error",
     "traceback": [
      "\u001b[0;31m---------------------------------------------------------------------------\u001b[0m",
      "\u001b[0;31mNameError\u001b[0m                                 Traceback (most recent call last)",
      "Input \u001b[0;32mIn [6]\u001b[0m, in \u001b[0;36m<cell line: 1>\u001b[0;34m()\u001b[0m\n\u001b[0;32m----> 1\u001b[0m \u001b[43mdf_col\u001b[49m[\u001b[38;5;124m'\u001b[39m\u001b[38;5;124mUseOfForce_Reason\u001b[39m\u001b[38;5;124m'\u001b[39m]\u001b[38;5;241m.\u001b[39mvalue_counts()\u001b[38;5;241m.\u001b[39mplot(kind \u001b[38;5;241m=\u001b[39m\u001b[38;5;124m'\u001b[39m\u001b[38;5;124mbar\u001b[39m\u001b[38;5;124m'\u001b[39m,color \u001b[38;5;241m=\u001b[39m\u001b[38;5;124m'\u001b[39m\u001b[38;5;124mblack\u001b[39m\u001b[38;5;124m'\u001b[39m,xlabel \u001b[38;5;241m=\u001b[39m \u001b[38;5;124m'\u001b[39m\u001b[38;5;124mReason to use force by the police\u001b[39m\u001b[38;5;124m'\u001b[39m,ylabel\u001b[38;5;241m=\u001b[39m\u001b[38;5;124m'\u001b[39m\u001b[38;5;124mFrequency\u001b[39m\u001b[38;5;124m'\u001b[39m )\n",
      "\u001b[0;31mNameError\u001b[0m: name 'df_col' is not defined"
     ]
    }
   ],
   "source": [
    "df_col['UseOfForce_Reason'].value_counts().plot(kind ='bar',color ='black',xlabel = 'Reason to use force by the police',ylabel='Frequency' )"
   ]
  },
  {
   "cell_type": "markdown",
   "id": "d660622f",
   "metadata": {},
   "source": [
    "### Reasons police used force by race"
   ]
  },
  {
   "cell_type": "code",
   "execution_count": 7,
   "id": "bcb9c8a9",
   "metadata": {
    "scrolled": false
   },
   "outputs": [
    {
     "ename": "NameError",
     "evalue": "name 'df_col' is not defined",
     "output_type": "error",
     "traceback": [
      "\u001b[0;31m---------------------------------------------------------------------------\u001b[0m",
      "\u001b[0;31mNameError\u001b[0m                                 Traceback (most recent call last)",
      "Input \u001b[0;32mIn [7]\u001b[0m, in \u001b[0;36m<cell line: 1>\u001b[0;34m()\u001b[0m\n\u001b[0;32m----> 1\u001b[0m \u001b[43mdf_col\u001b[49m\u001b[38;5;241m.\u001b[39mgroupby(\u001b[38;5;124m'\u001b[39m\u001b[38;5;124mRace\u001b[39m\u001b[38;5;124m'\u001b[39m)[\u001b[38;5;124m'\u001b[39m\u001b[38;5;124mUseOfForce_Reason\u001b[39m\u001b[38;5;124m'\u001b[39m]\u001b[38;5;241m.\u001b[39mvalue_counts()\u001b[38;5;241m.\u001b[39mplot(kind \u001b[38;5;241m=\u001b[39m\u001b[38;5;124m'\u001b[39m\u001b[38;5;124mbar\u001b[39m\u001b[38;5;124m'\u001b[39m,color \u001b[38;5;241m=\u001b[39m\u001b[38;5;124m'\u001b[39m\u001b[38;5;124mgreen\u001b[39m\u001b[38;5;124m'\u001b[39m,width \u001b[38;5;241m=\u001b[39m \u001b[38;5;241m0.9\u001b[39m)\n",
      "\u001b[0;31mNameError\u001b[0m: name 'df_col' is not defined"
     ]
    }
   ],
   "source": [
    "df_col.groupby('Race')['UseOfForce_Reason'].value_counts().plot(kind ='bar',color ='green',width = 0.9)"
   ]
  },
  {
   "cell_type": "code",
   "execution_count": 8,
   "id": "808a6721",
   "metadata": {},
   "outputs": [
    {
     "ename": "NameError",
     "evalue": "name 'plt' is not defined",
     "output_type": "error",
     "traceback": [
      "\u001b[0;31m---------------------------------------------------------------------------\u001b[0m",
      "\u001b[0;31mNameError\u001b[0m                                 Traceback (most recent call last)",
      "Input \u001b[0;32mIn [8]\u001b[0m, in \u001b[0;36m<cell line: 1>\u001b[0;34m()\u001b[0m\n\u001b[0;32m----> 1\u001b[0m \u001b[43mplt\u001b[49m\u001b[38;5;241m.\u001b[39mbarh(white, white\u001b[38;5;241m.\u001b[39mcount(),color \u001b[38;5;241m=\u001b[39m\u001b[38;5;124m'\u001b[39m\u001b[38;5;124mmaroon\u001b[39m\u001b[38;5;124m'\u001b[39m\n\u001b[1;32m      2\u001b[0m        )\n\u001b[1;32m      3\u001b[0m plt\u001b[38;5;241m.\u001b[39mxlabel(\u001b[38;5;124m'\u001b[39m\u001b[38;5;124mNumber of use of force cases\u001b[39m\u001b[38;5;124m'\u001b[39m)\n\u001b[1;32m      4\u001b[0m plt\u001b[38;5;241m.\u001b[39mylabel(\u001b[38;5;124m'\u001b[39m\u001b[38;5;124mRace\u001b[39m\u001b[38;5;124m'\u001b[39m)\n",
      "\u001b[0;31mNameError\u001b[0m: name 'plt' is not defined"
     ]
    }
   ],
   "source": [
    "\n",
    "plt.barh(white, white.count(),color ='maroon'\n",
    "       )\n",
    "plt.xlabel('Number of use of force cases')\n",
    "plt.ylabel('Race')\n",
    "plt.barh(black,black.count(), color ='green',\n",
    "        )\n",
    "plt.title(\"Use of force by race\")\n",
    "plt.show()"
   ]
  },
  {
   "cell_type": "markdown",
   "id": "c3fb37e0",
   "metadata": {},
   "source": [
    "### Officers vs Citizen injured during use of force by the police"
   ]
  },
  {
   "cell_type": "code",
   "execution_count": 9,
   "id": "2cbfa3df",
   "metadata": {
    "scrolled": true
   },
   "outputs": [
    {
     "ename": "NameError",
     "evalue": "name 'df_col' is not defined",
     "output_type": "error",
     "traceback": [
      "\u001b[0;31m---------------------------------------------------------------------------\u001b[0m",
      "\u001b[0;31mNameError\u001b[0m                                 Traceback (most recent call last)",
      "Input \u001b[0;32mIn [9]\u001b[0m, in \u001b[0;36m<cell line: 1>\u001b[0;34m()\u001b[0m\n\u001b[0;32m----> 1\u001b[0m citizen \u001b[38;5;241m=\u001b[39m \u001b[43mdf_col\u001b[49m[df_col[\u001b[38;5;124m'\u001b[39m\u001b[38;5;124mCitizen_Injured\u001b[39m\u001b[38;5;124m'\u001b[39m]\u001b[38;5;241m==\u001b[39m\u001b[38;5;124m'\u001b[39m\u001b[38;5;124mYes\u001b[39m\u001b[38;5;124m'\u001b[39m]\u001b[38;5;241m.\u001b[39mCitizen_Injured \u001b[38;5;241m.\u001b[39mvalue_counts()\n\u001b[1;32m      2\u001b[0m citizen_no \u001b[38;5;241m=\u001b[39m df_col[df_col[\u001b[38;5;124m'\u001b[39m\u001b[38;5;124mCitizen_Injured\u001b[39m\u001b[38;5;124m'\u001b[39m]\u001b[38;5;241m==\u001b[39m\u001b[38;5;124m'\u001b[39m\u001b[38;5;124mNo\u001b[39m\u001b[38;5;124m'\u001b[39m]\u001b[38;5;241m.\u001b[39mCitizen_Injured \u001b[38;5;241m.\u001b[39mvalue_counts()\n\u001b[1;32m      3\u001b[0m officer \u001b[38;5;241m=\u001b[39m df_col[df_col[\u001b[38;5;124m'\u001b[39m\u001b[38;5;124mOfficer_Injured\u001b[39m\u001b[38;5;124m'\u001b[39m]\u001b[38;5;241m==\u001b[39m\u001b[38;5;124m'\u001b[39m\u001b[38;5;124mYes\u001b[39m\u001b[38;5;124m'\u001b[39m]\u001b[38;5;241m.\u001b[39mCitizen_Injured \u001b[38;5;241m.\u001b[39mvalue_counts()\n",
      "\u001b[0;31mNameError\u001b[0m: name 'df_col' is not defined"
     ]
    }
   ],
   "source": [
    "citizen = df_col[df_col['Citizen_Injured']=='Yes'].Citizen_Injured .value_counts()\n",
    "citizen_no = df_col[df_col['Citizen_Injured']=='No'].Citizen_Injured .value_counts()\n",
    "officer = df_col[df_col['Officer_Injured']=='Yes'].Citizen_Injured .value_counts()"
   ]
  },
  {
   "cell_type": "code",
   "execution_count": 10,
   "id": "6b12b4d7",
   "metadata": {},
   "outputs": [
    {
     "ename": "NameError",
     "evalue": "name 'officer' is not defined",
     "output_type": "error",
     "traceback": [
      "\u001b[0;31m---------------------------------------------------------------------------\u001b[0m",
      "\u001b[0;31mNameError\u001b[0m                                 Traceback (most recent call last)",
      "Input \u001b[0;32mIn [10]\u001b[0m, in \u001b[0;36m<cell line: 1>\u001b[0;34m()\u001b[0m\n\u001b[0;32m----> 1\u001b[0m sizes \u001b[38;5;241m=\u001b[39m [\u001b[43mofficer\u001b[49m[\u001b[38;5;241m0\u001b[39m], citizen[\u001b[38;5;241m0\u001b[39m] ]\n\u001b[1;32m      2\u001b[0m lab \u001b[38;5;241m=\u001b[39m [\u001b[38;5;124m\"\u001b[39m\u001b[38;5;124mOfficer injured\u001b[39m\u001b[38;5;124m\"\u001b[39m,\u001b[38;5;124m\"\u001b[39m\u001b[38;5;124mCitizen injured\u001b[39m\u001b[38;5;124m\"\u001b[39m]\n\u001b[1;32m      3\u001b[0m plt\u001b[38;5;241m.\u001b[39mpie(sizes,shadow \u001b[38;5;241m=\u001b[39m \u001b[38;5;28;01mTrue\u001b[39;00m, labels\u001b[38;5;241m=\u001b[39m lab)\n",
      "\u001b[0;31mNameError\u001b[0m: name 'officer' is not defined"
     ]
    }
   ],
   "source": [
    "sizes = [officer[0], citizen[0] ]\n",
    "lab = [\"Officer injured\",\"Citizen injured\"]\n",
    "plt.pie(sizes,shadow = True, labels= lab);\n",
    "\n"
   ]
  },
  {
   "cell_type": "code",
   "execution_count": 11,
   "id": "4726476b",
   "metadata": {
    "scrolled": true
   },
   "outputs": [
    {
     "ename": "NameError",
     "evalue": "name 'df_col' is not defined",
     "output_type": "error",
     "traceback": [
      "\u001b[0;31m---------------------------------------------------------------------------\u001b[0m",
      "\u001b[0;31mNameError\u001b[0m                                 Traceback (most recent call last)",
      "Input \u001b[0;32mIn [11]\u001b[0m, in \u001b[0;36m<cell line: 1>\u001b[0;34m()\u001b[0m\n\u001b[0;32m----> 1\u001b[0m \u001b[43mdf_col\u001b[49m[df_col[\u001b[38;5;124m'\u001b[39m\u001b[38;5;124mYear\u001b[39m\u001b[38;5;124m'\u001b[39m]\u001b[38;5;241m==\u001b[39m\u001b[38;5;124m'\u001b[39m\u001b[38;5;124m2022\u001b[39m\u001b[38;5;124m'\u001b[39m]\n",
      "\u001b[0;31mNameError\u001b[0m: name 'df_col' is not defined"
     ]
    }
   ],
   "source": [
    "df_col[df_col['Year']=='2022']"
   ]
  },
  {
   "cell_type": "code",
   "execution_count": 12,
   "id": "3b4edfb1",
   "metadata": {},
   "outputs": [
    {
     "ename": "NameError",
     "evalue": "name 'p' is not defined",
     "output_type": "error",
     "traceback": [
      "\u001b[0;31m---------------------------------------------------------------------------\u001b[0m",
      "\u001b[0;31mNameError\u001b[0m                                 Traceback (most recent call last)",
      "Input \u001b[0;32mIn [12]\u001b[0m, in \u001b[0;36m<cell line: 1>\u001b[0;34m()\u001b[0m\n\u001b[0;32m----> 1\u001b[0m \u001b[38;5;28mtype\u001b[39m(\u001b[43mp\u001b[49m)\n",
      "\u001b[0;31mNameError\u001b[0m: name 'p' is not defined"
     ]
    }
   ],
   "source": [
    "type(p)"
   ]
  },
  {
   "cell_type": "code",
   "execution_count": 13,
   "id": "9570f632",
   "metadata": {},
   "outputs": [
    {
     "ename": "NameError",
     "evalue": "name 'df_col' is not defined",
     "output_type": "error",
     "traceback": [
      "\u001b[0;31m---------------------------------------------------------------------------\u001b[0m",
      "\u001b[0;31mNameError\u001b[0m                                 Traceback (most recent call last)",
      "Input \u001b[0;32mIn [13]\u001b[0m, in \u001b[0;36m<cell line: 1>\u001b[0;34m()\u001b[0m\n\u001b[0;32m----> 1\u001b[0m \u001b[43mdf_col\u001b[49m[df_col[\u001b[38;5;124m'\u001b[39m\u001b[38;5;124mRace\u001b[39m\u001b[38;5;124m'\u001b[39m]\u001b[38;5;241m==\u001b[39m\u001b[38;5;124m'\u001b[39m\u001b[38;5;124mBlack\u001b[39m\u001b[38;5;124m'\u001b[39m]\u001b[38;5;241m.\u001b[39mRace\n",
      "\u001b[0;31mNameError\u001b[0m: name 'df_col' is not defined"
     ]
    }
   ],
   "source": [
    "df_col[df_col['Race']=='Black'].Race\n"
   ]
  },
  {
   "cell_type": "code",
   "execution_count": 14,
   "id": "fd825edb",
   "metadata": {
    "scrolled": true
   },
   "outputs": [
    {
     "ename": "NameError",
     "evalue": "name 'df_col' is not defined",
     "output_type": "error",
     "traceback": [
      "\u001b[0;31m---------------------------------------------------------------------------\u001b[0m",
      "\u001b[0;31mNameError\u001b[0m                                 Traceback (most recent call last)",
      "Input \u001b[0;32mIn [14]\u001b[0m, in \u001b[0;36m<cell line: 1>\u001b[0;34m()\u001b[0m\n\u001b[0;32m----> 1\u001b[0m yr \u001b[38;5;241m=\u001b[39m \u001b[43mdf_col\u001b[49m\u001b[38;5;241m.\u001b[39mgroupby(\u001b[38;5;124m'\u001b[39m\u001b[38;5;124mYear\u001b[39m\u001b[38;5;124m'\u001b[39m)[\u001b[38;5;124m'\u001b[39m\u001b[38;5;124mForce_Used\u001b[39m\u001b[38;5;124m'\u001b[39m]\u001b[38;5;241m.\u001b[39mcount()\u001b[38;5;241m.\u001b[39mplot(kind \u001b[38;5;241m=\u001b[39m\u001b[38;5;124m'\u001b[39m\u001b[38;5;124mbar\u001b[39m\u001b[38;5;124m'\u001b[39m,color \u001b[38;5;241m=\u001b[39m\u001b[38;5;124m'\u001b[39m\u001b[38;5;124mgreen\u001b[39m\u001b[38;5;124m'\u001b[39m,xlabel \u001b[38;5;241m=\u001b[39m\u001b[38;5;124m'\u001b[39m\u001b[38;5;124mYears\u001b[39m\u001b[38;5;124m'\u001b[39m,ylabel\u001b[38;5;241m=\u001b[39m\u001b[38;5;124m'\u001b[39m\u001b[38;5;124mUse by force cases\u001b[39m\u001b[38;5;124m'\u001b[39m)\n",
      "\u001b[0;31mNameError\u001b[0m: name 'df_col' is not defined"
     ]
    }
   ],
   "source": [
    "yr = df_col.groupby('Year')['Force_Used'].count().plot(kind ='bar',color ='green',xlabel ='Years',ylabel='Use by force cases')\n"
   ]
  },
  {
   "cell_type": "code",
   "execution_count": 15,
   "id": "43f934a4",
   "metadata": {
    "scrolled": false
   },
   "outputs": [
    {
     "ename": "NameError",
     "evalue": "name 'df_col' is not defined",
     "output_type": "error",
     "traceback": [
      "\u001b[0;31m---------------------------------------------------------------------------\u001b[0m",
      "\u001b[0;31mNameError\u001b[0m                                 Traceback (most recent call last)",
      "Input \u001b[0;32mIn [15]\u001b[0m, in \u001b[0;36m<cell line: 1>\u001b[0;34m()\u001b[0m\n\u001b[0;32m----> 1\u001b[0m \u001b[43mdf_col\u001b[49m\u001b[38;5;241m.\u001b[39mgroupby(\u001b[38;5;124m'\u001b[39m\u001b[38;5;124mCitizen_Age\u001b[39m\u001b[38;5;124m'\u001b[39m)[\u001b[38;5;124m'\u001b[39m\u001b[38;5;124mForce_Used\u001b[39m\u001b[38;5;124m'\u001b[39m]\u001b[38;5;241m.\u001b[39mcount()\u001b[38;5;241m.\u001b[39mplot(kind \u001b[38;5;241m=\u001b[39m\u001b[38;5;124m'\u001b[39m\u001b[38;5;124mline\u001b[39m\u001b[38;5;124m'\u001b[39m,color \u001b[38;5;241m=\u001b[39m\u001b[38;5;124m'\u001b[39m\u001b[38;5;124morange\u001b[39m\u001b[38;5;124m'\u001b[39m,xlabel \u001b[38;5;241m=\u001b[39m\u001b[38;5;124m'\u001b[39m\u001b[38;5;124mAge group\u001b[39m\u001b[38;5;124m'\u001b[39m,ylabel\u001b[38;5;241m=\u001b[39m\u001b[38;5;124m'\u001b[39m\u001b[38;5;124mUse by force cases\u001b[39m\u001b[38;5;124m'\u001b[39m)\n",
      "\u001b[0;31mNameError\u001b[0m: name 'df_col' is not defined"
     ]
    }
   ],
   "source": [
    "df_col.groupby('Citizen_Age')['Force_Used'].count().plot(kind ='line',color ='orange',xlabel ='Age group',ylabel='Use by force cases')"
   ]
  },
  {
   "cell_type": "code",
   "execution_count": null,
   "id": "518e40b2",
   "metadata": {},
   "outputs": [],
   "source": []
  },
  {
   "cell_type": "code",
   "execution_count": null,
   "id": "b8506891",
   "metadata": {},
   "outputs": [],
   "source": []
  },
  {
   "cell_type": "code",
   "execution_count": null,
   "id": "17193ea3",
   "metadata": {},
   "outputs": [],
   "source": []
  },
  {
   "cell_type": "code",
   "execution_count": null,
   "id": "5018f68d",
   "metadata": {},
   "outputs": [],
   "source": []
  },
  {
   "cell_type": "code",
   "execution_count": null,
   "id": "4d718fcd",
   "metadata": {},
   "outputs": [],
   "source": []
  },
  {
   "cell_type": "code",
   "execution_count": null,
   "id": "97c5c557",
   "metadata": {},
   "outputs": [],
   "source": []
  },
  {
   "cell_type": "code",
   "execution_count": null,
   "id": "c42984cd",
   "metadata": {},
   "outputs": [],
   "source": []
  },
  {
   "cell_type": "code",
   "execution_count": null,
   "id": "aacdf858",
   "metadata": {},
   "outputs": [],
   "source": []
  }
 ],
 "metadata": {
  "kernelspec": {
   "display_name": "Python 3.10.4 64-bit",
   "language": "python",
   "name": "python3104jvsc74a57bd0aee8b7b246df8f9039afb4144a1f6fd8d2ca17a180786b69acc140d282b71a49"
  },
  "language_info": {
   "codemirror_mode": {
    "name": "ipython",
    "version": 3
   },
   "file_extension": ".py",
   "mimetype": "text/x-python",
   "name": "python",
   "nbconvert_exporter": "python",
   "pygments_lexer": "ipython3",
   "version": "3.10.4"
  }
 },
 "nbformat": 4,
 "nbformat_minor": 5
}
