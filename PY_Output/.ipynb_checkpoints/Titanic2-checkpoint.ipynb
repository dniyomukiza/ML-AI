{
 "cells": [
  {
   "cell_type": "markdown",
   "id": "c6d233a6",
   "metadata": {},
   "source": [
    "#### Importing the libraries to use"
   ]
  },
  {
   "cell_type": "code",
   "execution_count": 82,
   "id": "8957a8e0",
   "metadata": {},
   "outputs": [],
   "source": [
    "\n",
    "import numpy as np\n",
    "import matplotlib.pyplot as plt\n",
    "import pandas as pd\n",
    "import seaborn as sns\n"
   ]
  },
  {
   "cell_type": "markdown",
   "id": "4ab91c8d",
   "metadata": {},
   "source": [
    "##### import and read data"
   ]
  },
  {
   "cell_type": "code",
   "execution_count": 83,
   "id": "910e8712",
   "metadata": {},
   "outputs": [],
   "source": [
    "\n",
    "\n",
    "dataSet = pd.read_csv('titanic.csv')"
   ]
  },
  {
   "cell_type": "markdown",
   "id": "3c6948ad",
   "metadata": {},
   "source": [
    "### Lost vs survived by sex"
   ]
  },
  {
   "cell_type": "code",
   "execution_count": 125,
   "id": "064f710c",
   "metadata": {},
   "outputs": [],
   "source": [
    "lostMale = dataSet[(dataSet['Survived'] == 0) & (dataSet['Sex'] == 'male')]\n",
    "survi_male = dataSet[(dataSet['Survived'] == 1) & (dataSet['Sex'] == 'male')]\n",
    "survi_female = dataSet[(dataSet['Survived'] == 1) & (dataSet['Sex'] == 'female')]\n",
    "lostFemale = dataSet[(dataSet['Survived'] == 0) & (dataSet['Sex'] == 'female')]\n"
   ]
  },
  {
   "cell_type": "markdown",
   "id": "88e35af2",
   "metadata": {},
   "source": [
    "#### males lost vs survived"
   ]
  },
  {
   "cell_type": "code",
   "execution_count": 130,
   "id": "bd8ff9c2",
   "metadata": {},
   "outputs": [],
   "source": [
    "total_num_males = lostMale['Survived'].count() + survi_male['Survived'].count()\n",
    "lostM = (lostMale['Survived'].count()/total_num_males)\n",
    "surviM = (survi_male['Survived'].count()/total_num_males)\n"
   ]
  },
  {
   "cell_type": "markdown",
   "id": "f79585fe",
   "metadata": {},
   "source": [
    "#### males lost vs survived"
   ]
  },
  {
   "cell_type": "code",
   "execution_count": 127,
   "id": "aad00550",
   "metadata": {
    "scrolled": true
   },
   "outputs": [],
   "source": [
    "\n",
    "total_num_females = lostFemale['Survived'].count() + survi_female['Survived'].count()\n",
    "lostF = (lostFemale['Survived'].count()/total_num_females)\n",
    "surviF = (survi_female['Survived'].count()/total_num_females)"
   ]
  },
  {
   "cell_type": "markdown",
   "id": "5f062d95",
   "metadata": {},
   "source": [
    "#### interpretation of results"
   ]
  },
  {
   "cell_type": "code",
   "execution_count": 128,
   "id": "84e440a5",
   "metadata": {
    "scrolled": true
   },
   "outputs": [
    {
     "name": "stdout",
     "output_type": "stream",
     "text": [
      "25.80% of all females were lost,while 74.20% survived\n"
     ]
    }
   ],
   "source": [
    "     print(\"{:.2%}\".format((lostF))+\" of all females were lost,while\"+\" {:.2%}\".format((surviF))+\" survived\")\n"
   ]
  },
  {
   "cell_type": "code",
   "execution_count": 133,
   "id": "61de4a5a",
   "metadata": {
    "scrolled": true
   },
   "outputs": [
    {
     "name": "stdout",
     "output_type": "stream",
     "text": [
      "80.98% of all males were lost,while 74.20% survived\n"
     ]
    }
   ],
   "source": [
    "print(\"{:.2%}\".format((lostM))+\" of all males were lost,while\"+\" {:.2%}\".format((surviF))+\" survived\")"
   ]
  },
  {
   "cell_type": "markdown",
   "id": "959b48fe",
   "metadata": {},
   "source": [
    "### Lost vs survived by class"
   ]
  },
  {
   "cell_type": "code",
   "execution_count": 140,
   "id": "b9c27913",
   "metadata": {},
   "outputs": [
    {
     "data": {
      "text/plain": [
       "216"
      ]
     },
     "execution_count": 140,
     "metadata": {},
     "output_type": "execute_result"
    }
   ],
   "source": [
    "lostClass1 = dataSet[(dataSet['Survived'] == 0) & (dataSet['Pclass'] == 1)]\n",
    "surviClass1 = dataSet[(dataSet['Survived'] == 1) & (dataSet['Pclass'] == 1)]\n",
    "\n",
    "lostClass2 = dataSet[(dataSet['Survived'] == 0) & (dataSet['Pclass'] == 2)]\n",
    "surviClass2 = dataSet[(dataSet['Survived'] == 1) & (dataSet['Pclass'] == 2)]\n",
    "\n",
    "lostClass3 = dataSet[(dataSet['Survived'] == 0) & (dataSet['Pclass'] == 3)]\n",
    "surviClass3 = dataSet[(dataSet['Survived'] == 1) & (dataSet['Pclass'] == 3)]\n",
    "\n"
   ]
  },
  {
   "cell_type": "markdown",
   "id": "4ca9b1c4",
   "metadata": {},
   "source": [
    "#### lost vs survived class one"
   ]
  },
  {
   "cell_type": "code",
   "execution_count": 142,
   "id": "1d18d96e",
   "metadata": {},
   "outputs": [],
   "source": [
    "total_class1 = lostClass1['Survived'].count() + surviClass1['Survived'].count() \n",
    "lost_one = lostClass1['Survived'].count()/total_class1\n",
    "survi_one = surviClass1['Survived'].count()/total_class1"
   ]
  },
  {
   "cell_type": "markdown",
   "id": "a0466e4a",
   "metadata": {},
   "source": [
    "#### lost vs survived class two"
   ]
  },
  {
   "cell_type": "code",
   "execution_count": 148,
   "id": "1b718442",
   "metadata": {},
   "outputs": [],
   "source": [
    "total_class2 = lostClass2['Survived'].count() + surviClass2['Survived'].count() \n",
    "lost_two = lostClass2['Survived'].count()/total_class2\n",
    "survi_two = surviClass2['Survived'].count()/total_class2"
   ]
  },
  {
   "cell_type": "markdown",
   "id": "2d160b26",
   "metadata": {},
   "source": [
    "#### lost vs survived class three"
   ]
  },
  {
   "cell_type": "code",
   "execution_count": 149,
   "id": "040bf028",
   "metadata": {},
   "outputs": [],
   "source": [
    "total_class3 = lostClass3['Survived'].count() + surviClass3['Survived'].count() \n",
    "lost_three = lostClass3['Survived'].count()/total_class3\n",
    "survi_three = surviClass3['Survived'].count()/total_class3"
   ]
  },
  {
   "cell_type": "markdown",
   "id": "804c721a",
   "metadata": {},
   "source": [
    "#### Interpret results"
   ]
  },
  {
   "cell_type": "code",
   "execution_count": 150,
   "id": "3a6144f6",
   "metadata": {},
   "outputs": [
    {
     "name": "stdout",
     "output_type": "stream",
     "text": [
      "37.04% of all who boarded in first class were lost,while 62.96% survived\n"
     ]
    }
   ],
   "source": [
    "print(\"{:.2%}\".format((lost_one))+\" of all who boarded in first class were lost,while\"+\" {:.2%}\".format((survi_one))+\" survived\")"
   ]
  },
  {
   "cell_type": "code",
   "execution_count": 151,
   "id": "8d1968d1",
   "metadata": {},
   "outputs": [
    {
     "name": "stdout",
     "output_type": "stream",
     "text": [
      "52.72% of all who boarded in second class were lost,while 47.28% survived\n"
     ]
    }
   ],
   "source": [
    "print(\"{:.2%}\".format((lost_two))+\" of all who boarded in second class were lost,while\"+\" {:.2%}\".format((survi_two))+\" survived\")"
   ]
  },
  {
   "cell_type": "code",
   "execution_count": 152,
   "id": "548a9c67",
   "metadata": {},
   "outputs": [
    {
     "name": "stdout",
     "output_type": "stream",
     "text": [
      "75.56% of all who boarded in third class were lost,while 24.44% survived\n"
     ]
    }
   ],
   "source": [
    "print(\"{:.2%}\".format((lost_three))+\" of all who boarded in third class were lost,while\"+\" {:.2%}\".format((survi_three))+\" survived\")"
   ]
  },
  {
   "cell_type": "markdown",
   "id": "925c00c0",
   "metadata": {},
   "source": [
    "### Probability of survival based on gender and class"
   ]
  },
  {
   "cell_type": "code",
   "execution_count": null,
   "id": "4ff15021",
   "metadata": {},
   "outputs": [],
   "source": []
  }
 ],
 "metadata": {
  "kernelspec": {
   "display_name": "Python 3.10.4 64-bit",
   "language": "python",
   "name": "python3104jvsc74a57bd0aee8b7b246df8f9039afb4144a1f6fd8d2ca17a180786b69acc140d282b71a49"
  },
  "language_info": {
   "codemirror_mode": {
    "name": "ipython",
    "version": 3
   },
   "file_extension": ".py",
   "mimetype": "text/x-python",
   "name": "python",
   "nbconvert_exporter": "python",
   "pygments_lexer": "ipython3",
   "version": "3.10.4"
  }
 },
 "nbformat": 4,
 "nbformat_minor": 5
}
