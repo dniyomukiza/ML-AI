{
 "cells": [
  {
   "cell_type": "code",
   "execution_count": 1,
   "id": "9b9bad09",
   "metadata": {},
   "outputs": [],
   "source": [
    "%matplotlib inline\n",
    "import matplotlib.pyplot as plt\n",
    "import numpy as np"
   ]
  },
  {
   "cell_type": "markdown",
   "id": "fe0fd222",
   "metadata": {},
   "source": [
    "## Vertical bar charts\n",
    "\n",
    "### Create a vertical bar chart for the values by years. \n",
    "### Its ok to have years split i.e, (2012.0, 2012.5...)"
   ]
  },
  {
   "cell_type": "code",
   "execution_count": 12,
   "id": "979f1077",
   "metadata": {},
   "outputs": [
    {
     "name": "stdout",
     "output_type": "stream",
     "text": [
      "[2012 2013 2014]\n"
     ]
    }
   ],
   "source": [
    "# Using\n",
    "years = np.arange(2012, 2015)\n",
    "values = [2, 5, 9]\n",
    "# Create a vertical bar chart values by years.\n",
    "\n",
    "# Code goes below:\n"
   ]
  },
  {
   "cell_type": "code",
   "execution_count": 22,
   "id": "ea78f034",
   "metadata": {
    "scrolled": true
   },
   "outputs": [
    {
     "data": {
      "text/plain": [
       "<BarContainer object of 3 artists>"
      ]
     },
     "execution_count": 22,
     "metadata": {},
     "output_type": "execute_result"
    },
    {
     "data": {
      "image/png": "[encoded data removed]",
      "text/plain": [
       "<Figure size 144x144 with 1 Axes>"
      ]
     },
     "metadata": {
      "needs_background": "light"
     },
     "output_type": "display_data"
    }
   ],
   "source": [
    "plt.title(\"Values by Years\")\n",
    "plt.xlabel('Years')\n",
    "plt.ylabel('Values')\n",
    "plt.bar(years,values,color =\"green\")"
   ]
  },
  {
   "cell_type": "markdown",
   "id": "89539af6",
   "metadata": {},
   "source": [
    "## Create a multiseries bar chart with:\n",
    "* category1_values: Color = Blue, No edgecolor, width = 0.4, align = center and a label of y1\n",
    "* category2_values: Color = Orange, No edgecolor, width = 0.4, align = center and a label of y2"
   ]
  },
  {
   "cell_type": "code",
   "execution_count": 60,
   "id": "8669f966",
   "metadata": {
    "scrolled": true
   },
   "outputs": [],
   "source": [
    "years = np.arange(2012, 2015)\n",
    "category1_values = [2, 5, 9]\n",
    "category2_values = [7, 6, 3]\n",
    "# spacing bars out\n",
    "xposCat1 = np.arange(len(years))\n",
    "xposCat2 = xposCat1 + 0.4\n"
   ]
  },
  {
   "cell_type": "code",
   "execution_count": 76,
   "id": "99d88089",
   "metadata": {
    "scrolled": false
   },
   "outputs": [
    {
     "data": {
      "text/plain": [
       "([<matplotlib.axis.XTick at 0x12d7d6a10>,\n",
       "  <matplotlib.axis.XTick at 0x12d7d69e0>,\n",
       "  <matplotlib.axis.XTick at 0x12d7d68c0>],\n",
       " [Text(0, 0, '2012'), Text(1, 0, '2013'), Text(2, 0, '2014')])"
      ]
     },
     "execution_count": 76,
     "metadata": {},
     "output_type": "execute_result"
    },
    {
     "data": {
      "image/png": "[encoded data removed]",
      "text/plain": [
       "<Figure size 144x144 with 1 Axes>"
      ]
     },
     "metadata": {
      "needs_background": "light"
     },
     "output_type": "display_data"
    }
   ],
   "source": [
    "plt.bar(xposCat1, category1_values,color = 'blue', edgecolor='none', width = 0.4, align = 'center',label = \"y1\")\n",
    "plt.bar(xposCat2, category2_values,color = 'orange', edgecolor='none', width = 0.4, align = 'center',label= 'y2')\n",
    "plt.legend(loc = \"upper left\",fontsize = 'x-small',)\n",
    "# replace x indexes by the given values\n",
    "plt.xticks(ticks = xposCat1,labels = years)\n"
   ]
  },
  {
   "cell_type": "markdown",
   "id": "fca94e86",
   "metadata": {},
   "source": [
    "### Create a horizontal bar chart for the given values:\n",
    "* categories = ['A', 'B', 'C', 'D', 'E']\n",
    "* values = [7, 12, 4, 2, 9]\n",
    "* Label each as the letter from the categories parameter... i.e.  A, B, C ...\n"
   ]
  },
  {
   "cell_type": "code",
   "execution_count": 79,
   "id": "85b7c19c",
   "metadata": {},
   "outputs": [],
   "source": [
    "categories = ['A', 'B', 'C', 'D', 'E']\n",
    "values = [7, 12, 4, 2, 9]\n",
    "y_pos = np.arange(len(categories))"
   ]
  },
  {
   "cell_type": "code",
   "execution_count": 88,
   "id": "b399e183",
   "metadata": {
    "scrolled": true
   },
   "outputs": [
    {
     "data": {
      "image/png": "[encoded data removed]",
      "text/plain": [
       "<Figure size 144x144 with 1 Axes>"
      ]
     },
     "metadata": {
      "needs_background": "light"
     },
     "output_type": "display_data"
    }
   ],
   "source": [
    "plt.barh(y_pos,values)\n",
    "plt.yticks(y_pos,categories)\n",
    "plt.show()"
   ]
  },
  {
   "cell_type": "markdown",
   "id": "79120597",
   "metadata": {},
   "source": [
    "### Create a horizontal bar chart with these values :\n",
    "* Color = Blue, no edgecolor, height of 0.6, center aligned"
   ]
  },
  {
   "cell_type": "code",
   "execution_count": 91,
   "id": "e142e5b2",
   "metadata": {
    "scrolled": true
   },
   "outputs": [
    {
     "data": {
      "image/png": "[encoded data removed]",
      "text/plain": [
       "<Figure size 144x144 with 1 Axes>"
      ]
     },
     "metadata": {
      "needs_background": "light"
     },
     "output_type": "display_data"
    }
   ],
   "source": [
    "plt.barh(y_pos,values, color =\"blue\",edgecolor='none',height = 0.6,align ='center' )\n",
    "plt.yticks(y_pos,categories)\n",
    "plt.show()"
   ]
  },
  {
   "cell_type": "markdown",
   "id": "982dc970",
   "metadata": {},
   "source": [
    "## Create a pie chart\n",
    "* For the given counts = [17, 14]"
   ]
  },
  {
   "cell_type": "code",
   "execution_count": 101,
   "id": "4690100c",
   "metadata": {
    "scrolled": true
   },
   "outputs": [
    {
     "data": {
      "text/plain": [
       "([<matplotlib.patches.Wedge at 0x12ddfcfd0>,\n",
       "  <matplotlib.patches.Wedge at 0x12ddfe560>],\n",
       " [Text(-0.1665706012300369, 1.0873151497178102, '17'),\n",
       "  Text(0.16657060123003722, -1.0873151497178102, '14')])"
      ]
     },
     "execution_count": 101,
     "metadata": {},
     "output_type": "execute_result"
    },
    {
     "data": {
      "image/png": "[encoded data removed]",
      "text/plain": [
       "<Figure size 144x144 with 1 Axes>"
      ]
     },
     "metadata": {},
     "output_type": "display_data"
    }
   ],
   "source": [
    "counts =  [17, 14]\n",
    "lab = [\"17\",\"14\"]\n",
    "plt.pie(counts,shadow = True, labels= lab)"
   ]
  },
  {
   "cell_type": "markdown",
   "id": "35bb332a",
   "metadata": {},
   "source": [
    "### Create a pie chart for counts = [17, 14] using:\n",
    "* Colors of blue and orange\n",
    "* Labels of 'Category A' and 'Other categories'\n",
    "* Set the angle at 90\n",
    "* Set the percentage display format of 1.1"
   ]
  },
  {
   "cell_type": "code",
   "execution_count": 109,
   "id": "72dd5ffa",
   "metadata": {
    "scrolled": true
   },
   "outputs": [
    {
     "data": {
      "text/plain": [
       "([<matplotlib.patches.Wedge at 0x12e02cbb0>,\n",
       "  <matplotlib.patches.Wedge at 0x12e02d540>],\n",
       " [Text(-1.0873151497178102, -0.1665706012300368, 'Category A'),\n",
       "  Text(1.0873151497178102, 0.16657060123003717, 'Other categories')],\n",
       " [Text(-0.5930809907551692, -0.09085669158002008, '54.8%'),\n",
       "  Text(0.5930809907551692, 0.09085669158002026, '45.2%')])"
      ]
     },
     "execution_count": 109,
     "metadata": {},
     "output_type": "execute_result"
    },
    {
     "data": {
      "image/png": "[encoded data removed]",
      "text/plain": [
       "<Figure size 144x144 with 1 Axes>"
      ]
     },
     "metadata": {},
     "output_type": "display_data"
    }
   ],
   "source": [
    "counts =  [17, 14]\n",
    "colors = ['blue','orange']\n",
    "lab = [\"Category A\",\"Other categories\"]\n",
    "plt.pie(counts,shadow = True, labels= lab, colors = colors,startangle = 90, autopct='%1.1f%%')"
   ]
  },
  {
   "cell_type": "markdown",
   "id": "7dadb9f3",
   "metadata": {},
   "source": [
    "## Create a scatter plot for the given data"
   ]
  },
  {
   "cell_type": "code",
   "execution_count": null,
   "id": "e58856d9",
   "metadata": {},
   "outputs": [],
   "source": []
  }
 ],
 "metadata": {
  "kernelspec": {
   "display_name": "Python 3.10.4 64-bit",
   "language": "python",
   "name": "python3104jvsc74a57bd0aee8b7b246df8f9039afb4144a1f6fd8d2ca17a180786b69acc140d282b71a49"
  },
  "language_info": {
   "codemirror_mode": {
    "name": "ipython",
    "version": 3
   },
   "file_extension": ".py",
   "mimetype": "text/x-python",
   "name": "python",
   "nbconvert_exporter": "python",
   "pygments_lexer": "ipython3",
   "version": "3.10.4"
  }
 },
 "nbformat": 4,
 "nbformat_minor": 5
}
