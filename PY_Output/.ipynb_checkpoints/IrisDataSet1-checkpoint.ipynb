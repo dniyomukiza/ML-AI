{
 "cells": [
  {
   "cell_type": "code",
   "execution_count": 3,
   "id": "a1b2fd50",
   "metadata": {},
   "outputs": [],
   "source": [
    "#Importing libraries we need\n",
    "import numpy as np\n",
    "import matplotlib.pyplot as plt\n",
    "import pandas as pd\n",
    "import math"
   ]
  },
  {
   "cell_type": "code",
   "execution_count": 4,
   "id": "91496f6b",
   "metadata": {},
   "outputs": [
    {
     "data": {
      "text/html": [
       "<div>\n",
       "<style scoped>\n",
       "    .dataframe tbody tr th:only-of-type {\n",
       "        vertical-align: middle;\n",
       "    }\n",
       "\n",
       "    .dataframe tbody tr th {\n",
       "        vertical-align: top;\n",
       "    }\n",
       "\n",
       "    .dataframe thead th {\n",
       "        text-align: right;\n",
       "    }\n",
       "</style>\n",
       "<table border=\"1\" class=\"dataframe\">\n",
       "  <thead>\n",
       "    <tr style=\"text-align: right;\">\n",
       "      <th></th>\n",
       "      <th>sepal_length</th>\n",
       "      <th>sepal_width</th>\n",
       "      <th>petal_length</th>\n",
       "      <th>petal_width</th>\n",
       "      <th>species</th>\n",
       "    </tr>\n",
       "  </thead>\n",
       "  <tbody>\n",
       "    <tr>\n",
       "      <th>0</th>\n",
       "      <td>5.1</td>\n",
       "      <td>3.5</td>\n",
       "      <td>1.4</td>\n",
       "      <td>0.2</td>\n",
       "      <td>setosa</td>\n",
       "    </tr>\n",
       "    <tr>\n",
       "      <th>1</th>\n",
       "      <td>4.9</td>\n",
       "      <td>3.0</td>\n",
       "      <td>1.4</td>\n",
       "      <td>0.2</td>\n",
       "      <td>setosa</td>\n",
       "    </tr>\n",
       "    <tr>\n",
       "      <th>2</th>\n",
       "      <td>4.7</td>\n",
       "      <td>3.2</td>\n",
       "      <td>1.3</td>\n",
       "      <td>0.2</td>\n",
       "      <td>setosa</td>\n",
       "    </tr>\n",
       "    <tr>\n",
       "      <th>3</th>\n",
       "      <td>4.6</td>\n",
       "      <td>3.1</td>\n",
       "      <td>1.5</td>\n",
       "      <td>0.2</td>\n",
       "      <td>setosa</td>\n",
       "    </tr>\n",
       "    <tr>\n",
       "      <th>4</th>\n",
       "      <td>5.0</td>\n",
       "      <td>3.6</td>\n",
       "      <td>1.4</td>\n",
       "      <td>0.2</td>\n",
       "      <td>setosa</td>\n",
       "    </tr>\n",
       "  </tbody>\n",
       "</table>\n",
       "</div>"
      ],
      "text/plain": [
       "   sepal_length  sepal_width  petal_length  petal_width species\n",
       "0           5.1          3.5           1.4          0.2  setosa\n",
       "1           4.9          3.0           1.4          0.2  setosa\n",
       "2           4.7          3.2           1.3          0.2  setosa\n",
       "3           4.6          3.1           1.5          0.2  setosa\n",
       "4           5.0          3.6           1.4          0.2  setosa"
      ]
     },
     "execution_count": 4,
     "metadata": {},
     "output_type": "execute_result"
    }
   ],
   "source": [
    "#import and read data\n",
    "irisData = pd.read_csv('iris.csv')\n",
    "#Read the top 5 using head function\n",
    "irisData.head()\n"
   ]
  },
  {
   "cell_type": "code",
   "execution_count": 5,
   "id": "55b38015",
   "metadata": {},
   "outputs": [
    {
     "data": {
      "text/plain": [
       "(150, 5)"
      ]
     },
     "execution_count": 5,
     "metadata": {},
     "output_type": "execute_result"
    }
   ],
   "source": [
    "#How many columns and rows does our shape have?\n",
    "irisData.shape"
   ]
  },
  {
   "cell_type": "code",
   "execution_count": 6,
   "id": "ead90491",
   "metadata": {},
   "outputs": [
    {
     "data": {
      "text/html": [
       "<div>\n",
       "<style scoped>\n",
       "    .dataframe tbody tr th:only-of-type {\n",
       "        vertical-align: middle;\n",
       "    }\n",
       "\n",
       "    .dataframe tbody tr th {\n",
       "        vertical-align: top;\n",
       "    }\n",
       "\n",
       "    .dataframe thead th {\n",
       "        text-align: right;\n",
       "    }\n",
       "</style>\n",
       "<table border=\"1\" class=\"dataframe\">\n",
       "  <thead>\n",
       "    <tr style=\"text-align: right;\">\n",
       "      <th></th>\n",
       "      <th>sepal_length</th>\n",
       "      <th>sepal_width</th>\n",
       "      <th>petal_length</th>\n",
       "      <th>petal_width</th>\n",
       "    </tr>\n",
       "  </thead>\n",
       "  <tbody>\n",
       "    <tr>\n",
       "      <th>count</th>\n",
       "      <td>150.000000</td>\n",
       "      <td>150.000000</td>\n",
       "      <td>150.000000</td>\n",
       "      <td>150.000000</td>\n",
       "    </tr>\n",
       "    <tr>\n",
       "      <th>mean</th>\n",
       "      <td>5.843333</td>\n",
       "      <td>3.054000</td>\n",
       "      <td>3.758667</td>\n",
       "      <td>1.198667</td>\n",
       "    </tr>\n",
       "    <tr>\n",
       "      <th>std</th>\n",
       "      <td>0.828066</td>\n",
       "      <td>0.433594</td>\n",
       "      <td>1.764420</td>\n",
       "      <td>0.763161</td>\n",
       "    </tr>\n",
       "    <tr>\n",
       "      <th>min</th>\n",
       "      <td>4.300000</td>\n",
       "      <td>2.000000</td>\n",
       "      <td>1.000000</td>\n",
       "      <td>0.100000</td>\n",
       "    </tr>\n",
       "    <tr>\n",
       "      <th>25%</th>\n",
       "      <td>5.100000</td>\n",
       "      <td>2.800000</td>\n",
       "      <td>1.600000</td>\n",
       "      <td>0.300000</td>\n",
       "    </tr>\n",
       "    <tr>\n",
       "      <th>50%</th>\n",
       "      <td>5.800000</td>\n",
       "      <td>3.000000</td>\n",
       "      <td>4.350000</td>\n",
       "      <td>1.300000</td>\n",
       "    </tr>\n",
       "    <tr>\n",
       "      <th>75%</th>\n",
       "      <td>6.400000</td>\n",
       "      <td>3.300000</td>\n",
       "      <td>5.100000</td>\n",
       "      <td>1.800000</td>\n",
       "    </tr>\n",
       "    <tr>\n",
       "      <th>max</th>\n",
       "      <td>7.900000</td>\n",
       "      <td>4.400000</td>\n",
       "      <td>6.900000</td>\n",
       "      <td>2.500000</td>\n",
       "    </tr>\n",
       "  </tbody>\n",
       "</table>\n",
       "</div>"
      ],
      "text/plain": [
       "       sepal_length  sepal_width  petal_length  petal_width\n",
       "count    150.000000   150.000000    150.000000   150.000000\n",
       "mean       5.843333     3.054000      3.758667     1.198667\n",
       "std        0.828066     0.433594      1.764420     0.763161\n",
       "min        4.300000     2.000000      1.000000     0.100000\n",
       "25%        5.100000     2.800000      1.600000     0.300000\n",
       "50%        5.800000     3.000000      4.350000     1.300000\n",
       "75%        6.400000     3.300000      5.100000     1.800000\n",
       "max        7.900000     4.400000      6.900000     2.500000"
      ]
     },
     "execution_count": 6,
     "metadata": {},
     "output_type": "execute_result"
    }
   ],
   "source": [
    "#Get descriptive statistics\n",
    "descriStats = irisData.describe()\n",
    "descriStats"
   ]
  },
  {
   "cell_type": "code",
   "execution_count": 7,
   "id": "3bf31238",
   "metadata": {
    "scrolled": true
   },
   "outputs": [
    {
     "data": {
      "text/plain": [
       "species\n",
       "setosa        50\n",
       "versicolor    50\n",
       "virginica     50\n",
       "Name: species, dtype: int64"
      ]
     },
     "execution_count": 7,
     "metadata": {},
     "output_type": "execute_result"
    }
   ],
   "source": [
    "#Display species we have and count how many each has\n",
    "irisData.groupby('species').species.count()"
   ]
  },
  {
   "cell_type": "code",
   "execution_count": 8,
   "id": "bc7c577c",
   "metadata": {
    "scrolled": true
   },
   "outputs": [
    {
     "data": {
      "image/png": "[encoded data removed]",
      "text/plain": [
       "<Figure size 432x288 with 4 Axes>"
      ]
     },
     "metadata": {
      "needs_background": "light"
     },
     "output_type": "display_data"
    }
   ],
   "source": [
    "# Visualize each attribute using histograms\n",
    "hists = irisData.hist(bins=10)\n"
   ]
  },
  {
   "cell_type": "code",
   "execution_count": 9,
   "id": "18a4554d",
   "metadata": {
    "scrolled": true
   },
   "outputs": [
    {
     "data": {
      "text/plain": [
       "Text(0.5, 1.0, 'Petal')"
      ]
     },
     "execution_count": 9,
     "metadata": {},
     "output_type": "execute_result"
    },
    {
     "data": {
      "image/png": "[encoded data removed]",
      "text/plain": [
       "<Figure size 432x288 with 2 Axes>"
      ]
     },
     "metadata": {
      "needs_background": "light"
     },
     "output_type": "display_data"
    }
   ],
   "source": [
    "fig,(axSep,axPet) = plt.subplots(nrows = 1,ncols = 2)\n",
    "axSep.plot(irisData['sepal_length'], color='green', marker='o', linestyle='solid', markersize=0,label='length')\n",
    "axSep.plot(irisData['sepal_width'], color='red', marker='o', linestyle='solid', markersize=0,label='width')\n",
    "axPet.plot(irisData['petal_length'], color='blue', marker='o', linestyle='solid', markersize=0,label='length')\n",
    "axPet.plot(irisData['petal_width'], color='orange', marker='o', linestyle='solid', markersize=0,label='width')\n",
    "axSep.legend()\n",
    "axPet.legend()\n",
    "axPet.set_title('Petal')\n",
    "axSep.set_title('Petal')\n"
   ]
  },
  {
   "cell_type": "markdown",
   "id": "72e81bb2",
   "metadata": {},
   "source": [
    "#### Get the sample mean of Sepal data"
   ]
  },
  {
   "cell_type": "code",
   "execution_count": 10,
   "id": "c1623822",
   "metadata": {},
   "outputs": [],
   "source": [
    "sepLength = irisData['sepal_length']"
   ]
  },
  {
   "cell_type": "code",
   "execution_count": 11,
   "id": "19de5d1c",
   "metadata": {},
   "outputs": [
    {
     "name": "stdout",
     "output_type": "stream",
     "text": [
      "The sample mean of Sepal length data is :  5.84\n"
     ]
    }
   ],
   "source": [
    "count = 0\n",
    "for i in sepLength:\n",
    "    count = count + i\n",
    "sepal_len_mean = round((count/sepLength.count()),2)    \n",
    "print('The sample mean of Sepal length data is : ',sepal_len_mean)"
   ]
  },
  {
   "cell_type": "markdown",
   "id": "29a4b1f5",
   "metadata": {},
   "source": [
    "#### Now let's calculate the coefficient of variation in sepal lenth data"
   ]
  },
  {
   "cell_type": "code",
   "execution_count": 12,
   "id": "a656b14f",
   "metadata": {
    "scrolled": true
   },
   "outputs": [],
   "source": [
    "sepal_length_sdv = descriStats.iloc[2:3,0]\n",
    "sepal_length_sdv = float(sepal_length_sdv)"
   ]
  },
  {
   "cell_type": "code",
   "execution_count": 13,
   "id": "0946d568",
   "metadata": {},
   "outputs": [],
   "source": [
    "coeff_of_var = (sepal_length_sdv/sepal_len_mean)*100"
   ]
  },
  {
   "cell_type": "code",
   "execution_count": 14,
   "id": "35821eb6",
   "metadata": {
    "scrolled": true
   },
   "outputs": [
    {
     "name": "stdout",
     "output_type": "stream",
     "text": [
      "The coefficient of variation in sepal lenth data is equal 14 %\n"
     ]
    }
   ],
   "source": [
    "print('The coefficient of variation in sepal lenth data is equal', math.floor(coeff_of_var),'%')"
   ]
  },
  {
   "cell_type": "markdown",
   "id": "4bc6949d",
   "metadata": {},
   "source": [
    "### Apply Chevychev rule of intervals"
   ]
  },
  {
   "cell_type": "code",
   "execution_count": 15,
   "id": "85a00c44",
   "metadata": {},
   "outputs": [],
   "source": [
    "lowerLimit1 = round(sepal_len_mean - (3*sepal_length_sdv),2)\n",
    "upperLimit1 = round(sepal_len_mean + (3*sepal_length_sdv),2)\n",
    "lowerLimit2 = round(sepal_len_mean - (2*sepal_length_sdv),2)\n",
    "upperLimit2 = round(sepal_len_mean + (2*sepal_length_sdv),2)\n",
    "lowerLimit3 = round(sepal_len_mean - (4*sepal_length_sdv),2)\n",
    "upperLimit3 = round(sepal_len_mean + (4*sepal_length_sdv),2)"
   ]
  },
  {
   "cell_type": "code",
   "execution_count": 16,
   "id": "d96579ae",
   "metadata": {
    "scrolled": false
   },
   "outputs": [
    {
     "ename": "NameError",
     "evalue": "name 'lowerLimit' is not defined",
     "output_type": "error",
     "traceback": [
      "\u001b[0;31m---------------------------------------------------------------------------\u001b[0m",
      "\u001b[0;31mNameError\u001b[0m                                 Traceback (most recent call last)",
      "Input \u001b[0;32mIn [16]\u001b[0m, in \u001b[0;36m<cell line: 1>\u001b[0;34m()\u001b[0m\n\u001b[0;32m----> 1\u001b[0m \u001b[38;5;28mprint\u001b[39m(\u001b[38;5;124m'\u001b[39m\u001b[38;5;124m 88.9\u001b[39m\u001b[38;5;132;01m% o\u001b[39;00m\u001b[38;5;124mf sepal lenth data is between \u001b[39m\u001b[38;5;124m'\u001b[39m,\u001b[43mlowerLimit\u001b[49m, \u001b[38;5;124m'\u001b[39m\u001b[38;5;124mand \u001b[39m\u001b[38;5;124m'\u001b[39m,upperLimit,\u001b[38;5;124m'\u001b[39m\u001b[38;5;130;01m\\n\u001b[39;00m\u001b[38;5;124m 75\u001b[39m\u001b[38;5;132;01m% o\u001b[39;00m\u001b[38;5;124mf sepal lenth data is between \u001b[39m\u001b[38;5;124m'\u001b[39m,lowerLimit2, \u001b[38;5;124m'\u001b[39m\u001b[38;5;124mand \u001b[39m\u001b[38;5;124m'\u001b[39m,upperLimit2, \n\u001b[1;32m      2\u001b[0m       \u001b[38;5;124m'\u001b[39m\u001b[38;5;130;01m\\n\u001b[39;00m\u001b[38;5;124m 93.8\u001b[39m\u001b[38;5;132;01m% o\u001b[39;00m\u001b[38;5;124mf sepal lenth data is between \u001b[39m\u001b[38;5;124m'\u001b[39m,lowerLimit3, \u001b[38;5;124m'\u001b[39m\u001b[38;5;124mand \u001b[39m\u001b[38;5;124m'\u001b[39m,upperLimit3)\n",
      "\u001b[0;31mNameError\u001b[0m: name 'lowerLimit' is not defined"
     ]
    }
   ],
   "source": [
    "print(' 88.9% of sepal lenth data is between ',lowerLimit, 'and ',upperLimit,'\\n 75% of sepal lenth data is between ',lowerLimit2, 'and ',upperLimit2, \n",
    "      '\\n 93.8% of sepal lenth data is between ',lowerLimit3, 'and ',upperLimit3)"
   ]
  },
  {
   "cell_type": "markdown",
   "id": "61177946",
   "metadata": {},
   "source": [
    "### Display how much data in 1st,second,and 3rd interval from the mean"
   ]
  },
  {
   "cell_type": "code",
   "execution_count": 17,
   "id": "b6e1d1ad",
   "metadata": {},
   "outputs": [
    {
     "data": {
      "image/png": "[encoded data removed]",
      "text/plain": [
       "<Figure size 432x288 with 1 Axes>"
      ]
     },
     "metadata": {},
     "output_type": "display_data"
    }
   ],
   "source": [
    "counts = [ 88.9,75,93 ]\n",
    "lab = [\"1st\",\"2nd\",\"3rd\"]\n",
    "plt.pie(counts,shadow = True, labels= lab);"
   ]
  },
  {
   "cell_type": "markdown",
   "id": "76db04e7",
   "metadata": {},
   "source": [
    "### Calculate percentiles using quantile function"
   ]
  },
  {
   "cell_type": "code",
   "execution_count": 18,
   "id": "9c6fb185",
   "metadata": {
    "scrolled": false
   },
   "outputs": [
    {
     "data": {
      "text/plain": [
       "0.25    2.8\n",
       "0.50    3.0\n",
       "0.75    3.3\n",
       "Name: sepal_width, dtype: float64"
      ]
     },
     "execution_count": 18,
     "metadata": {},
     "output_type": "execute_result"
    }
   ],
   "source": [
    " quantiles = irisData['sepal_width'].quantile(q =[0.25, 0.5,0.75])\n",
    "quantiles"
   ]
  },
  {
   "cell_type": "markdown",
   "id": "1afe439e",
   "metadata": {},
   "source": [
    "##### Calculate the IQR(upper-lower value of 75th percentile in this case minus the 25th)\n"
   ]
  },
  {
   "cell_type": "code",
   "execution_count": 19,
   "id": "edc05126",
   "metadata": {},
   "outputs": [
    {
     "name": "stdout",
     "output_type": "stream",
     "text": [
      "The interquartile range on sepal with data is:  0.5\n"
     ]
    }
   ],
   "source": [
    "iqrSeries = quantiles.to_numpy()\n",
    "for i in range(len(iqrSeries)):\n",
    "    iqr = iqrSeries[2]-iqrSeries[0]\n",
    "print('The interquartile range on sepal with data is: ',iqr)"
   ]
  },
  {
   "cell_type": "markdown",
   "id": "55faadb1",
   "metadata": {},
   "source": [
    "#### Box plot petal width column using quartile values"
   ]
  },
  {
   "cell_type": "code",
   "execution_count": 20,
   "id": "0b54081b",
   "metadata": {
    "scrolled": false
   },
   "outputs": [
    {
     "data": {
      "image/png": "[encoded data removed]",
      "text/plain": [
       "<Figure size 432x288 with 1 Axes>"
      ]
     },
     "metadata": {
      "needs_background": "light"
     },
     "output_type": "display_data"
    }
   ],
   "source": [
    "sepLength = irisData['sepal_length']\n",
    "plt.boxplot(iqrSeries)\n",
    "plt.show()\n",
    "#the range in sepal width is less than the range in sepal length data set "
   ]
  },
  {
   "cell_type": "code",
   "execution_count": 21,
   "id": "3436cbe4",
   "metadata": {},
   "outputs": [
    {
     "data": {
      "image/png": "[encoded data removed]",
      "text/plain": [
       "<Figure size 432x288 with 1 Axes>"
      ]
     },
     "metadata": {
      "needs_background": "light"
     },
     "output_type": "display_data"
    }
   ],
   "source": [
    "plt.boxplot(sepLength)\n",
    "plt.show()\n",
    "# We can take conclusion that legth data foe sepal is more spread out based on the box plots and range values\n",
    "#Also from the box plot we can tell the minimums,maximums and medias of data set\n"
   ]
  },
  {
   "cell_type": "code",
   "execution_count": 22,
   "id": "d06c72c3",
   "metadata": {},
   "outputs": [
    {
     "name": "stdout",
     "output_type": "stream",
     "text": [
      "17.33 % of sepal width data is equal to 3.0\n"
     ]
    }
   ],
   "source": [
    "#sepal width equal 3.0 constistute how much percent of the whole sepla with data set?\n",
    "sepWidth = irisData['sepal_width']\n",
    "count = 0\n",
    "for i in range(len(sepWidth)):\n",
    "    if sepWidth[i] == 3.0:\n",
    "        count = count + 1\n",
    "print(round((count/len(sepWidth)*100),2),'% of sepal width data is equal to 3.0')\n",
    "        \n"
   ]
  },
  {
   "cell_type": "markdown",
   "id": "5326f453",
   "metadata": {},
   "source": [
    "## End"
   ]
  }
 ],
 "metadata": {
  "kernelspec": {
   "display_name": "Python 3.10.4 64-bit",
   "language": "python",
   "name": "python3104jvsc74a57bd0aee8b7b246df8f9039afb4144a1f6fd8d2ca17a180786b69acc140d282b71a49"
  },
  "language_info": {
   "codemirror_mode": {
    "name": "ipython",
    "version": 3
   },
   "file_extension": ".py",
   "mimetype": "text/x-python",
   "name": "python",
   "nbconvert_exporter": "python",
   "pygments_lexer": "ipython3",
   "version": "3.10.4"
  }
 },
 "nbformat": 4,
 "nbformat_minor": 5
}
