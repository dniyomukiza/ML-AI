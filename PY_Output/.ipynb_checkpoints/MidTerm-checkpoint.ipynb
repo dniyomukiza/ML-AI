{
 "cells": [
  {
   "cell_type": "markdown",
   "id": "207940f9",
   "metadata": {},
   "source": [
    "# The currency converter program"
   ]
  },
  {
   "cell_type": "markdown",
   "id": "63eabe60",
   "metadata": {},
   "source": [
    "\n",
    "\n",
    "\n",
    "#### User guide\n",
    "\n",
    "1. The program will keep asking for an input if user enters the country that is not part of the list or if he/she   mistypes the name of the country\n",
    "2. After country input, program asks how much money in USD you are willing to send \n",
    "3. Program will display how much you have to pay including service fees, how much recipient gets in a foreign currency\n",
    "   and the new balance on your account.\n",
    "4. The program will shutdown if user fails enter a correct amount for a second time"
   ]
  },
  {
   "cell_type": "code",
   "execution_count": 23,
   "id": "576fca56",
   "metadata": {},
   "outputs": [],
   "source": [
    "#create a dictionary to hold countries and their respective value agains US dollar\n",
    "currencies = {'Australia':'1.44','Canada':'1.30 ','China':'6.72158 ','Denmark':'07.04 ','Great Britain':'0.82 ','Hong Kong':'7.85'\n",
    "             ,'Japan':'135.88','Mexico':'20.07 ','New Zealand':'1.59','Norway':'9.92','Singapore':'01.39','Sweden':'10.19 '\n",
    "             ,'Switzeland':'0.96','Thailand':'35.45'}\n"
   ]
  },
  {
   "cell_type": "code",
   "execution_count": 24,
   "id": "36a8deee",
   "metadata": {},
   "outputs": [],
   "source": [
    "#create list that contains the foreign currencies\n",
    "names=['Australian Dollar','Canadian Dollar','Chinese Yuan','Danish Krone','British Pound','Hong Kong Dollar','Japanese Yen','Mexican Peso','New Zealand Dollar','Norwegian Krone','Singapore Dollar','Swedish Krona','Swiss Franc','Thai Baht']\n"
   ]
  },
  {
   "cell_type": "code",
   "execution_count": 25,
   "id": "6ed49c3f",
   "metadata": {},
   "outputs": [],
   "source": [
    "#User starts with $2000 balance on the account\n",
    "totalBalance = 2000"
   ]
  },
  {
   "cell_type": "code",
   "execution_count": 26,
   "id": "48871f4b",
   "metadata": {},
   "outputs": [
    {
     "name": "stdout",
     "output_type": "stream",
     "text": [
      "Australia\n",
      "Canada\n",
      "China\n",
      "Denmark\n",
      "Great Britain\n",
      "Hong Kong\n",
      "Japan\n",
      "Mexico\n",
      "New Zealand\n",
      "Norway\n",
      "Singapore\n",
      "Sweden\n",
      "Switzeland\n",
      "Thailand\n"
     ]
    }
   ],
   "source": [
    "#Display the list of destination countries user chooses from\n",
    "for key in currencies:\n",
    "    print(key)\n",
    "\n"
   ]
  },
  {
   "cell_type": "code",
   "execution_count": 27,
   "id": "5ec68833",
   "metadata": {},
   "outputs": [
    {
     "name": "stdout",
     "output_type": "stream",
     "text": [
      "\n",
      "Choose destination country from the list above and type it as it appears\n",
      "Sweden\n",
      "How much do you want to send? \n",
      "1000\n"
     ]
    }
   ],
   "source": [
    "#prompt user to enter the country\n",
    "countryTo= input(\"\\nChoose destination country from the list above and type it as it appears\\n\")\n",
    "\n",
    "#If user enters wrong input, program will keep ask\n",
    "while countryTo not in currencies:\n",
    "    countryTo= input(\"\\nChoose destination country from the list above and type it as it appears\\n\")\n",
    "     \n",
    "# After country input, enter how much in USD you would like to send\n",
    "amountTosend= input(\"How much do you want to send? \\n\")\n",
    "\n",
    "#If the amount your are sending plus service fees(5% of the amount) is less\n",
    "maxAmount = int(amountTosend)+ int(amountTosend) * 0.05\n",
    "if maxAmount > totalBalance:\n",
    "    print(\"Insuffient balance!\")\n",
    "    \n",
    "    #Program gives user a second chance to enter a correct amount\n",
    "    amountTosend= input(\"How much do you want to send? \\n\")\n",
    "    \n",
    "    #program will shutdow if user fails to enter correct amount for a second time\n",
    "    exit()"
   ]
  },
  {
   "cell_type": "code",
   "execution_count": 28,
   "id": "f7b5ebd5",
   "metadata": {},
   "outputs": [],
   "source": [
    "#Calculate how much the recipient will recieve in their local currency\n",
    "def receive_amount(amountTosend):\n",
    "    serviceFee = int(amountTosend)* 0.05\n",
    "    totalPayment = int(amountTosend) + serviceFee\n",
    "    return totalPayment"
   ]
  },
  {
   "cell_type": "code",
   "execution_count": 32,
   "id": "19f4342a",
   "metadata": {},
   "outputs": [],
   "source": [
    "#Calculate the new balance on sender's acoount\n",
    "def balance_function():\n",
    "    withdrawInput= amountTosend\n",
    "    new_Balance=  totalBalance-maxAmount\n",
    "    print(\"And the new balance on your account is: \\n\",\"\\033[1m\"+\"${:,.2f}\".format(new_Balance)+\"\\033[0m\")"
   ]
  },
  {
   "cell_type": "code",
   "execution_count": 33,
   "id": "351fba96",
   "metadata": {
    "scrolled": true
   },
   "outputs": [],
   "source": [
    "#Get the name of a foreign currency depending on country input\n",
    "name = ''\n",
    "def return_currency(name):\n",
    "    \n",
    "    if countryTo == 'Australia'or countryTo =='Canada' or countryTo =='Singapore'or countryTo =='Hong Kong'or countryTo =='New Zealand':\n",
    "        name = names[0]\n",
    "    elif countryTo == 'China':\n",
    "        name = names[2]\n",
    "    elif countryTo== 'Great Britain':\n",
    "        name = names[4] \n",
    "    elif countryTo == 'Japan':\n",
    "        name = names[6] \n",
    "    elif countryTo == 'Mexico':\n",
    "        name = names[7] \n",
    "    elif countryTo == 'Norway'or countryTo =='Dennmark':\n",
    "        name = names[9]\n",
    "    elif countryTo == 'Sweden':\n",
    "        name = names[11] \n",
    "    elif countryTo =='Switzeland':\n",
    "        name = names[12]\n",
    "    elif countryTo =='Thailand':\n",
    "        name = names[13]\n",
    "\n",
    "    return name \n",
    "    \n",
    "\n"
   ]
  },
  {
   "cell_type": "code",
   "execution_count": 34,
   "id": "3d5e0aeb",
   "metadata": {},
   "outputs": [
    {
     "name": "stdout",
     "output_type": "stream",
     "text": [
      "Your total payment including service fee is: \n",
      " \u001b[1m$1,050.00\u001b[0m\n",
      "Your recipient will recieve:\n",
      " \u001b[1mSwedish Krona\u001b[0m \u001b[1m10,190.00\u001b[0m\n",
      "And the new balance on your account is: \n",
      " \u001b[1m$950.00\u001b[0m\n"
     ]
    }
   ],
   "source": [
    "#Formatted final output\n",
    "print(\"Your total payment including service fee is: \\n\",\"\\033[1m\"+\"${:,.2f}\".format(receive_amount(amountTosend))+\"\\033[0m\")\n",
    "recipient_amount = round(float(currencies[countryTo])*float(amountTosend),2)\n",
    "print(\"Your recipient will recieve:\\n\",\"\\033[1m\"+return_currency(countryTo)+\"\\033[0m\", \"\\033[1m\"+\"{:,.2f}\".format(recipient_amount)+\"\\033[0m\")\n",
    "    \n",
    "balance_function()\n"
   ]
  },
  {
   "cell_type": "markdown",
   "id": "c40317a9",
   "metadata": {},
   "source": [
    "# Program ends"
   ]
  }
 ],
 "metadata": {
  "kernelspec": {
   "display_name": "Python 3.10.4 64-bit",
   "language": "python",
   "name": "python3104jvsc74a57bd0aee8b7b246df8f9039afb4144a1f6fd8d2ca17a180786b69acc140d282b71a49"
  },
  "language_info": {
   "codemirror_mode": {
    "name": "ipython",
    "version": 3
   },
   "file_extension": ".py",
   "mimetype": "text/x-python",
   "name": "python",
   "nbconvert_exporter": "python",
   "pygments_lexer": "ipython3",
   "version": "3.10.4"
  }
 },
 "nbformat": 4,
 "nbformat_minor": 5
}
