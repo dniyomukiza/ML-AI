{
 "cells": [
  {
   "cell_type": "code",
   "execution_count": 9,
   "id": "2ac3ae88",
   "metadata": {},
   "outputs": [
    {
     "data": {
      "text/plain": [
       "'sorry,number must be greater or equal to zero'"
      ]
     },
     "execution_count": 9,
     "metadata": {},
     "output_type": "execute_result"
    }
   ],
   "source": [
    "num = 0\n",
    "def factorial_function(num):\n",
    "    \n",
    "    if num < 0:\n",
    "        return\"sorry,number must be greater or equal to zero\"\n",
    "    if num == 0 or num == 1:\n",
    "        factorial = 1\n",
    "    else:\n",
    "        factorial = num * factorial_function(num-1)\n",
    "    return factorial\n",
    "\n",
    "factorial_function(-8)"
   ]
  },
  {
   "cell_type": "code",
   "execution_count": null,
   "id": "2cd3437d",
   "metadata": {},
   "outputs": [
    {
     "name": "stdout",
     "output_type": "stream",
     "text": [
      "1\n",
      "1\n",
      "2\n",
      "3\n",
      "5\n",
      "8\n",
      "13\n",
      "21\n",
      "34\n",
      "55\n",
      "89\n",
      "144\n",
      "233\n",
      "377\n",
      "610\n",
      "987\n",
      "1597\n",
      "2584\n",
      "4181\n",
      "6765\n",
      "10946\n",
      "17711\n",
      "28657\n",
      "46368\n",
      "75025\n",
      "121393\n",
      "196418\n",
      "317811\n",
      "514229\n",
      "832040\n",
      "1346269\n",
      "2178309\n",
      "3524578\n",
      "5702887\n",
      "9227465\n",
      "14930352\n",
      "24157817\n",
      "39088169\n",
      "63245986\n",
      "102334155\n"
     ]
    }
   ],
   "source": [
    "def fibonnaci_function(numberX):\n",
    "    if numberX == 1:\n",
    "        return 1\n",
    "    elif numberX == 2:\n",
    "        return 1\n",
    "    elif numberX > 2:\n",
    "        return fibonnaci_function(numberX -1) + fibonnaci_function(numberX -2)\n",
    "fibonnaci_function(5)\n",
    "for i in range(1,100):\n",
    "    print(fibonnaci_function(i))  "
   ]
  },
  {
   "cell_type": "code",
   "execution_count": null,
   "id": "167a2d57",
   "metadata": {},
   "outputs": [],
   "source": []
  }
 ],
 "metadata": {
  "kernelspec": {
   "display_name": "Python 3.10.4 64-bit",
   "language": "python",
   "name": "python3104jvsc74a57bd0aee8b7b246df8f9039afb4144a1f6fd8d2ca17a180786b69acc140d282b71a49"
  },
  "language_info": {
   "codemirror_mode": {
    "name": "ipython",
    "version": 3
   },
   "file_extension": ".py",
   "mimetype": "text/x-python",
   "name": "python",
   "nbconvert_exporter": "python",
   "pygments_lexer": "ipython3",
   "version": "3.10.4"
  }
 },
 "nbformat": 4,
 "nbformat_minor": 5
}
