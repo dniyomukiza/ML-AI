{
 "cells": [
  {
   "cell_type": "code",
   "execution_count": 1,
   "id": "14732780",
   "metadata": {
    "scrolled": true
   },
   "outputs": [],
   "source": [
    "import pandas as pd \n",
    "import matplotlib.pyplot as plt\n",
    "import pandas as pd\n",
    "\n"
   ]
  },
  {
   "cell_type": "code",
   "execution_count": 2,
   "id": "c41e43e2",
   "metadata": {},
   "outputs": [],
   "source": [
    "df = pd.read_csv('UseOfForce_Type_OpenData_HOSTED.csv')\n"
   ]
  },
  {
   "cell_type": "code",
   "execution_count": 3,
   "id": "88dba0ff",
   "metadata": {
    "scrolled": true
   },
   "outputs": [],
   "source": [
    "#Deleted columns we don't need\n",
    "df_col = df.drop(['OBJECTID', 'Incident_Type','Date_Occurred','Date_Received','File_Number','RowNumber','Investigation_Status','Disposition','Citizen_Arrested','Report_Type','Cit_Infl_Assmt'], axis=1)"
   ]
  },
  {
   "cell_type": "code",
   "execution_count": 4,
   "id": "c4a9851f",
   "metadata": {},
   "outputs": [],
   "source": [
    "#removing rows with missing values\n",
    "df_col.dropna(inplace=True)"
   ]
  },
  {
   "cell_type": "code",
   "execution_count": 5,
   "id": "3fca603e",
   "metadata": {},
   "outputs": [],
   "source": [
    "#Removing rows we dont need\n",
    "df_col = df_col.drop(index = df_col[df_col['Sex']=='No Sex Listed'].index)\n",
    "df_col = df_col.drop(index = df_col[df_col['Race']=='No Race Listed'].index)\n",
    "df_col = df_col.drop(index = df_col[df_col['Sex']=='No sex'].index)\n",
    "df_col = df_col.drop(index = df_col[df_col['Race']=='No Race'].index)\n",
    "df_col = df_col.drop(index = df_col[df_col['Force_Used']=='Other'].index)\n",
    "df_col = df_col.drop(index = df_col[df_col['UseOfForce_Reason']=='Other'].index)"
   ]
  },
  {
   "cell_type": "code",
   "execution_count": 6,
   "id": "25ecfd9a",
   "metadata": {},
   "outputs": [
    {
     "data": {
      "text/html": [
       "<div>\n",
       "<style scoped>\n",
       "    .dataframe tbody tr th:only-of-type {\n",
       "        vertical-align: middle;\n",
       "    }\n",
       "\n",
       "    .dataframe tbody tr th {\n",
       "        vertical-align: top;\n",
       "    }\n",
       "\n",
       "    .dataframe thead th {\n",
       "        text-align: right;\n",
       "    }\n",
       "</style>\n",
       "<table border=\"1\" class=\"dataframe\">\n",
       "  <thead>\n",
       "    <tr style=\"text-align: right;\">\n",
       "      <th></th>\n",
       "      <th>UseOfForce_Reason</th>\n",
       "      <th>Citizen_Injured</th>\n",
       "      <th>Officer_Injured</th>\n",
       "      <th>Sex</th>\n",
       "      <th>Race</th>\n",
       "      <th>Citizen_Age</th>\n",
       "      <th>Year</th>\n",
       "      <th>Force_Used</th>\n",
       "    </tr>\n",
       "  </thead>\n",
       "  <tbody>\n",
       "    <tr>\n",
       "      <th>0</th>\n",
       "      <td>Combative</td>\n",
       "      <td>Yes</td>\n",
       "      <td>No</td>\n",
       "      <td>Female</td>\n",
       "      <td>White</td>\n",
       "      <td>26-35</td>\n",
       "      <td>2018</td>\n",
       "      <td>Physical Force</td>\n",
       "    </tr>\n",
       "    <tr>\n",
       "      <th>1</th>\n",
       "      <td>Combative</td>\n",
       "      <td>Yes</td>\n",
       "      <td>No</td>\n",
       "      <td>Female</td>\n",
       "      <td>White</td>\n",
       "      <td>26-35</td>\n",
       "      <td>2018</td>\n",
       "      <td>Physical Force</td>\n",
       "    </tr>\n",
       "    <tr>\n",
       "      <th>2</th>\n",
       "      <td>Combative</td>\n",
       "      <td>No</td>\n",
       "      <td>No</td>\n",
       "      <td>Male</td>\n",
       "      <td>White</td>\n",
       "      <td>26-35</td>\n",
       "      <td>2018</td>\n",
       "      <td>Physical Force</td>\n",
       "    </tr>\n",
       "    <tr>\n",
       "      <th>3</th>\n",
       "      <td>Combative</td>\n",
       "      <td>No</td>\n",
       "      <td>No</td>\n",
       "      <td>Male</td>\n",
       "      <td>White</td>\n",
       "      <td>26-35</td>\n",
       "      <td>2018</td>\n",
       "      <td>Physical Force</td>\n",
       "    </tr>\n",
       "    <tr>\n",
       "      <th>4</th>\n",
       "      <td>Combative</td>\n",
       "      <td>Yes</td>\n",
       "      <td>Yes</td>\n",
       "      <td>Male</td>\n",
       "      <td>Black</td>\n",
       "      <td>36-45</td>\n",
       "      <td>2018</td>\n",
       "      <td>Physical Force</td>\n",
       "    </tr>\n",
       "    <tr>\n",
       "      <th>...</th>\n",
       "      <td>...</td>\n",
       "      <td>...</td>\n",
       "      <td>...</td>\n",
       "      <td>...</td>\n",
       "      <td>...</td>\n",
       "      <td>...</td>\n",
       "      <td>...</td>\n",
       "      <td>...</td>\n",
       "    </tr>\n",
       "    <tr>\n",
       "      <th>1419</th>\n",
       "      <td>Fleeing</td>\n",
       "      <td>Yes</td>\n",
       "      <td>No</td>\n",
       "      <td>Male</td>\n",
       "      <td>Black</td>\n",
       "      <td>26-35</td>\n",
       "      <td>2022</td>\n",
       "      <td>Taser</td>\n",
       "    </tr>\n",
       "    <tr>\n",
       "      <th>1421</th>\n",
       "      <td>Fleeing</td>\n",
       "      <td>Yes</td>\n",
       "      <td>Yes</td>\n",
       "      <td>Male</td>\n",
       "      <td>Black</td>\n",
       "      <td>26-35</td>\n",
       "      <td>2022</td>\n",
       "      <td>Physical Force</td>\n",
       "    </tr>\n",
       "    <tr>\n",
       "      <th>1422</th>\n",
       "      <td>Combative</td>\n",
       "      <td>No</td>\n",
       "      <td>No</td>\n",
       "      <td>Male</td>\n",
       "      <td>Black</td>\n",
       "      <td>36-45</td>\n",
       "      <td>2022</td>\n",
       "      <td>Physical Force</td>\n",
       "    </tr>\n",
       "    <tr>\n",
       "      <th>1423</th>\n",
       "      <td>Combative</td>\n",
       "      <td>No</td>\n",
       "      <td>No</td>\n",
       "      <td>Male</td>\n",
       "      <td>Black</td>\n",
       "      <td>36-45</td>\n",
       "      <td>2022</td>\n",
       "      <td>Physical Force</td>\n",
       "    </tr>\n",
       "    <tr>\n",
       "      <th>1424</th>\n",
       "      <td>Fleeing</td>\n",
       "      <td>Yes</td>\n",
       "      <td>No</td>\n",
       "      <td>Male</td>\n",
       "      <td>White</td>\n",
       "      <td>Other</td>\n",
       "      <td>2022</td>\n",
       "      <td>Taser</td>\n",
       "    </tr>\n",
       "  </tbody>\n",
       "</table>\n",
       "<p>1245 rows × 8 columns</p>\n",
       "</div>"
      ],
      "text/plain": [
       "     UseOfForce_Reason Citizen_Injured Officer_Injured     Sex   Race  \\\n",
       "0            Combative             Yes              No  Female  White   \n",
       "1            Combative             Yes              No  Female  White   \n",
       "2            Combative              No              No    Male  White   \n",
       "3            Combative              No              No    Male  White   \n",
       "4            Combative             Yes             Yes    Male  Black   \n",
       "...                ...             ...             ...     ...    ...   \n",
       "1419           Fleeing             Yes              No    Male  Black   \n",
       "1421           Fleeing             Yes             Yes    Male  Black   \n",
       "1422         Combative              No              No    Male  Black   \n",
       "1423         Combative              No              No    Male  Black   \n",
       "1424           Fleeing             Yes              No    Male  White   \n",
       "\n",
       "     Citizen_Age  Year      Force_Used  \n",
       "0          26-35  2018  Physical Force  \n",
       "1          26-35  2018  Physical Force  \n",
       "2          26-35  2018  Physical Force  \n",
       "3          26-35  2018  Physical Force  \n",
       "4          36-45  2018  Physical Force  \n",
       "...          ...   ...             ...  \n",
       "1419       26-35  2022           Taser  \n",
       "1421       26-35  2022  Physical Force  \n",
       "1422       36-45  2022  Physical Force  \n",
       "1423       36-45  2022  Physical Force  \n",
       "1424       Other  2022           Taser  \n",
       "\n",
       "[1245 rows x 8 columns]"
      ]
     },
     "execution_count": 6,
     "metadata": {},
     "output_type": "execute_result"
    }
   ],
   "source": [
    "df_col\n",
    " \n"
   ]
  },
  {
   "cell_type": "markdown",
   "id": "dacc4c27",
   "metadata": {},
   "source": [
    "### Use of force by gender"
   ]
  },
  {
   "cell_type": "code",
   "execution_count": 7,
   "id": "d9347d7a",
   "metadata": {
    "scrolled": true
   },
   "outputs": [],
   "source": [
    "# Get totals by sex category\n",
    "females = df_col[df_col['Sex']=='Female'].Sex.count()\n"
   ]
  },
  {
   "cell_type": "code",
   "execution_count": 8,
   "id": "812afed8",
   "metadata": {},
   "outputs": [],
   "source": [
    "males = df_col[df_col['Sex']=='Male'].Sex.count()"
   ]
  },
  {
   "cell_type": "code",
   "execution_count": 9,
   "id": "4ef71d53",
   "metadata": {},
   "outputs": [],
   "source": [
    "no_sex = df_col[df_col['Sex']=='No Sex Listed'].Sex.count()"
   ]
  },
  {
   "cell_type": "code",
   "execution_count": 10,
   "id": "0b695472",
   "metadata": {},
   "outputs": [
    {
     "name": "stdout",
     "output_type": "stream",
     "text": [
      "Use of force was higher in males than any other sex categories\n"
     ]
    },
    {
     "data": {
      "image/png": "[encoded data removed]",
      "text/plain": [
       "<Figure size 432x288 with 1 Axes>"
      ]
     },
     "metadata": {},
     "output_type": "display_data"
    }
   ],
   "source": [
    "sizes = [males, females  ]\n",
    "lab = [\"Male\",\"Female\"]\n",
    "plt.pie(sizes,shadow = True, labels= lab);\n",
    "print(\"Use of force was higher in males than any other sex categories\")"
   ]
  },
  {
   "cell_type": "markdown",
   "id": "6c433d6f",
   "metadata": {},
   "source": [
    "### Use of force by race"
   ]
  },
  {
   "cell_type": "code",
   "execution_count": 11,
   "id": "dd2c7bc0",
   "metadata": {},
   "outputs": [],
   "source": [
    "#get race data segments\n",
    "white = df_col[df_col['Race']=='White'].Race\n",
    "black =  df_col[df_col['Race']=='Black'].Race"
   ]
  },
  {
   "cell_type": "code",
   "execution_count": 12,
   "id": "75b6beef",
   "metadata": {
    "scrolled": true
   },
   "outputs": [
    {
     "data": {
      "image/png": "[encoded data removed]",
      "text/plain": [
       "<Figure size 432x288 with 1 Axes>"
      ]
     },
     "metadata": {
      "needs_background": "light"
     },
     "output_type": "display_data"
    }
   ],
   "source": [
    "plt.bar(white, white.count(),color ='maroon',\n",
    "        width = 0.5)\n",
    "plt.bar(black,black.count(), color ='green',\n",
    "        width = 0.5)\n",
    "plt.title(\"Use of force by race\")\n",
    "plt.show()"
   ]
  },
  {
   "cell_type": "markdown",
   "id": "73331ec7",
   "metadata": {},
   "source": [
    "### Probability that a black male will combat the police during arrest"
   ]
  },
  {
   "cell_type": "code",
   "execution_count": 13,
   "id": "722d6d2b",
   "metadata": {},
   "outputs": [],
   "source": [
    "population =(df_col['UseOfForce_Reason']== 'Combative').count()\n"
   ]
  },
  {
   "cell_type": "code",
   "execution_count": 14,
   "id": "7cae027b",
   "metadata": {
    "scrolled": true
   },
   "outputs": [],
   "source": [
    " prob_black = df_col[df_col['Race']=='Black'].Race.count()/population"
   ]
  },
  {
   "cell_type": "code",
   "execution_count": 15,
   "id": "4df46274",
   "metadata": {},
   "outputs": [],
   "source": [
    " prob_male = df_col[df_col['Sex']=='Male'].Race.count()/population"
   ]
  },
  {
   "cell_type": "code",
   "execution_count": 16,
   "id": "2a9811a4",
   "metadata": {},
   "outputs": [
    {
     "name": "stdout",
     "output_type": "stream",
     "text": [
      "The probability that a black male will combat police during arrest is:  0.5\n"
     ]
    }
   ],
   "source": [
    "print(\"The probability that a black male will combat police during arrest is: \",round(prob_black* prob_male,1))"
   ]
  },
  {
   "cell_type": "markdown",
   "id": "15ebbdcf",
   "metadata": {},
   "source": [
    "### Probability that taser will be used on a white male during arrest"
   ]
  },
  {
   "cell_type": "code",
   "execution_count": 17,
   "id": "2eb2f75a",
   "metadata": {},
   "outputs": [],
   "source": [
    " prob_white = df_col[df_col['Race']=='White'].Race.count()/population"
   ]
  },
  {
   "cell_type": "code",
   "execution_count": 18,
   "id": "83df242c",
   "metadata": {},
   "outputs": [],
   "source": [
    "prob_arm = df_col[df_col['Force_Used']=='Taser'].Race.count()/population"
   ]
  },
  {
   "cell_type": "code",
   "execution_count": 19,
   "id": "223349de",
   "metadata": {
    "scrolled": true
   },
   "outputs": [
    {
     "name": "stdout",
     "output_type": "stream",
     "text": [
      "The probability that police will need a fire arm while arresting a white male is:  0.3\n"
     ]
    }
   ],
   "source": [
    "print(\"The probability that police will need a fire arm while arresting a white male is: \",round(prob_arm * prob_male,1))"
   ]
  },
  {
   "cell_type": "markdown",
   "id": "6b8fa8b9",
   "metadata": {},
   "source": [
    "### Force Used by gender"
   ]
  },
  {
   "cell_type": "code",
   "execution_count": 20,
   "id": "2431c025",
   "metadata": {
    "scrolled": true
   },
   "outputs": [
    {
     "data": {
      "text/plain": [
       "<AxesSubplot:xlabel='Sex,Force_Used'>"
      ]
     },
     "execution_count": 20,
     "metadata": {},
     "output_type": "execute_result"
    },
    {
     "data": {
      "image/png": "[encoded data removed]",
      "text/plain": [
       "<Figure size 432x288 with 1 Axes>"
      ]
     },
     "metadata": {
      "needs_background": "light"
     },
     "output_type": "display_data"
    }
   ],
   "source": [
    "df_col.groupby('Sex')['Force_Used'].value_counts().plot(kind ='bar',color ='green',width = 0.8)"
   ]
  },
  {
   "cell_type": "code",
   "execution_count": 21,
   "id": "96e1024c",
   "metadata": {
    "scrolled": true
   },
   "outputs": [
    {
     "data": {
      "text/plain": [
       "<AxesSubplot:>"
      ]
     },
     "execution_count": 21,
     "metadata": {},
     "output_type": "execute_result"
    },
    {
     "data": {
      "image/png": "[encoded data removed]",
      "text/plain": [
       "<Figure size 432x288 with 1 Axes>"
      ]
     },
     "metadata": {
      "needs_background": "light"
     },
     "output_type": "display_data"
    }
   ],
   "source": [
    "df_col['UseOfForce_Reason'].value_counts().plot(kind ='bar',color ='black')"
   ]
  },
  {
   "cell_type": "markdown",
   "id": "d660622f",
   "metadata": {},
   "source": [
    "### Reasons police used force by race"
   ]
  },
  {
   "cell_type": "code",
   "execution_count": 22,
   "id": "bcb9c8a9",
   "metadata": {
    "scrolled": false
   },
   "outputs": [
    {
     "data": {
      "text/plain": [
       "<AxesSubplot:xlabel='Race,UseOfForce_Reason'>"
      ]
     },
     "execution_count": 22,
     "metadata": {},
     "output_type": "execute_result"
    },
    {
     "data": {
      "image/png": "[encoded data removed]",
      "text/plain": [
       "<Figure size 432x288 with 1 Axes>"
      ]
     },
     "metadata": {
      "needs_background": "light"
     },
     "output_type": "display_data"
    }
   ],
   "source": [
    "df_col.groupby('Race')['UseOfForce_Reason'].value_counts().plot(kind ='bar',color ='green',width = 0.9)"
   ]
  },
  {
   "cell_type": "code",
   "execution_count": 89,
   "id": "808a6721",
   "metadata": {},
   "outputs": [
    {
     "data": {
      "image/png": "[encoded data removed]",
      "text/plain": [
       "<Figure size 432x288 with 1 Axes>"
      ]
     },
     "metadata": {
      "needs_background": "light"
     },
     "output_type": "display_data"
    }
   ],
   "source": [
    "\n",
    "plt.barh(white, white.count(),color ='maroon'\n",
    "       )\n",
    "plt.xlabel('Number of use of force cases')\n",
    "plt.ylabel('Race')\n",
    "plt.barh(black,black.count(), color ='green',\n",
    "        )\n",
    "plt.title(\"Use of force by race\")\n",
    "plt.show()"
   ]
  },
  {
   "cell_type": "markdown",
   "id": "c3fb37e0",
   "metadata": {},
   "source": [
    "### Officers vs Citizen injured during use of force by the police"
   ]
  },
  {
   "cell_type": "code",
   "execution_count": 24,
   "id": "2cbfa3df",
   "metadata": {
    "scrolled": true
   },
   "outputs": [],
   "source": [
    "citizen = df_col[df_col['Citizen_Injured']=='Yes'].Citizen_Injured .value_counts()\n",
    "citizen_no = df_col[df_col['Citizen_Injured']=='No'].Citizen_Injured .value_counts()\n",
    "officer = df_col[df_col['Officer_Injured']=='Yes'].Citizen_Injured .value_counts()"
   ]
  },
  {
   "cell_type": "code",
   "execution_count": 25,
   "id": "6b12b4d7",
   "metadata": {},
   "outputs": [
    {
     "data": {
      "image/png": "[encoded data removed]",
      "text/plain": [
       "<Figure size 432x288 with 1 Axes>"
      ]
     },
     "metadata": {},
     "output_type": "display_data"
    }
   ],
   "source": [
    "sizes = [officer[0], citizen[0] ]\n",
    "lab = [\"Officer injured\",\"Citizen injured\"]\n",
    "plt.pie(sizes,shadow = True, labels= lab);\n",
    "\n"
   ]
  },
  {
   "cell_type": "code",
   "execution_count": 31,
   "id": "4726476b",
   "metadata": {
    "scrolled": true
   },
   "outputs": [
    {
     "data": {
      "text/plain": [
       "Series([], Name: Race, dtype: object)"
      ]
     },
     "execution_count": 31,
     "metadata": {},
     "output_type": "execute_result"
    }
   ],
   "source": [
    "df_col[df_col['Year']=='2022']"
   ]
  },
  {
   "cell_type": "code",
   "execution_count": 29,
   "id": "3b4edfb1",
   "metadata": {},
   "outputs": [
    {
     "data": {
      "text/plain": [
       "pandas.core.frame.DataFrame"
      ]
     },
     "execution_count": 29,
     "metadata": {},
     "output_type": "execute_result"
    }
   ],
   "source": [
    "type(p)"
   ]
  },
  {
   "cell_type": "code",
   "execution_count": 30,
   "id": "9570f632",
   "metadata": {},
   "outputs": [
    {
     "data": {
      "text/plain": [
       "4       Black\n",
       "5       Black\n",
       "6       Black\n",
       "10      Black\n",
       "11      Black\n",
       "        ...  \n",
       "1414    Black\n",
       "1419    Black\n",
       "1421    Black\n",
       "1422    Black\n",
       "1423    Black\n",
       "Name: Race, Length: 743, dtype: object"
      ]
     },
     "execution_count": 30,
     "metadata": {},
     "output_type": "execute_result"
    }
   ],
   "source": [
    "df_col[df_col['Race']=='Black'].Race\n"
   ]
  },
  {
   "cell_type": "code",
   "execution_count": 83,
   "id": "fd825edb",
   "metadata": {
    "scrolled": true
   },
   "outputs": [
    {
     "data": {
      "image/png": "[encoded data removed]",
      "text/plain": [
       "<Figure size 432x288 with 1 Axes>"
      ]
     },
     "metadata": {
      "needs_background": "light"
     },
     "output_type": "display_data"
    }
   ],
   "source": [
    "yr = df_col.groupby('Year')['Force_Used'].count().plot(kind ='bar',color ='green',xlabel ='Years',ylabel='Use by force cases')\n"
   ]
  },
  {
   "cell_type": "code",
   "execution_count": 93,
   "id": "43f934a4",
   "metadata": {
    "scrolled": false
   },
   "outputs": [
    {
     "data": {
      "text/plain": [
       "<AxesSubplot:xlabel='Age group', ylabel='Use by force cases'>"
      ]
     },
     "execution_count": 93,
     "metadata": {},
     "output_type": "execute_result"
    },
    {
     "data": {
      "image/png": "[encoded data removed]",
      "text/plain": [
       "<Figure size 432x288 with 1 Axes>"
      ]
     },
     "metadata": {
      "needs_background": "light"
     },
     "output_type": "display_data"
    }
   ],
   "source": [
    "df_col.groupby('Citizen_Age')['Force_Used'].count().plot(kind ='line',color ='orange',xlabel ='Age group',ylabel='Use by force cases')"
   ]
  },
  {
   "cell_type": "code",
   "execution_count": null,
   "id": "518e40b2",
   "metadata": {},
   "outputs": [],
   "source": []
  }
 ],
 "metadata": {
  "kernelspec": {
   "display_name": "Python 3.10.4 64-bit",
   "language": "python",
   "name": "python3104jvsc74a57bd0aee8b7b246df8f9039afb4144a1f6fd8d2ca17a180786b69acc140d282b71a49"
  },
  "language_info": {
   "codemirror_mode": {
    "name": "ipython",
    "version": 3
   },
   "file_extension": ".py",
   "mimetype": "text/x-python",
   "name": "python",
   "nbconvert_exporter": "python",
   "pygments_lexer": "ipython3",
   "version": "3.10.4"
  }
 },
 "nbformat": 4,
 "nbformat_minor": 5
}
