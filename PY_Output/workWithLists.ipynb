{
 "cells": [
  {
   "cell_type": "markdown",
   "id": "82166a3d",
   "metadata": {},
   "source": [
    "# Lists\n",
    "1. Open the file romeo.txt and read it line by line. \n",
    "2. For each line, split the line into a Python list of words using the split() method. \n",
    "3. The program should build a list of words. \n",
    "4. When the program completes, sort (default sort) and print the resulting words in alphabetical order."
   ]
  },
  {
   "cell_type": "code",
   "execution_count": 1,
   "id": "10f78635",
   "metadata": {},
   "outputs": [],
   "source": [
    "fileOpener = open(\"romeo.txt\")\n"
   ]
  },
  {
   "cell_type": "code",
   "execution_count": 2,
   "id": "19448289",
   "metadata": {},
   "outputs": [
    {
     "name": "stdout",
     "output_type": "stream",
     "text": [
      "['But', 'breaks', 'light', 'soft', 'through', 'what', 'window', 'yonder']\n",
      "['It', 'Juliet', 'and', 'east', 'is', 'is', 'sun', 'the', 'the']\n",
      "['Arise', 'and', 'envious', 'fair', 'kill', 'moon', 'sun', 'the']\n",
      "['Who', 'already', 'and', 'grief', 'is', 'pale', 'sick', 'with']\n"
     ]
    }
   ],
   "source": [
    "\n",
    "for line in fileOpener:\n",
    "    items = line.split()\n",
    "    items.sort()\n",
    "    print(items)"
   ]
  }
 ],
 "metadata": {
  "kernelspec": {
   "display_name": "Python 3.10.4 64-bit",
   "language": "python",
   "name": "python3104jvsc74a57bd0aee8b7b246df8f9039afb4144a1f6fd8d2ca17a180786b69acc140d282b71a49"
  },
  "language_info": {
   "codemirror_mode": {
    "name": "ipython",
    "version": 3
   },
   "file_extension": ".py",
   "mimetype": "text/x-python",
   "name": "python",
   "nbconvert_exporter": "python",
   "pygments_lexer": "ipython3",
   "version": "3.10.4"
  }
 },
 "nbformat": 4,
 "nbformat_minor": 5
}
