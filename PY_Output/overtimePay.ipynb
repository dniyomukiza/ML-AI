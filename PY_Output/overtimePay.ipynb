{
 "cells": [
  {
   "cell_type": "markdown",
   "id": "2c776fd3",
   "metadata": {},
   "source": [
    "## My first program in python\n",
    "\n",
    "###    Here are the steps\n",
    "1. prompt the user for hours \n",
    "2. prompt the user for rate per hour \n",
    "3. compute overtime pay\n"
   ]
  },
  {
   "cell_type": "code",
   "execution_count": 5,
   "id": "bae123bb",
   "metadata": {},
   "outputs": [
    {
     "name": "stdout",
     "output_type": "stream",
     "text": [
      " Enter the number of hours:\n",
      "45\n",
      " How much do you get paid per hour?:\n",
      "10.50\n",
      "Total pay is equal: 498.75\n"
     ]
    }
   ],
   "source": [
    "# prompting user for input and convert it into an float\n",
    "numberHours = float(input(\" Enter the number of hours:\\n\"))\n",
    "\n",
    "ratePerHour = float(input(\" How much do you get paid per hour?:\\n\"))\n",
    "\n",
    "grossPay = numberHours*ratePerHour\n",
    "if numberHours <= 40:                 \n",
    "   print(\"Total pay is equal:\",grossPay) \n",
    "else:\n",
    "     OvertimePay = (numberHours - 40) * (ratePerHour * 1.5) + (ratePerHour* 40)  \n",
    "     print(\"Total pay is equal:\",OvertimePay) "
   ]
  },
  {
   "cell_type": "markdown",
   "id": "085e3118",
   "metadata": {},
   "source": [
    "# End of the program"
   ]
  },
  {
   "cell_type": "code",
   "execution_count": null,
   "id": "b91f6e0e",
   "metadata": {},
   "outputs": [],
   "source": []
  }
 ],
 "metadata": {
  "kernelspec": {
   "display_name": "Python 3.10.4 64-bit",
   "language": "python",
   "name": "python3104jvsc74a57bd0aee8b7b246df8f9039afb4144a1f6fd8d2ca17a180786b69acc140d282b71a49"
  },
  "language_info": {
   "codemirror_mode": {
    "name": "ipython",
    "version": 3
   },
   "file_extension": ".py",
   "mimetype": "text/x-python",
   "name": "python",
   "nbconvert_exporter": "python",
   "pygments_lexer": "ipython3",
   "version": "3.10.4"
  }
 },
 "nbformat": 4,
 "nbformat_minor": 5
}
