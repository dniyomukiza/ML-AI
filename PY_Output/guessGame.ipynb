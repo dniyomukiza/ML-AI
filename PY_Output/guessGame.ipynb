{
 "cells": [
  {
   "cell_type": "markdown",
   "id": "38fe1186",
   "metadata": {},
   "source": [
    "## Hi-low game"
   ]
  },
  {
   "cell_type": "markdown",
   "id": "a0c779f4",
   "metadata": {},
   "source": [
    "## steps to follow:\n",
    "1. Generate intengers between 1 and 100\n",
    "2. Get a guess from the user\n",
    "3. Determine if guess too low or too high"
   ]
  },
  {
   "cell_type": "code",
   "execution_count": 4,
   "id": "0f73e817",
   "metadata": {
    "scrolled": true
   },
   "outputs": [],
   "source": [
    "from random import randint"
   ]
  },
  {
   "cell_type": "code",
   "execution_count": null,
   "id": "80a6041e",
   "metadata": {},
   "outputs": [
    {
     "name": "stdout",
     "output_type": "stream",
     "text": [
      "9\n"
     ]
    }
   ],
   "source": [
    "def calcRandom(x):\n",
    "    count = 1\n",
    "    rand = randint(1,x)\n",
    "    print(rand)\n",
    "    yourGuess = 0\n",
    "    while yourGuess!= rand:\n",
    "        \n",
    "        yourGuess = int(input(\"Enter your guess integer: \"))\n",
    "        if yourGuess > rand:\n",
    "            print(\"The guess was a number between 1 and 100 and your input was:\" ,yourGuess,\"so, guess too high!!\")\n",
    "         \n",
    "        elif yourGuess < rand:\n",
    "            print(\"The guess was a number between 1 and 100 and your input was:\" ,yourGuess,\"so, guess too low!!\")\n",
    "        \n",
    "    print(\"The guess is:\",rand,\"your input was:\" ,yourGuess,\"so, congrats!!\") \n",
    "    print(\"Now it is computer'turn to guess your number!\")\n",
    "\n",
    "calcRandom(10)\n"
   ]
  },
  {
   "cell_type": "code",
   "execution_count": 6,
   "id": "886fce10",
   "metadata": {},
   "outputs": [
    {
     "name": "stdout",
     "output_type": "stream",
     "text": [
      "If 5 is too high type \"h\",\"l\" for too low, and \"c\" for correct c\n",
      "You got it, congrats!!\n"
     ]
    }
   ],
   "source": [
    "\n",
    "\n",
    "def  compuGuess(y): \n",
    "    var1 = 1\n",
    "    var2 = y\n",
    "    feedback = \" \"\n",
    "    while feedback != \"c\" and var1 != var2:\n",
    "        guesses = randint(var1,var2)\n",
    "        feedback = input(f'If {guesses} is too high type \\\"h\\\",\\\"l\\\" for too low, and \\\"c\\\" for correct ')\n",
    "        if feedback == \"h\":\n",
    "            var2 = guesses - 1\n",
    "        elif feedback == \"l\":\n",
    "            var1 = guesses + 1\n",
    "    print(\"You got it, congrats!!\")\n",
    "compuGuess(5) "
   ]
  },
  {
   "cell_type": "code",
   "execution_count": null,
   "id": "560190cd",
   "metadata": {},
   "outputs": [],
   "source": []
  }
 ],
 "metadata": {
  "kernelspec": {
   "display_name": "Python 3.10.4 64-bit",
   "language": "python",
   "name": "python3104jvsc74a57bd0aee8b7b246df8f9039afb4144a1f6fd8d2ca17a180786b69acc140d282b71a49"
  },
  "language_info": {
   "codemirror_mode": {
    "name": "ipython",
    "version": 3
   },
   "file_extension": ".py",
   "mimetype": "text/x-python",
   "name": "python",
   "nbconvert_exporter": "python",
   "pygments_lexer": "ipython3",
   "version": "3.10.4"
  }
 },
 "nbformat": 4,
 "nbformat_minor": 5
}
