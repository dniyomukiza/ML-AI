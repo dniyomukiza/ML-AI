{
 "cells": [
  {
   "cell_type": "code",
   "execution_count": 2,
   "id": "0ce8be31",
   "metadata": {
    "scrolled": true
   },
   "outputs": [
    {
     "name": "stdout",
     "output_type": "stream",
     "text": [
      "Enter the any sentence of your choice bantu zo muti to goro\n",
      "['bantu', 'zo', 'muti', 'to', 'goro']\n",
      "The shortest word is:  ZO  and it has length of  2\n"
     ]
    }
   ],
   "source": [
    "sentence= input(\"Enter the any sentence of your choice \")\n",
    "listWords = sentence.split()\n",
    "baseCase = len(listWords[0])\n",
    "shortestWord = \"\"\n",
    "for i in listWords:\n",
    "    if len(i) < baseCase:\n",
    "        baseCase = len(i)\n",
    "        shortestWord = i\n",
    "print(listWords)\n",
    "print('The shortest word is: ',shortestWord.upper(),' and it has length of ',len(shortestWord))"
   ]
  }
 ],
 "metadata": {
  "kernelspec": {
   "display_name": "Python 3.10.4 64-bit",
   "language": "python",
   "name": "python3104jvsc74a57bd0aee8b7b246df8f9039afb4144a1f6fd8d2ca17a180786b69acc140d282b71a49"
  },
  "language_info": {
   "codemirror_mode": {
    "name": "ipython",
    "version": 3
   },
   "file_extension": ".py",
   "mimetype": "text/x-python",
   "name": "python",
   "nbconvert_exporter": "python",
   "pygments_lexer": "ipython3",
   "version": "3.10.4"
  }
 },
 "nbformat": 4,
 "nbformat_minor": 5
}
