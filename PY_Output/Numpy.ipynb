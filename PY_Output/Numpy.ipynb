{
 "cells": [
  {
   "cell_type": "code",
   "execution_count": 1,
   "id": "69b025fd",
   "metadata": {},
   "outputs": [],
   "source": [
    "import numpy as np\n",
    "import random"
   ]
  },
  {
   "cell_type": "code",
   "execution_count": 2,
   "id": "79253993",
   "metadata": {},
   "outputs": [],
   "source": [
    "np.random.seed(21)"
   ]
  },
  {
   "cell_type": "markdown",
   "id": "90e2f8a6",
   "metadata": {},
   "source": [
    "### Calculate the average value of the second column"
   ]
  },
  {
   "cell_type": "code",
   "execution_count": 3,
   "id": "faa633c3",
   "metadata": {
    "scrolled": true
   },
   "outputs": [
    {
     "name": "stdout",
     "output_type": "stream",
     "text": [
      "The average value of the second column =  214895.8\n"
     ]
    }
   ],
   "source": [
    "random_integers = np.random.randint(1,high=500000, size=(20, 5))\n",
    "avg = np.average(random_integers[:,1])\n",
    "print(\"The average value of the second column = \",avg)"
   ]
  },
  {
   "cell_type": "markdown",
   "id": "52cfa2b4",
   "metadata": {},
   "source": [
    "### The average value of the first 5 rows of the third and fourth columns"
   ]
  },
  {
   "cell_type": "code",
   "execution_count": 4,
   "id": "d3733be2",
   "metadata": {
    "scrolled": false
   },
   "outputs": [
    {
     "name": "stdout",
     "output_type": "stream",
     "text": [
      "286058.5\n"
     ]
    }
   ],
   "source": [
    "print(np.average(random_integers[0:5,2:4]))"
   ]
  },
  {
   "cell_type": "markdown",
   "id": "1837045f",
   "metadata": {},
   "source": [
    "### Create a 10 x 10 array from random_integers array named arrayTenByTen"
   ]
  },
  {
   "cell_type": "code",
   "execution_count": 5,
   "id": "2bfb39ae",
   "metadata": {
    "scrolled": true
   },
   "outputs": [
    {
     "data": {
      "text/plain": [
       "array([[ 80842, 333008, 202553, 140037,  81969,  63857,  42105, 261540,\n",
       "        481981, 176739],\n",
       "       [489984, 326386, 110795, 394863,  25024,  38317,  49982, 408830,\n",
       "        485118,  16119],\n",
       "       [407675, 231729, 265455, 109413, 103399, 174677, 343356, 301717,\n",
       "        224120, 401101],\n",
       "       [140473, 254634, 112262,  25063, 108262, 375059, 406983, 208947,\n",
       "        115641, 296685],\n",
       "       [444899, 129585, 171318, 313094, 425041, 188411, 335140, 141681,\n",
       "         59641, 211420],\n",
       "       [287650,   8973, 477425, 382803, 465168,   3975,  32213, 160603,\n",
       "        275485, 388234],\n",
       "       [246225,  56174, 244097,   9350, 496966, 225516, 273338,  73335,\n",
       "        283013, 212813],\n",
       "       [ 38175, 282399, 318413, 337639, 379802, 198049, 101115, 419547,\n",
       "        260219, 325793],\n",
       "       [148593, 425024, 348570, 117968, 107007,  52547, 180346, 178760,\n",
       "        305186, 262153],\n",
       "       [ 11835, 449971, 494184, 472031, 353049, 476442,  35455, 191553,\n",
       "        384154,  29917]])"
      ]
     },
     "execution_count": 5,
     "metadata": {},
     "output_type": "execute_result"
    }
   ],
   "source": [
    "arrayTenByTen = random_integers.reshape(10,10)\n",
    "arrayTenByTen"
   ]
  },
  {
   "cell_type": "markdown",
   "id": "71d9d217",
   "metadata": {},
   "source": [
    "### Create a new array from the arrayTenByTen that is one rank and called arrayTenFlat"
   ]
  },
  {
   "cell_type": "code",
   "execution_count": 6,
   "id": "8db40ad2",
   "metadata": {},
   "outputs": [
    {
     "name": "stdout",
     "output_type": "stream",
     "text": [
      "[ 80842 333008 202553 140037  81969  63857  42105 261540 481981 176739\n",
      " 489984 326386 110795 394863  25024  38317  49982 408830 485118  16119\n",
      " 407675 231729 265455 109413 103399 174677 343356 301717 224120 401101\n",
      " 140473 254634 112262  25063 108262 375059 406983 208947 115641 296685\n",
      " 444899 129585 171318 313094 425041 188411 335140 141681  59641 211420\n",
      " 287650   8973 477425 382803 465168   3975  32213 160603 275485 388234\n",
      " 246225  56174 244097   9350 496966 225516 273338  73335 283013 212813\n",
      "  38175 282399 318413 337639 379802 198049 101115 419547 260219 325793\n",
      " 148593 425024 348570 117968 107007  52547 180346 178760 305186 262153\n",
      "  11835 449971 494184 472031 353049 476442  35455 191553 384154  29917]\n"
     ]
    },
    {
     "data": {
      "text/plain": [
       "(100,)"
      ]
     },
     "execution_count": 6,
     "metadata": {},
     "output_type": "execute_result"
    }
   ],
   "source": [
    "arrayTenFlat = arrayTenByTen.ravel()\n",
    "print(arrayTenFlat)\n",
    "arrayTenFlat.shape"
   ]
  },
  {
   "cell_type": "markdown",
   "id": "777b4e52",
   "metadata": {},
   "source": [
    "### What is the sum of arrayTenFlat?"
   ]
  },
  {
   "cell_type": "code",
   "execution_count": 7,
   "id": "d5615343",
   "metadata": {},
   "outputs": [
    {
     "data": {
      "text/plain": [
       "23526182"
      ]
     },
     "execution_count": 7,
     "metadata": {},
     "output_type": "execute_result"
    }
   ],
   "source": [
    "arrayTenFlat.sum()"
   ]
  },
  {
   "cell_type": "markdown",
   "id": "33448c55",
   "metadata": {},
   "source": [
    "### Iterate through arrayTenFlat"
   ]
  },
  {
   "cell_type": "code",
   "execution_count": 9,
   "id": "b93d2993",
   "metadata": {},
   "outputs": [
    {
     "name": "stdout",
     "output_type": "stream",
     "text": [
      "100 elements\n"
     ]
    }
   ],
   "source": [
    "#checking how many items in the array\n",
    "count = 0\n",
    "for i in arrayTenFlat:\n",
    "    count = count + 1\n",
    "print(count, \"elements\")"
   ]
  },
  {
   "cell_type": "markdown",
   "id": "70f94254",
   "metadata": {},
   "source": [
    "### What is the value of the element (9,2) in random_integers array?"
   ]
  },
  {
   "cell_type": "code",
   "execution_count": 5,
   "id": "2ca818da",
   "metadata": {
    "scrolled": true
   },
   "outputs": [
    {
     "name": "stdout",
     "output_type": "stream",
     "text": [
      "[[ 80842 333008 202553 140037  81969]\n",
      " [ 63857  42105 261540 481981 176739]\n",
      " [489984 326386 110795 394863  25024]\n",
      " [ 38317  49982 408830 485118  16119]\n",
      " [407675 231729 265455 109413 103399]\n",
      " [174677 343356 301717 224120 401101]\n",
      " [140473 254634 112262  25063 108262]\n",
      " [375059 406983 208947 115641 296685]\n",
      " [444899 129585 171318 313094 425041]\n",
      " [188411 335140 141681  59641 211420]\n",
      " [287650   8973 477425 382803 465168]\n",
      " [  3975  32213 160603 275485 388234]\n",
      " [246225  56174 244097   9350 496966]\n",
      " [225516 273338  73335 283013 212813]\n",
      " [ 38175 282399 318413 337639 379802]\n",
      " [198049 101115 419547 260219 325793]\n",
      " [148593 425024 348570 117968 107007]\n",
      " [ 52547 180346 178760 305186 262153]\n",
      " [ 11835 449971 494184 472031 353049]\n",
      " [476442  35455 191553 384154  29917]]\n"
     ]
    },
    {
     "data": {
      "text/plain": [
       "141681"
      ]
     },
     "execution_count": 5,
     "metadata": {},
     "output_type": "execute_result"
    }
   ],
   "source": [
    "    print(random_integers)\n",
    "    random_integers[9][2]"
   ]
  },
  {
   "cell_type": "markdown",
   "id": "31454dff",
   "metadata": {},
   "source": [
    "### What is the data type of arrayTenFlat?"
   ]
  },
  {
   "cell_type": "code",
   "execution_count": 16,
   "id": "5587a735",
   "metadata": {
    "scrolled": true
   },
   "outputs": [
    {
     "data": {
      "text/plain": [
       "numpy.ndarray"
      ]
     },
     "execution_count": 16,
     "metadata": {},
     "output_type": "execute_result"
    }
   ],
   "source": [
    "type(arrayTenFlat)"
   ]
  },
  {
   "cell_type": "markdown",
   "id": "cbe0a01f",
   "metadata": {},
   "source": [
    "### In arrayTenFlat replace the value in index 5 with 42"
   ]
  },
  {
   "cell_type": "code",
   "execution_count": 17,
   "id": "21bfb0e4",
   "metadata": {},
   "outputs": [
    {
     "data": {
      "text/plain": [
       "array([ 80842, 333008, 202553, 140037,  81969,     42,  42105, 261540,\n",
       "       481981, 176739, 489984, 326386, 110795, 394863,  25024,  38317,\n",
       "        49982, 408830, 485118,  16119, 407675, 231729, 265455, 109413,\n",
       "       103399, 174677, 343356, 301717, 224120, 401101, 140473, 254634,\n",
       "       112262,  25063, 108262, 375059, 406983, 208947, 115641, 296685,\n",
       "       444899, 129585, 171318, 313094, 425041, 188411, 335140, 141681,\n",
       "        59641, 211420, 287650,   8973, 477425, 382803, 465168,   3975,\n",
       "        32213, 160603, 275485, 388234, 246225,  56174, 244097,   9350,\n",
       "       496966, 225516, 273338,  73335, 283013, 212813,  38175, 282399,\n",
       "       318413, 337639, 379802, 198049, 101115, 419547, 260219, 325793,\n",
       "       148593, 425024, 348570, 117968, 107007,  52547, 180346, 178760,\n",
       "       305186, 262153,  11835, 449971, 494184, 472031, 353049, 476442,\n",
       "        35455, 191553, 384154,  29917])"
      ]
     },
     "execution_count": 17,
     "metadata": {},
     "output_type": "execute_result"
    }
   ],
   "source": [
    "arrayTenFlat[5]= 42\n",
    "arrayTenFlat"
   ]
  },
  {
   "cell_type": "markdown",
   "id": "9c674bbc",
   "metadata": {},
   "source": [
    "### Save the array random_integers to a file.  List the directory showing the saved array."
   ]
  },
  {
   "cell_type": "code",
   "execution_count": 22,
   "id": "71552322",
   "metadata": {
    "scrolled": true
   },
   "outputs": [],
   "source": [
    "np.save(\"numpy_file.npy\",random_integers)"
   ]
  },
  {
   "cell_type": "code",
   "execution_count": 23,
   "id": "ab0611b6",
   "metadata": {},
   "outputs": [
    {
     "data": {
      "text/plain": [
       "'/Users/nididier/Desktop/PYTHON/PY_Output'"
      ]
     },
     "execution_count": 23,
     "metadata": {},
     "output_type": "execute_result"
    }
   ],
   "source": [
    "pwd\n"
   ]
  },
  {
   "cell_type": "code",
   "execution_count": 24,
   "id": "e79784bf",
   "metadata": {},
   "outputs": [
    {
     "name": "stdout",
     "output_type": "stream",
     "text": [
      "Conditionals.docx                   guessGame .pdf\r\n",
      "Dictionaries .pdf                   guessGame.ipynb\r\n",
      "Dictionaries.ipynb                  mbox-short.txt\r\n",
      "File handling .pdf                  my_file.npy\r\n",
      "File handling.ipynb                 numpy_file.npy\r\n",
      "Numpy.ipynb                         overtimePay - Jupyter Notebook.pdf\r\n",
      "Untitled.ipynb                      overtimePay.ipynb\r\n",
      "Use Variables.pdf                   romeo.txt\r\n",
      "WEEK-01.pdf                         wordFrequency.ipynb\r\n",
      "conditionals1.pdf                   workWithLists.ipynb\r\n",
      "functionPay.pdf                     workWithLists.pdf\r\n"
     ]
    }
   ],
   "source": [
    "ls\n"
   ]
  }
 ],
 "metadata": {
  "kernelspec": {
   "display_name": "Python 3.10.4 64-bit",
   "language": "python",
   "name": "python3104jvsc74a57bd0aee8b7b246df8f9039afb4144a1f6fd8d2ca17a180786b69acc140d282b71a49"
  },
  "language_info": {
   "codemirror_mode": {
    "name": "ipython",
    "version": 3
   },
   "file_extension": ".py",
   "mimetype": "text/x-python",
   "name": "python",
   "nbconvert_exporter": "python",
   "pygments_lexer": "ipython3",
   "version": "3.10.4"
  }
 },
 "nbformat": 4,
 "nbformat_minor": 5
}
