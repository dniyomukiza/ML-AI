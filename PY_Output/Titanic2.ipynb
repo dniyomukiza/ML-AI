{
 "cells": [
  {
   "cell_type": "markdown",
   "id": "c6d233a6",
   "metadata": {},
   "source": [
    "#### Importing the libraries to use"
   ]
  },
  {
   "cell_type": "code",
   "execution_count": 88,
   "id": "8957a8e0",
   "metadata": {},
   "outputs": [],
   "source": [
    "\n",
    "import numpy as np\n",
    "import matplotlib.pyplot as plt\n",
    "import pandas as pd\n",
    "import seaborn as sns\n"
   ]
  },
  {
   "cell_type": "markdown",
   "id": "4ab91c8d",
   "metadata": {},
   "source": [
    "##### import and read data"
   ]
  },
  {
   "cell_type": "code",
   "execution_count": 89,
   "id": "910e8712",
   "metadata": {},
   "outputs": [],
   "source": [
    "\n",
    "\n",
    "dataSet = pd.read_csv('titanic.csv')"
   ]
  },
  {
   "cell_type": "markdown",
   "id": "3c6948ad",
   "metadata": {},
   "source": [
    "### Lost vs survived by sex"
   ]
  },
  {
   "cell_type": "code",
   "execution_count": 90,
   "id": "064f710c",
   "metadata": {},
   "outputs": [],
   "source": [
    "lostMale = dataSet[(dataSet['Survived'] == 0) & (dataSet['Sex'] == 'male')]\n",
    "survi_male = dataSet[(dataSet['Survived'] == 1) & (dataSet['Sex'] == 'male')]\n",
    "survi_female = dataSet[(dataSet['Survived'] == 1) & (dataSet['Sex'] == 'female')]\n",
    "lostFemale = dataSet[(dataSet['Survived'] == 0) & (dataSet['Sex'] == 'female')]\n"
   ]
  },
  {
   "cell_type": "markdown",
   "id": "88e35af2",
   "metadata": {},
   "source": [
    "#### males lost vs survived"
   ]
  },
  {
   "cell_type": "code",
   "execution_count": 91,
   "id": "bd8ff9c2",
   "metadata": {},
   "outputs": [],
   "source": [
    "total_num_males = lostMale['Survived'].count() + survi_male['Survived'].count()\n",
    "lostM = (lostMale['Survived'].count()/total_num_males)\n",
    "surviM = (survi_male['Survived'].count()/total_num_males)\n"
   ]
  },
  {
   "cell_type": "markdown",
   "id": "f79585fe",
   "metadata": {},
   "source": [
    "#### males lost vs survived"
   ]
  },
  {
   "cell_type": "code",
   "execution_count": 92,
   "id": "aad00550",
   "metadata": {
    "scrolled": true
   },
   "outputs": [],
   "source": [
    "\n",
    "total_num_females = lostFemale['Survived'].count() + survi_female['Survived'].count()\n",
    "lostF = (lostFemale['Survived'].count()/total_num_females)\n",
    "surviF = (survi_female['Survived'].count()/total_num_females)"
   ]
  },
  {
   "cell_type": "markdown",
   "id": "5f062d95",
   "metadata": {},
   "source": [
    "#### interpretation of results"
   ]
  },
  {
   "cell_type": "code",
   "execution_count": 93,
   "id": "84e440a5",
   "metadata": {
    "scrolled": true
   },
   "outputs": [
    {
     "name": "stdout",
     "output_type": "stream",
     "text": [
      "25.80% of all females were lost,while 74.20% survived\n"
     ]
    }
   ],
   "source": [
    "     print(\"{:.2%}\".format((lostF))+\" of all females were lost,while\"+\" {:.2%}\".format((surviF))+\" survived\")\n"
   ]
  },
  {
   "cell_type": "code",
   "execution_count": 94,
   "id": "61de4a5a",
   "metadata": {
    "scrolled": true
   },
   "outputs": [
    {
     "name": "stdout",
     "output_type": "stream",
     "text": [
      "80.98% of all males were lost,while 74.20% survived\n"
     ]
    }
   ],
   "source": [
    "print(\"{:.2%}\".format((lostM))+\" of all males were lost,while\"+\" {:.2%}\".format((surviF))+\" survived\")"
   ]
  },
  {
   "cell_type": "markdown",
   "id": "959b48fe",
   "metadata": {},
   "source": [
    "### Lost vs survived by class"
   ]
  },
  {
   "cell_type": "code",
   "execution_count": 95,
   "id": "b9c27913",
   "metadata": {},
   "outputs": [],
   "source": [
    "lostClass1 = dataSet[(dataSet['Survived'] == 0) & (dataSet['Pclass'] == 1)]\n",
    "surviClass1 = dataSet[(dataSet['Survived'] == 1) & (dataSet['Pclass'] == 1)]\n",
    "\n",
    "lostClass2 = dataSet[(dataSet['Survived'] == 0) & (dataSet['Pclass'] == 2)]\n",
    "surviClass2 = dataSet[(dataSet['Survived'] == 1) & (dataSet['Pclass'] == 2)]\n",
    "\n",
    "lostClass3 = dataSet[(dataSet['Survived'] == 0) & (dataSet['Pclass'] == 3)]\n",
    "surviClass3 = dataSet[(dataSet['Survived'] == 1) & (dataSet['Pclass'] == 3)]\n",
    "\n"
   ]
  },
  {
   "cell_type": "markdown",
   "id": "4ca9b1c4",
   "metadata": {},
   "source": [
    "#### lost vs survived class one"
   ]
  },
  {
   "cell_type": "code",
   "execution_count": 96,
   "id": "1d18d96e",
   "metadata": {},
   "outputs": [],
   "source": [
    "total_class1 = lostClass1['Survived'].count() + surviClass1['Survived'].count() \n",
    "lost_one = lostClass1['Survived'].count()/total_class1\n",
    "survi_one = surviClass1['Survived'].count()/total_class1"
   ]
  },
  {
   "cell_type": "markdown",
   "id": "a0466e4a",
   "metadata": {},
   "source": [
    "#### lost vs survived class two"
   ]
  },
  {
   "cell_type": "code",
   "execution_count": 97,
   "id": "1b718442",
   "metadata": {},
   "outputs": [],
   "source": [
    "total_class2 = lostClass2['Survived'].count() + surviClass2['Survived'].count() \n",
    "lost_two = lostClass2['Survived'].count()/total_class2\n",
    "survi_two = surviClass2['Survived'].count()/total_class2"
   ]
  },
  {
   "cell_type": "markdown",
   "id": "2d160b26",
   "metadata": {},
   "source": [
    "#### lost vs survived class three"
   ]
  },
  {
   "cell_type": "code",
   "execution_count": 98,
   "id": "040bf028",
   "metadata": {},
   "outputs": [],
   "source": [
    "total_class3 = lostClass3['Survived'].count() + surviClass3['Survived'].count() \n",
    "lost_three = lostClass3['Survived'].count()/total_class3\n",
    "survi_three = surviClass3['Survived'].count()/total_class3"
   ]
  },
  {
   "cell_type": "markdown",
   "id": "804c721a",
   "metadata": {},
   "source": [
    "#### Interpret results"
   ]
  },
  {
   "cell_type": "code",
   "execution_count": 99,
   "id": "3a6144f6",
   "metadata": {},
   "outputs": [
    {
     "name": "stdout",
     "output_type": "stream",
     "text": [
      "37.04% of all who boarded in first class were lost,while 62.96% survived\n"
     ]
    }
   ],
   "source": [
    "print(\"{:.2%}\".format((lost_one))+\" of all who boarded in first class were lost,while\"+\" {:.2%}\".format((survi_one))+\" survived\")"
   ]
  },
  {
   "cell_type": "code",
   "execution_count": 100,
   "id": "8d1968d1",
   "metadata": {},
   "outputs": [
    {
     "name": "stdout",
     "output_type": "stream",
     "text": [
      "52.72% of all who boarded in second class were lost,while 47.28% survived\n"
     ]
    }
   ],
   "source": [
    "print(\"{:.2%}\".format((lost_two))+\" of all who boarded in second class were lost,while\"+\" {:.2%}\".format((survi_two))+\" survived\")"
   ]
  },
  {
   "cell_type": "code",
   "execution_count": 101,
   "id": "548a9c67",
   "metadata": {},
   "outputs": [
    {
     "name": "stdout",
     "output_type": "stream",
     "text": [
      "75.56% of all who boarded in third class were lost,while 24.44% survived\n"
     ]
    }
   ],
   "source": [
    "print(\"{:.2%}\".format((lost_three))+\" of all who boarded in third class were lost,while\"+\" {:.2%}\".format((survi_three))+\" survived\")"
   ]
  },
  {
   "cell_type": "markdown",
   "id": "925c00c0",
   "metadata": {},
   "source": [
    "### Probability of survival based on gender and class"
   ]
  },
  {
   "cell_type": "code",
   "execution_count": 102,
   "id": "4ff15021",
   "metadata": {},
   "outputs": [],
   "source": [
    "\n",
    "population =(dataSet['Survived']== 1).sum()"
   ]
  },
  {
   "cell_type": "code",
   "execution_count": 103,
   "id": "c553b425",
   "metadata": {},
   "outputs": [],
   "source": [
    "#probability of being a male and survived\n",
    "prob_male = (dataSet['Sex']== 'male').sum()/population\n"
   ]
  },
  {
   "cell_type": "code",
   "execution_count": 104,
   "id": "0f2c8afc",
   "metadata": {},
   "outputs": [],
   "source": [
    "#probability of being a female and survived\n",
    "prob_female = (dataSet['Sex']== 'female').sum()/population"
   ]
  },
  {
   "cell_type": "code",
   "execution_count": 105,
   "id": "17eaa19e",
   "metadata": {},
   "outputs": [],
   "source": [
    "#probability of being in class 1 and survived\n",
    "prob_class1 = (dataSet['Pclass']== 1).sum()/population"
   ]
  },
  {
   "cell_type": "code",
   "execution_count": 106,
   "id": "d5fbc126",
   "metadata": {},
   "outputs": [],
   "source": [
    "#probability of being in class 2 and survived\n",
    "prob_class2 = (dataSet['Pclass']== 2).sum()/population\n"
   ]
  },
  {
   "cell_type": "code",
   "execution_count": 107,
   "id": "0ff312f2",
   "metadata": {},
   "outputs": [],
   "source": [
    "#probability of being in class 3 and survived\n",
    "prob_class3 = (dataSet['Pclass']== 3).sum()/population"
   ]
  },
  {
   "cell_type": "markdown",
   "id": "5fb0a15f",
   "metadata": {},
   "source": [
    "### probability of being a male in class and still survive\n"
   ]
  },
  {
   "cell_type": "code",
   "execution_count": 108,
   "id": "a6935858",
   "metadata": {
    "scrolled": true
   },
   "outputs": [
    {
     "name": "stdout",
     "output_type": "stream",
     "text": [
      "The probability of survival for a male in class one was 1.1%\n"
     ]
    }
   ],
   "source": [
    "print(\"The probability of survival for a male in class one was {}%\".format(round((prob_class1 * prob_male),1)))"
   ]
  },
  {
   "cell_type": "code",
   "execution_count": 109,
   "id": "0afa28f1",
   "metadata": {},
   "outputs": [
    {
     "name": "stdout",
     "output_type": "stream",
     "text": [
      "The probability of survival for a male in class two was 0.9%\n"
     ]
    }
   ],
   "source": [
    "print(\"The probability of survival for a male in class two was {}%\".format(round((prob_class2 * prob_male),1)))"
   ]
  },
  {
   "cell_type": "code",
   "execution_count": 110,
   "id": "882d170d",
   "metadata": {},
   "outputs": [
    {
     "name": "stdout",
     "output_type": "stream",
     "text": [
      "The probability of survival for a male in class three was 2.4%\n"
     ]
    }
   ],
   "source": [
    "print(\"The probability of survival for a male in class three was {}%\".format(round((prob_class3 * prob_male),1)))"
   ]
  },
  {
   "cell_type": "markdown",
   "id": "03de5539",
   "metadata": {},
   "source": [
    "### probability of being a female in class and still survive"
   ]
  },
  {
   "cell_type": "code",
   "execution_count": 111,
   "id": "95865978",
   "metadata": {},
   "outputs": [
    {
     "name": "stdout",
     "output_type": "stream",
     "text": [
      "The probability of survival for a male in class one was 0.6%\n"
     ]
    }
   ],
   "source": [
    "print(\"The probability of survival for a male in class one was {}%\".format(round((prob_class1 * prob_female),1)))"
   ]
  },
  {
   "cell_type": "code",
   "execution_count": 112,
   "id": "a95fee40",
   "metadata": {},
   "outputs": [
    {
     "name": "stdout",
     "output_type": "stream",
     "text": [
      "The probability of survival for a male in class two was 0.5%\n"
     ]
    }
   ],
   "source": [
    "print(\"The probability of survival for a male in class two was {}%\".format(round((prob_class2 * prob_female),1)))"
   ]
  },
  {
   "cell_type": "code",
   "execution_count": 113,
   "id": "1bc588f2",
   "metadata": {},
   "outputs": [
    {
     "name": "stdout",
     "output_type": "stream",
     "text": [
      "The probability of survival for a male in class three was 1.3%\n"
     ]
    }
   ],
   "source": [
    "print(\"The probability of survival for a male in class three was {}%\".format(round((prob_class3 * prob_female),1)))"
   ]
  }
 ],
 "metadata": {
  "kernelspec": {
   "display_name": "Python 3.10.4 64-bit",
   "language": "python",
   "name": "python3104jvsc74a57bd0aee8b7b246df8f9039afb4144a1f6fd8d2ca17a180786b69acc140d282b71a49"
  },
  "language_info": {
   "codemirror_mode": {
    "name": "ipython",
    "version": 3
   },
   "file_extension": ".py",
   "mimetype": "text/x-python",
   "name": "python",
   "nbconvert_exporter": "python",
   "pygments_lexer": "ipython3",
   "version": "3.10.4"
  }
 },
 "nbformat": 4,
 "nbformat_minor": 5
}
