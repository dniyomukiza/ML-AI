{
 "cells": [
  {
   "cell_type": "code",
   "execution_count": 20,
   "id": "57b3aac7",
   "metadata": {},
   "outputs": [
    {
     "name": "stdout",
     "output_type": "stream",
     "text": [
      "I can be friendly\n",
      "10\n"
     ]
    }
   ],
   "source": [
    "class animal:\n",
    "    def __init__(self):\n",
    "        self.age = 12\n",
    "        self.name = \"Jim\"\n",
    "        self.weight = 50\n",
    "        self.forEveryAn()\n",
    "    def forEveryAn(self):\n",
    "        print(\"I can be friendly\")\n",
    "\n",
    "class cat(animal):\n",
    "    def __init__(self):\n",
    "        super().__init__()\n",
    "        self.age = 10\n",
    "my_cat = cat()\n",
    "print(my_cat.age)\n"
   ]
  },
  {
   "cell_type": "code",
   "execution_count": null,
   "id": "1bb717c8",
   "metadata": {},
   "outputs": [],
   "source": []
  },
  {
   "cell_type": "code",
   "execution_count": null,
   "id": "f2214541",
   "metadata": {},
   "outputs": [],
   "source": []
  }
 ],
 "metadata": {
  "kernelspec": {
   "display_name": "Python 3 (ipykernel)",
   "language": "python",
   "name": "python3"
  },
  "language_info": {
   "codemirror_mode": {
    "name": "ipython",
    "version": 3
   },
   "file_extension": ".py",
   "mimetype": "text/x-python",
   "name": "python",
   "nbconvert_exporter": "python",
   "pygments_lexer": "ipython3",
   "version": "3.9.12"
  }
 },
 "nbformat": 4,
 "nbformat_minor": 5
}
