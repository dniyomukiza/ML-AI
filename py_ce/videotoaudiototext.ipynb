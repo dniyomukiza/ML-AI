{
 "cells": [
  {
   "cell_type": "code",
   "execution_count": 4,
   "metadata": {},
   "outputs": [],
   "source": [
    "#!pip install SpeechRecognition moviepy\n",
    "\n",
    "import speech_recognition as sr \n",
    "import moviepy.editor as mp"
   ]
  },
  {
   "cell_type": "code",
   "execution_count": 9,
   "metadata": {},
   "outputs": [
    {
     "name": "stderr",
     "output_type": "stream",
     "text": [
      "chunk:  37%|███▋      | 204/550 [00:00<00:00, 1869.61it/s, now=None]"
     ]
    },
    {
     "name": "stdout",
     "output_type": "stream",
     "text": [
      "MoviePy - Writing audio in converted.wav\n"
     ]
    },
    {
     "name": "stderr",
     "output_type": "stream",
     "text": [
      "                                                                    \r"
     ]
    },
    {
     "name": "stdout",
     "output_type": "stream",
     "text": [
      "MoviePy - Done.\n",
      "result2:\n",
      "{   'alternative': [   {   'confidence': 0.97036517,\n",
      "                           'transcript': 'hello my name is Ernesto Lee from '\n",
      "                                         'nesto.tv and ernesto.net and in this '\n",
      "                                         \"very important episode I'm going to \"\n",
      "                                         'show you the math behind machine '\n",
      "                                         'learning and deep learning I '\n",
      "                                         'typically like to stay away from the '\n",
      "                                         'math because I feel sometimes that '\n",
      "                                         'is intimidating to students and it '\n",
      "                                         'turns a lot of people'},\n",
      "                       {   'transcript': 'hello my name is Ernesto Lee from '\n",
      "                                         'nesto.tv and ernesto.net and in this '\n",
      "                                         \"very important episode I'm going to \"\n",
      "                                         'show you the math behind machine '\n",
      "                                         'learning and deep learning I '\n",
      "                                         'typically like to stay away from the '\n",
      "                                         'map because I feel sometimes that is '\n",
      "                                         'intimidating to students and it '\n",
      "                                         'turns a lot of people'}],\n",
      "    'final': True}\n"
     ]
    }
   ],
   "source": [
    "clip = mp.VideoFileClip(r\"ErnestoSample.mp4\")\n",
    "clip.audio.write_audiofile(r\"converted.wav\")\n",
    "r = sr.Recognizer()                         \n",
    "audio = sr.AudioFile(\"converted.wav\")                        \n",
    "with audio as source:\n",
    "    audio_file = r.record(source)\n",
    "result = r.recognize_google(audio_file)\n",
    "                       "
   ]
  },
  {
   "cell_type": "code",
   "execution_count": 11,
   "metadata": {},
   "outputs": [
    {
     "name": "stdout",
     "output_type": "stream",
     "text": [
      "ready!\n"
     ]
    }
   ],
   "source": [
    "with open('recognized.txt', mode='w') as file:\n",
    "    file.write(\"This is the recognized speech in the video: \")\n",
    "    file.write(\"\\n\")\n",
    "    file.write(result)\n",
    "    print(\"ready!\")\n"
   ]
  },
  {
   "cell_type": "code",
   "execution_count": 1,
   "metadata": {},
   "outputs": [
    {
     "name": "stdout",
     "output_type": "stream",
     "text": [
      "\u001b[33mWARNING: The directory '/home/jovyan/.cache/pip' or its parent directory is not owned or is not writable by the current user. The cache has been disabled. Check the permissions and owner of that directory. If executing pip with sudo, you should use sudo's -H flag.\u001b[0m\u001b[33m\n",
      "\u001b[0mCollecting git+https://github.com/openai/whisper.git\n",
      "  Cloning https://github.com/openai/whisper.git to /tmp/pip-req-build-a39zc9fs\n",
      "  Running command git clone --filter=blob:none --quiet https://github.com/openai/whisper.git /tmp/pip-req-build-a39zc9fs\n",
      "  Resolved https://github.com/openai/whisper.git to commit 4e635c66441dfae3c6c72365f802293afffca3ef\n",
      "  Preparing metadata (setup.py) ... \u001b[?25ldone\n",
      "\u001b[?25hRequirement already satisfied: numpy in /opt/conda/lib/python3.7/site-packages (from openai-whisper==20230124) (1.21.6)\n",
      "Requirement already satisfied: torch in /opt/conda/lib/python3.7/site-packages (from openai-whisper==20230124) (1.13.1)\n",
      "Requirement already satisfied: tqdm in /opt/conda/lib/python3.7/site-packages (from openai-whisper==20230124) (4.32.2)\n",
      "Requirement already satisfied: more-itertools in /opt/conda/lib/python3.7/site-packages (from openai-whisper==20230124) (8.0.2)\n",
      "Requirement already satisfied: transformers>=4.19.0 in /opt/conda/lib/python3.7/site-packages (from openai-whisper==20230124) (4.26.0)\n",
      "Requirement already satisfied: ffmpeg-python==0.2.0 in /opt/conda/lib/python3.7/site-packages (from openai-whisper==20230124) (0.2.0)\n",
      "Requirement already satisfied: future in /opt/conda/lib/python3.7/site-packages (from ffmpeg-python==0.2.0->openai-whisper==20230124) (0.18.2)\n",
      "Requirement already satisfied: filelock in /opt/conda/lib/python3.7/site-packages (from transformers>=4.19.0->openai-whisper==20230124) (3.9.0)\n",
      "Requirement already satisfied: requests in /opt/conda/lib/python3.7/site-packages (from transformers>=4.19.0->openai-whisper==20230124) (2.28.2)\n",
      "Requirement already satisfied: pyyaml>=5.1 in /opt/conda/lib/python3.7/site-packages (from transformers>=4.19.0->openai-whisper==20230124) (5.1.2)\n",
      "Requirement already satisfied: huggingface-hub<1.0,>=0.11.0 in /opt/conda/lib/python3.7/site-packages (from transformers>=4.19.0->openai-whisper==20230124) (0.11.1)\n",
      "Requirement already satisfied: importlib-metadata in /opt/conda/lib/python3.7/site-packages (from transformers>=4.19.0->openai-whisper==20230124) (1.3.0)\n",
      "Requirement already satisfied: tokenizers!=0.11.3,<0.14,>=0.11.1 in /opt/conda/lib/python3.7/site-packages (from transformers>=4.19.0->openai-whisper==20230124) (0.13.2)\n",
      "Requirement already satisfied: packaging>=20.0 in /opt/conda/lib/python3.7/site-packages (from transformers>=4.19.0->openai-whisper==20230124) (23.0)\n",
      "Requirement already satisfied: regex!=2019.12.17 in /opt/conda/lib/python3.7/site-packages (from transformers>=4.19.0->openai-whisper==20230124) (2022.10.31)\n",
      "Requirement already satisfied: nvidia-cuda-runtime-cu11==11.7.99 in /opt/conda/lib/python3.7/site-packages (from torch->openai-whisper==20230124) (11.7.99)\n",
      "Requirement already satisfied: typing-extensions in /opt/conda/lib/python3.7/site-packages (from torch->openai-whisper==20230124) (4.4.0)\n",
      "Requirement already satisfied: nvidia-cudnn-cu11==8.5.0.96 in /opt/conda/lib/python3.7/site-packages (from torch->openai-whisper==20230124) (8.5.0.96)\n",
      "Requirement already satisfied: nvidia-cuda-nvrtc-cu11==11.7.99 in /opt/conda/lib/python3.7/site-packages (from torch->openai-whisper==20230124) (11.7.99)\n",
      "Requirement already satisfied: nvidia-cublas-cu11==11.10.3.66 in /opt/conda/lib/python3.7/site-packages (from torch->openai-whisper==20230124) (11.10.3.66)\n",
      "Requirement already satisfied: setuptools in /opt/conda/lib/python3.7/site-packages (from nvidia-cublas-cu11==11.10.3.66->torch->openai-whisper==20230124) (41.0.1)\n",
      "Requirement already satisfied: wheel in /opt/conda/lib/python3.7/site-packages (from nvidia-cublas-cu11==11.10.3.66->torch->openai-whisper==20230124) (0.33.4)\n",
      "Requirement already satisfied: zipp>=0.5 in /opt/conda/lib/python3.7/site-packages (from importlib-metadata->transformers>=4.19.0->openai-whisper==20230124) (0.6.0)\n",
      "Requirement already satisfied: charset-normalizer<4,>=2 in /opt/conda/lib/python3.7/site-packages (from requests->transformers>=4.19.0->openai-whisper==20230124) (2.1.1)\n",
      "Requirement already satisfied: idna<4,>=2.5 in /opt/conda/lib/python3.7/site-packages (from requests->transformers>=4.19.0->openai-whisper==20230124) (2.8)\n",
      "Requirement already satisfied: certifi>=2017.4.17 in /opt/conda/lib/python3.7/site-packages (from requests->transformers>=4.19.0->openai-whisper==20230124) (2019.11.28)\n",
      "Requirement already satisfied: urllib3<1.27,>=1.21.1 in /opt/conda/lib/python3.7/site-packages (from requests->transformers>=4.19.0->openai-whisper==20230124) (1.25.3)\n",
      "\u001b[33mWARNING: Running pip as the 'root' user can result in broken permissions and conflicting behaviour with the system package manager. It is recommended to use a virtual environment instead: https://pip.pypa.io/warnings/venv\u001b[0m\u001b[33m\n",
      "\u001b[0m\u001b[33mWARNING: The directory '/home/jovyan/.cache/pip' or its parent directory is not owned or is not writable by the current user. The cache has been disabled. Check the permissions and owner of that directory. If executing pip with sudo, you should use sudo's -H flag.\u001b[0m\u001b[33m\n",
      "\u001b[0mRequirement already satisfied: pytube in /opt/conda/lib/python3.7/site-packages (12.1.2)\n",
      "\u001b[33mWARNING: Running pip as the 'root' user can result in broken permissions and conflicting behaviour with the system package manager. It is recommended to use a virtual environment instead: https://pip.pypa.io/warnings/venv\u001b[0m\u001b[33m\n",
      "\u001b[0m"
     ]
    }
   ],
   "source": [
    "#!pip install --upgrade pip\n",
    "!pip install git+https://github.com/openai/whisper.git\n",
    "!pip install pytube"
   ]
  },
  {
   "cell_type": "code",
   "execution_count": 2,
   "metadata": {},
   "outputs": [
    {
     "ename": "SyntaxError",
     "evalue": "invalid syntax (decoding.py, line 514)",
     "output_type": "error",
     "traceback": [
      "Traceback \u001b[0;36m(most recent call last)\u001b[0m:\n",
      "  File \u001b[1;32m\"/opt/conda/lib/python3.7/site-packages/IPython/core/interactiveshell.py\"\u001b[0m, line \u001b[1;32m3326\u001b[0m, in \u001b[1;35mrun_code\u001b[0m\n    exec(code_obj, self.user_global_ns, self.user_ns)\n",
      "  File \u001b[1;32m\"<ipython-input-2-81a21b42e6e0>\"\u001b[0m, line \u001b[1;32m1\u001b[0m, in \u001b[1;35m<module>\u001b[0m\n    import whisper\n",
      "\u001b[0;36m  File \u001b[0;32m\"/opt/conda/lib/python3.7/site-packages/whisper/__init__.py\"\u001b[0;36m, line \u001b[0;32m12\u001b[0;36m, in \u001b[0;35m<module>\u001b[0;36m\u001b[0m\n\u001b[0;31m    from .decoding import DecodingOptions, DecodingResult, decode, detect_language\u001b[0m\n",
      "\u001b[0;36m  File \u001b[0;32m\"/opt/conda/lib/python3.7/site-packages/whisper/decoding.py\"\u001b[0;36m, line \u001b[0;32m514\u001b[0m\n\u001b[0;31m    if prefix := self.options.prefix:\u001b[0m\n\u001b[0m               ^\u001b[0m\n\u001b[0;31mSyntaxError\u001b[0m\u001b[0;31m:\u001b[0m invalid syntax\n"
     ]
    }
   ],
   "source": [
    "import whisper"
   ]
  },
  {
   "cell_type": "code",
   "execution_count": null,
   "metadata": {},
   "outputs": [],
   "source": []
  }
 ],
 "metadata": {
  "kernelspec": {
   "display_name": "Python 3",
   "language": "python",
   "name": "python3"
  },
  "language_info": {
   "codemirror_mode": {
    "name": "ipython",
    "version": 3
   },
   "file_extension": ".py",
   "mimetype": "text/x-python",
   "name": "python",
   "nbconvert_exporter": "python",
   "pygments_lexer": "ipython3",
   "version": "3.7.3"
  }
 },
 "nbformat": 4,
 "nbformat_minor": 4
}
