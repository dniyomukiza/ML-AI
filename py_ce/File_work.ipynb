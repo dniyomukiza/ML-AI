{
 "cells": [
  {
   "cell_type": "code",
   "execution_count": null,
   "metadata": {},
   "outputs": [],
   "source": [
    "#outfile = open(\"test.txt\",\"w\")\n",
    "#outfile.write(\"Test\")\n",
    "#outfile.close()\n",
    "\n",
    "with open(\"test.txt\",'r')as my_file:\n",
    "    print(my_file.readline())"
   ]
  },
  {
   "cell_type": "code",
   "execution_count": null,
   "metadata": {},
   "outputs": [],
   "source": [
    "with open(\"test.txt\", \"w\") as my_file:\n",
    "    my_file.write(\"Learning is cool\\n\")\n"
   ]
  },
  {
   "cell_type": "code",
   "execution_count": null,
   "metadata": {},
   "outputs": [],
   "source": [
    "with open(\"test.txt\", \"a\") as my_file:\n",
    "    my_file.write(\"Learning is cool\\n\")\n"
   ]
  },
  {
   "cell_type": "code",
   "execution_count": null,
   "metadata": {},
   "outputs": [],
   "source": [
    "\"\"\"Three read methods:\n",
    "    read()\n",
    "    readlines()\n",
    "    readline()\"\"\"\n",
    "with open(\"test.txt\") as my_file:\n",
    "    for line in my_file:\n",
    "        if line.startswith(\"you\"):\n",
    "            print(line)\n"
   ]
  },
  {
   "cell_type": "code",
   "execution_count": null,
   "metadata": {},
   "outputs": [],
   "source": [
    "with open(\"test.txt\") as file:\n",
    "    lineslst= file.readlines()\n",
    "    print(lineslst[0], end='')\n",
    "    print(lineslst[1])"
   ]
  },
  {
   "cell_type": "code",
   "execution_count": null,
   "metadata": {},
   "outputs": [],
   "source": [
    "#write a list and create new file that holds it\n",
    "members = [\"Andre Mamola\", \"Kathy Buggs\", \"Jose Robles\"]\n",
    "with open(\"members.txt\", \"w\") as file:\n",
    "    for m in members:\n",
    "        file.write(f\"{m}\\n\")"
   ]
  },
  {
   "cell_type": "code",
   "execution_count": null,
   "metadata": {},
   "outputs": [],
   "source": [
    "members = []\n",
    "with open(\"members.txt\") as file:\n",
    "    for line in file:\n",
    "        line = line.replace(\"\\n\",\"\") # remove new line\n",
    "        members.append(line)\n",
    "print(members)"
   ]
  },
  {
   "cell_type": "code",
   "execution_count": null,
   "metadata": {},
   "outputs": [],
   "source": [
    "years = [1975, 1979, 1983]\n",
    "with open(\"years.txt\", \"w\") as years_file:\n",
    "    for year in years:\n",
    "        years_file.write(f\"{year}\\n\")  "
   ]
  },
  {
   "cell_type": "code",
   "execution_count": null,
   "metadata": {},
   "outputs": [],
   "source": [
    "years = []\n",
    "with open(\"years.txt\") as file:\n",
    "    for line in file:\n",
    "        line = line.replace(\"\\n\", \"\")\n",
    "        years.append(int(line))    # converts str to int\n",
    "print(years)"
   ]
  },
  {
   "cell_type": "code",
   "execution_count": 7,
   "metadata": {},
   "outputs": [
    {
     "name": "stdout",
     "output_type": "stream",
     "text": [
      "['a wooden staff', 'a wizard hat', 'a cloak of invisibility', 'some elven bread', 'an unknown potion', 'a scroll of uncursing', 'a scroll of invisibility', 'a crossbow', \"a wizard's cloak\"]\n"
     ]
    }
   ],
   "source": [
    "original_file = []\n",
    "with open(\"wizard_all_items.txt\") as file:\n",
    "    for line in file:\n",
    "        line = line.replace(\"\\n\",\"\") # remove new line\n",
    "        original_file.append(line)\n",
    "print(original_file)\n",
    "\n",
    "#copy original to new file\n",
    "\n",
    "\n",
    "with open(\"wizardss_inventory.txt\", \"w\") as text_file:\n",
    "    for item in original_file[:4]:\n",
    "        text_file.write(f\"{item}\\n\") "
   ]
  },
  {
   "cell_type": "code",
   "execution_count": null,
   "metadata": {},
   "outputs": [],
   "source": [
    "FILENAME = \"movies.txt\"\n",
    " \n",
    "def write_movies(movies):\n",
    "    with open(FILENAME, \"w\") as file:\n",
    "        for movie in movies:\n",
    "            file.write(f\"{movie}\\n\")    \n",
    "def read_movies():\n",
    "    movies = []\n",
    "    with open(FILENAME) as file:\n",
    "        for line in file:\n",
    "            line = line.replace(\"\\n\", \"\")\n",
    "            movies.append(line)\n",
    "    return movies\n",
    "    \n",
    "def list_movies(movies):\n",
    "    for i, movie in enumerate(movies, start=1):\n",
    "        print(f\"{i}. {movie}\")\n",
    "    print()\n",
    "    \n",
    "def add_movie(movies):\n",
    "    movie = input(\"Movie: \")\n",
    "    movies.append(movie)\n",
    "    write_movies(movies)\n",
    "    print(f\"{movie} was added.\\n\")\n",
    "def delete_movie(movies):\n",
    "    index = int(input(\"Number: \"))   \n",
    "    if index < 1 or index > len(movies):\n",
    "        print(\"Invalid movie number.\\n\")\n",
    "    else:\n",
    "        movie = movies.pop(index - 1)\n",
    "        write_movies(movies)\n",
    "        print(f\"{movie} was deleted.\\n\")\n",
    "        \n",
    "def display_menu():\n",
    "    print(\"The Movie List program\")\n",
    "    print()\n",
    "    print(\"COMMAND MENU\")\n",
    "    print(\"list - List all movies\")\n",
    "    print(\"add -  Add a movie\")\n",
    "    print(\"del -  Delete a movie\")\n",
    "    print(\"exit - Exit program\")\n",
    "    print()\n",
    "    \n",
    "def main():\n",
    "    display_menu()\n",
    "    movies = read_movies()\n",
    "    while True:\n",
    "        command = input(\"Command: \")\n",
    "        if command.lower() == \"list\":\n",
    "            list_movies(movies)\n",
    "        elif command.lower() == \"add\":\n",
    "            add_movie(movies)\n",
    "        elif command.lower() == \"del\":\n",
    "            delete_movie(movies)\n",
    "        elif command.lower() == \"exit\":\n",
    "            print(\"Bye!\")\n",
    "            break\n",
    "        else:\n",
    "            print(\"Not a valid command. \",\n",
    "                  \"Please try again.\")\n",
    "if __name__ == \"__main__\":\n",
    "    main()\n"
   ]
  },
  {
   "cell_type": "code",
   "execution_count": null,
   "metadata": {},
   "outputs": [],
   "source": [
    "#Inventory problem\n",
    "def command_menu():\n",
    "    print(\"COMMAND MENU\")\n",
    "    print()\n",
    "    print(\"walk - Walk down the path\")\n",
    "    print(\"show - Show all items\")\n",
    "    print(\"drop - Drop an item\")\n",
    "    print(\"exit - Exit program\")\n",
    "    print()\n",
    "    \n",
    "blank_list = []\n",
    "def add_item(blank_list):\n",
    "    movie = input(\"Item: \")\n",
    "    movies.append(blank_list)\n",
    "    write_movies(blank_list)\n",
    "    print(f\"{blank_list} was added.\\n\")\n",
    "    \n",
    "def delete_item(inventory_list):\n",
    "    index = int(input(\"Number: \"))   \n",
    "    if index < 1 or index > len(inventory_list):\n",
    "        print(\"Invalid inventory number.\\n\")\n",
    "    else:\n",
    "        movie = movies.pop(index - 1)\n",
    "        write_movies(movies)\n",
    "        print(f\"{movie} was deleted.\\n\")\n",
    "        \n",
    "original_file = []\n",
    "with open(\"wizards_all_items.txt\") as file:\n",
    "    for line in file:\n",
    "        line = line.replace(\"\\n\",\"\") # remove new line\n",
    "        original_file.append(line)\n",
    "#print(original_file)\n",
    "#copy original to new file\n",
    "inventory_list = []\n",
    "with open(\"wizards_inventory.txt\") as file:\n",
    "    for line in file:\n",
    "        line = line.replace(\"\\n\",\"\") # remove new line\n",
    "        original_file.append(line)\n",
    "\n",
    "\n",
    "with open(\"wizards_inventory.txt\", \"w\") as text_file:\n",
    "    for item in original_file[:4]:\n",
    "        text_file.write(f\"{item}\\n\") \n"
   ]
  }
 ],
 "metadata": {
  "kernelspec": {
   "display_name": "Python 3",
   "language": "python",
   "name": "python3"
  },
  "language_info": {
   "codemirror_mode": {
    "name": "ipython",
    "version": 3
   },
   "file_extension": ".py",
   "mimetype": "text/x-python",
   "name": "python",
   "nbconvert_exporter": "python",
   "pygments_lexer": "ipython3",
   "version": "3.7.3"
  }
 },
 "nbformat": 4,
 "nbformat_minor": 4
}
