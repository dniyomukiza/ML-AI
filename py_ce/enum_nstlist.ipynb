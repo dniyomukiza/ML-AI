{
 "cells": [
  {
   "cell_type": "code",
   "execution_count": null,
   "metadata": {},
   "outputs": [],
   "source": [
    "color = {'blue':1,'white':2,'gree':3}"
   ]
  },
  {
   "cell_type": "code",
   "execution_count": null,
   "metadata": {},
   "outputs": [],
   "source": [
    "color.values()"
   ]
  },
  {
   "cell_type": "code",
   "execution_count": null,
   "metadata": {},
   "outputs": [],
   "source": [
    "color.keys()"
   ]
  },
  {
   "cell_type": "code",
   "execution_count": null,
   "metadata": {},
   "outputs": [],
   "source": [
    "import os\n",
    "os.getcwd()"
   ]
  },
  {
   "cell_type": "code",
   "execution_count": null,
   "metadata": {},
   "outputs": [],
   "source": [
    "#os.listdir()\n",
    "os.path.isfile('/home/jovyan/work/python-journey')"
   ]
  },
  {
   "cell_type": "code",
   "execution_count": null,
   "metadata": {},
   "outputs": [],
   "source": [
    "os.chdir(./your director name)"
   ]
  },
  {
   "cell_type": "code",
   "execution_count": null,
   "metadata": {},
   "outputs": [],
   "source": [
    "def print_file1(fname):\n",
    "\tf = open(fname, 'r')\n",
    "\tfor line in f:\n",
    "\t\tprint(line, end = '')\n",
    "\tf.close() # optional\n",
    "    \n",
    "def make_story1():\n",
    "\tf = open('story.txt', 'w')\n",
    "\tf.write('Mary had a little lamb,\\n')\n",
    "\tf.write('and then she had some more.\\n')\n",
    "    \n",
    "check file exist\n",
    "import os\n",
    "def make_story2():\n",
    "\tif os.path.isfile('story.txt'):\n",
    "\t\tprint('story.txt already exists')\n",
    "\telse:\n",
    "\t\tf = open('story.txt', 'w')\n",
    "\t\tf.write('Mary had a little lamb,\\n')\n",
    "\t\tf.write('and then she had some more\n",
    "                \n",
    "def add_to_story(line, fname = 'story.txt'):\n",
    "\tf = open(fname, 'a')\n",
    "\tf.write(line)\n",
    "add_to_story('its fleece was white as snow?','story.txt')\n",
    "                \n"
   ]
  },
  {
   "cell_type": "code",
   "execution_count": 15,
   "metadata": {},
   "outputs": [
    {
     "name": "stdout",
     "output_type": "stream",
     "text": [
      "orange\n",
      "banana\n"
     ]
    }
   ],
   "source": [
    "def lst_pract(lst):\n",
    "    for fruit in fruits[1:]:\n",
    "        print(fruit)\n",
    "    \n",
    "    \n",
    "fruits = ['apple', 'orange', 'banana']\n",
    "#vegetables = ['tomatoes', 'carrots',  'kale']\n",
    "lst_pract(fruits)"
   ]
  },
  {
   "cell_type": "code",
   "execution_count": 21,
   "metadata": {},
   "outputs": [
    {
     "name": "stdout",
     "output_type": "stream",
     "text": [
      "tomato soup : tomatoes\n",
      "carrot juice : carrots\n"
     ]
    }
   ],
   "source": [
    "def nest_list(my_list):\n",
    "    for i in my_list:\n",
    "        print(i[0],':',i[1])\n",
    "nested_lst = [['tomato soup', 'tomatoes'], ['carrot juice', 'carrots']]\n",
    "nest_list(nested_lst)"
   ]
  },
  {
   "cell_type": "code",
   "execution_count": 42,
   "metadata": {},
   "outputs": [
    {
     "name": "stdout",
     "output_type": "stream",
     "text": [
      "tomato soup 0\n",
      "carrot juice 1\n"
     ]
    }
   ],
   "source": [
    "def enum_func(list2):\n",
    "    for index,item in enumerate(list2):\n",
    "        print(item[0],index)\n",
    "enum_func(nested_lst)      "
   ]
  },
  {
   "cell_type": "code",
   "execution_count": 79,
   "metadata": {},
   "outputs": [
    {
     "name": "stdout",
     "output_type": "stream",
     "text": [
      "tomato soup\n"
     ]
    }
   ],
   "source": [
    "\n",
    "def enum_func(list3):\n",
    "    for item in range(len(list3)):\n",
    "        if 'tomatoes' in list3[item]:\n",
    "            print(list3[item][0])\n",
    "        \n",
    "enum_func(nested_lst)      "
   ]
  },
  {
   "cell_type": "code",
   "execution_count": 76,
   "metadata": {},
   "outputs": [
    {
     "name": "stdout",
     "output_type": "stream",
     "text": [
      "['apple', 'banana', 'mango']\n"
     ]
    }
   ],
   "source": [
    "fruits = [\"apple\", \"banana\", \"cherry\", \"kiwi\", \"mango\"]\n",
    "newlist = []\n",
    "\n",
    "for x in fruits:\n",
    "  if \"a\" in x:\n",
    "    newlist.append(x)\n",
    "\n",
    "print(newlist)"
   ]
  },
  {
   "cell_type": "code",
   "execution_count": 89,
   "metadata": {},
   "outputs": [
    {
     "data": {
      "text/plain": [
       "['apple', 'banana', 'mango']"
      ]
     },
     "execution_count": 89,
     "metadata": {},
     "output_type": "execute_result"
    }
   ],
   "source": [
    "def lst_comprehension(lst):\n",
    "    fruits = [\"apple\", \"banana\", \"cherry\", \"kiwi\", \"mango\"]\n",
    "\n",
    "    newlist = [x for x in fruits if \"a\" in x]\n",
    "    return  newlist\n",
    "\n",
    "lst_comprehension(fruits)"
   ]
  },
  {
   "cell_type": "code",
   "execution_count": 81,
   "metadata": {},
   "outputs": [],
   "source": [
    "#list comprehension\n",
    "fruits = ['apple', 'orange', 'banana']\n",
    "veggies = [['tomato soup', 'tomatoes'], ['carrot juice', 'carrots']]\n",
    "new_list= [item for item in veggies if 'a'in veggies]"
   ]
  }
 ],
 "metadata": {
  "kernelspec": {
   "display_name": "Python 3",
   "language": "python",
   "name": "python3"
  },
  "language_info": {
   "codemirror_mode": {
    "name": "ipython",
    "version": 3
   },
   "file_extension": ".py",
   "mimetype": "text/x-python",
   "name": "python",
   "nbconvert_exporter": "python",
   "pygments_lexer": "ipython3",
   "version": "3.7.3"
  }
 },
 "nbformat": 4,
 "nbformat_minor": 4
}
