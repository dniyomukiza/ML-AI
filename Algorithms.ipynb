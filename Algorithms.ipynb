{
 "cells": [
  {
   "cell_type": "code",
   "execution_count": 5,
   "id": "37186845",
   "metadata": {},
   "outputs": [
    {
     "name": "stdout",
     "output_type": "stream",
     "text": [
      "Target found at index:  1\n"
     ]
    }
   ],
   "source": [
    "#returns index postition of the target if found,otherwise none\n",
    "def linearSearch(myList,target):\n",
    "    for index in range(0,len(myList)):\n",
    "        if myList[index] == target:\n",
    "            return index\n",
    "    return None\n",
    "\n",
    "def verify(indexValue):\n",
    "    if indexValue is not None:\n",
    "        print(\"Target found at index: \",indexValue)\n",
    "    else:\n",
    "        print(\"Value not in the list\")\n",
    "items = [1,2,3,4,5,6,7,8,9,10]\n",
    "result = linearSearch(items,2)\n",
    "verify(result)\n",
    "    "
   ]
  },
  {
   "cell_type": "code",
   "execution_count": 6,
   "id": "9d3dd67c",
   "metadata": {},
   "outputs": [
    {
     "name": "stdout",
     "output_type": "stream",
     "text": [
      "Target found at index:  8\n"
     ]
    }
   ],
   "source": [
    "#BinarySearch\n",
    "def binarySearch(list1,target):\n",
    "    firstValPos = 0\n",
    "    lastValPos = len(list1) - 1\n",
    "    while firstValPos <= lastValPos:\n",
    "        midPos = (firstValPos + lastValPos) // 2\n",
    "        if list1[midPos] == target:\n",
    "            return target\n",
    "        elif list1[midPos] < target:\n",
    "            firstValPos = midPos + 1\n",
    "        else:\n",
    "            last = midPos - 1\n",
    "    return None\n",
    "list1 = [1,2,3,4,5,6,7,8,9,10]\n",
    "result = binarySearch(list1,8)\n",
    "verify(result)\n",
    "    "
   ]
  }
 ],
 "metadata": {
  "kernelspec": {
   "display_name": "Python 3.10.4 64-bit",
   "language": "python",
   "name": "python3104jvsc74a57bd0aee8b7b246df8f9039afb4144a1f6fd8d2ca17a180786b69acc140d282b71a49"
  },
  "language_info": {
   "codemirror_mode": {
    "name": "ipython",
    "version": 3
   },
   "file_extension": ".py",
   "mimetype": "text/x-python",
   "name": "python",
   "nbconvert_exporter": "python",
   "pygments_lexer": "ipython3",
   "version": "3.10.4"
  }
 },
 "nbformat": 4,
 "nbformat_minor": 5
}
