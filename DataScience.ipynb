{
 "cells": [
  {
   "cell_type": "code",
   "execution_count": null,
   "metadata": {},
   "outputs": [],
   "source": [
    "# Import basic libraries\n",
    "import numpy as np \n",
    "import pandas as pd \n",
    "# import visualization libraries\n",
    "import seaborn as sns\n",
    "import matplotlib.pyplot as plt\n",
    "%matplotlib inline"
   ]
  },
  {
   "cell_type": "code",
   "execution_count": null,
   "metadata": {},
   "outputs": [],
   "source": [
    "df = pd.read_excel(\"https://github.com/fenago/python4DS/blob/main/cc_headers.xls?raw=true\")\n",
    "df.head() #if you want top 10, put ten in parantethis or tail for last five\n",
    "#df.to_csv(\"MyTextFile.csv\") write frame to a cvs file\n",
    "#df.info\n",
    "#df.shape\n",
    "#df.describe().T  transpose vd horizontal data\n",
    "# Checking for Null Values  df.isnull().sum()\n",
    "# unique values in a column print('SEX ' + str(sorted(df['SEX'].unique()\n"
   ]
  },
  {
   "cell_type": "code",
   "execution_count": null,
   "metadata": {},
   "outputs": [],
   "source": [
    "#unique value about mariage col\n",
    "print('MARRIAGE ' + str(sorted(df['MARRIAGE'].unique())))"
   ]
  },
  {
   "cell_type": "code",
   "execution_count": null,
   "metadata": {},
   "outputs": [],
   "source": [
    "#remove values more than 4 convert them into 4\n",
    "fill = (df.EDUCATION == 0) | (df.EDUCATION == 5) | (df.EDUCATION == 6)\n",
    "df.loc[fill, 'EDUCATION'] = 4"
   ]
  },
  {
   "cell_type": "code",
   "execution_count": null,
   "metadata": {},
   "outputs": [],
   "source": [
    "#renamming col\n",
    "df = df.rename(columns={'default payment next month': 'DEFAULT', 'PAY_0': 'PAY_1'})"
   ]
  },
  {
   "cell_type": "code",
   "execution_count": null,
   "metadata": {},
   "outputs": [],
   "source": [
    "#visulalize one column\n",
    "sns.countplot(x=\"DEFAULT\", data=df)\n",
    "#how many people are defaulting\n",
    "df['DEFAULT'].value_counts()\n",
    "\n",
    "\n"
   ]
  },
  {
   "cell_type": "code",
   "execution_count": null,
   "metadata": {},
   "outputs": [],
   "source": [
    "# Defaulting by sex,how many def in M def in F\n",
    "sns.set(rc={'figure.figsize':(15,10)})\n",
    "edu = sns.countplot(x='SEX', hue='DEFAULT', data=df)\n",
    "edu.set_xticklabels(['Male','Female'])\n",
    "plt.show()\n"
   ]
  },
  {
   "cell_type": "code",
   "execution_count": null,
   "metadata": {},
   "outputs": [],
   "source": [
    "pd.crosstab(df.SEX,df.DEFAULT,normalize='index',margins=True)"
   ]
  },
  {
   "cell_type": "code",
   "execution_count": null,
   "metadata": {},
   "outputs": [],
   "source": [
    "#likely to default by education level\n",
    "pd.crosstab(df.EDUCATION,df.DEFAULT,normalize='index')\n"
   ]
  },
  {
   "cell_type": "code",
   "execution_count": null,
   "metadata": {},
   "outputs": [],
   "source": [
    "sns.set(rc={'figure.figsize':(12,10)})\n",
    "marriage = sns.countplot(x=\"MARRIAGE\", hue='DEFAULT', data=df )\n",
    "marriage.set_xticklabels(['Married','Single','Other'])\n",
    "plt.show()"
   ]
  },
  {
   "cell_type": "code",
   "execution_count": null,
   "metadata": {},
   "outputs": [],
   "source": [
    "pd.crosstab(df.MARRIAGE,df.DEFAULT,normalize='index',margins=True)"
   ]
  },
  {
   "cell_type": "code",
   "execution_count": null,
   "metadata": {},
   "outputs": [],
   "source": [
    "# Correlation Matrix\n",
    "sns.set(rc={'figure.figsize':(30,10)})\n",
    "sns.set_context(\"talk\", font_scale=0.7)\n",
    "sns.heatmap(df.iloc[:,1:].corr(method='spearman'), cmap='rainbow_r', annot=True)"
   ]
  },
  {
   "cell_type": "code",
   "execution_count": null,
   "metadata": {},
   "outputs": [],
   "source": [
    "#show correlation numbers\n",
    "df.drop(\"DEFAULT\", axis=1).apply(lambda x: x.corr(df.DEFAULT,method='spearman'))"
   ]
  },
  {
   "cell_type": "code",
   "execution_count": null,
   "metadata": {},
   "outputs": [],
   "source": [
    "list1=[True,1,'why',{},2]\n",
    "int_val = 0\n",
    "bool_val = 0\n",
    "for i in list1:\n",
    "    if isinstance(i, int):\n",
    "        int_val += 1\n",
    "    elif isinstance(i, bool):\n",
    "        bool_val += 1\n",
    "print(f'ints found: {int_val},bool found:{bool_val}')      \n",
    "        "
   ]
  },
  {
   "cell_type": "code",
   "execution_count": null,
   "metadata": {},
   "outputs": [],
   "source": []
  },
  {
   "cell_type": "code",
   "execution_count": null,
   "metadata": {},
   "outputs": [],
   "source": []
  }
 ],
 "metadata": {
  "kernelspec": {
   "display_name": "Python 3",
   "language": "python",
   "name": "python3"
  },
  "language_info": {
   "codemirror_mode": {
    "name": "ipython",
    "version": 3
   },
   "file_extension": ".py",
   "mimetype": "text/x-python",
   "name": "python",
   "nbconvert_exporter": "python",
   "pygments_lexer": "ipython3",
   "version": "3.7.3"
  }
 },
 "nbformat": 4,
 "nbformat_minor": 4
}
