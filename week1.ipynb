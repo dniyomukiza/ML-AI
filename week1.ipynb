{
 "cells": [
  {
   "cell_type": "markdown",
   "metadata": {},
   "source": [
    "This is [Apple](https://www.apple.com)"
   ]
  },
  {
   "cell_type": "markdown",
   "metadata": {},
   "source": [
    "**powerful**"
   ]
  },
  {
   "cell_type": "code",
   "execution_count": null,
   "metadata": {},
   "outputs": [],
   "source": [
    "print(\" Hi, my name is Didier Niyomukiza\")"
   ]
  },
  {
   "cell_type": "code",
   "execution_count": null,
   "metadata": {},
   "outputs": [],
   "source": [
    "x = 21"
   ]
  },
  {
   "cell_type": "code",
   "execution_count": null,
   "metadata": {},
   "outputs": [],
   "source": [
    "dir()"
   ]
  },
  {
   "cell_type": "code",
   "execution_count": null,
   "metadata": {},
   "outputs": [],
   "source": [
    "import this"
   ]
  },
  {
   "cell_type": "code",
   "execution_count": null,
   "metadata": {},
   "outputs": [],
   "source": [
    "a= [1,2,4]"
   ]
  },
  {
   "cell_type": "code",
   "execution_count": null,
   "metadata": {},
   "outputs": [],
   "source": [
    "b= a"
   ]
  },
  {
   "cell_type": "code",
   "execution_count": null,
   "metadata": {},
   "outputs": [],
   "source": [
    "b"
   ]
  },
  {
   "cell_type": "code",
   "execution_count": null,
   "metadata": {},
   "outputs": [],
   "source": [
    "c=b"
   ]
  },
  {
   "cell_type": "code",
   "execution_count": null,
   "metadata": {},
   "outputs": [],
   "source": [
    "c"
   ]
  },
  {
   "cell_type": "code",
   "execution_count": null,
   "metadata": {},
   "outputs": [],
   "source": [
    "print(a,b,c)"
   ]
  },
  {
   "cell_type": "code",
   "execution_count": null,
   "metadata": {},
   "outputs": [],
   "source": [
    "x= 'h'"
   ]
  },
  {
   "cell_type": "code",
   "execution_count": null,
   "metadata": {},
   "outputs": [],
   "source": [
    "x=2"
   ]
  },
  {
   "cell_type": "code",
   "execution_count": null,
   "metadata": {},
   "outputs": [],
   "source": [
    "x"
   ]
  },
  {
   "cell_type": "markdown",
   "metadata": {},
   "source": [
    "\\n   means a new line char if in a string\n",
    "\\t means a tab\n",
    "\\\\ mans a single normal backslash in a string\n",
    "\\\" is a plain double quote in a string"
   ]
  },
  {
   "cell_type": "code",
   "execution_count": null,
   "metadata": {},
   "outputs": [],
   "source": [
    "'ka'"
   ]
  },
  {
   "cell_type": "code",
   "execution_count": null,
   "metadata": {},
   "outputs": [],
   "source": [
    "r = 'k'"
   ]
  },
  {
   "cell_type": "code",
   "execution_count": null,
   "metadata": {},
   "outputs": [],
   "source": []
  },
  {
   "cell_type": "code",
   "execution_count": null,
   "metadata": {},
   "outputs": [],
   "source": [
    "orlando= int(input(\"Orlando,enter your bicycle cost:\"))"
   ]
  },
  {
   "cell_type": "code",
   "execution_count": null,
   "metadata": {},
   "outputs": [],
   "source": [
    "didier= int(input(\"Didier,your bicycle cost:\"))"
   ]
  },
  {
   "cell_type": "code",
   "execution_count": null,
   "metadata": {},
   "outputs": [],
   "source": [
    "didier"
   ]
  },
  {
   "cell_type": "code",
   "execution_count": null,
   "metadata": {},
   "outputs": [],
   "source": [
    "age = int(input('How old are you?'))\n",
    "\n",
    "if age <= 2:\n",
    "    print('free')\n",
    "elif 2 age < 13:\n",
    "    print('child')\n",
    "elif age "
   ]
  },
  {
   "cell_type": "code",
   "execution_count": null,
   "metadata": {},
   "outputs": [],
   "source": [
    "for i in range(10):\n",
    "    print(i)\n"
   ]
  },
  {
   "cell_type": "code",
   "execution_count": null,
   "metadata": {},
   "outputs": [],
   "source": [
    "for i in range(5,10):\n",
    "    print(i)"
   ]
  },
  {
   "cell_type": "code",
   "execution_count": null,
   "metadata": {},
   "outputs": [],
   "source": [
    "i = 0\n",
    "while i < 10:\n",
    "    print(i)\n",
    "    i= i+1"
   ]
  },
  {
   "cell_type": "code",
   "execution_count": null,
   "metadata": {},
   "outputs": [],
   "source": [
    "n = int(input('enter num greater than zero'))\n",
    "fact = 1\n",
    "n=2\n",
    " \n",
    "while <=n:\n",
    "        fact = fact*i\n",
    "        i+=1\n",
    "print(str(n)+ 'the factorial is' +str(fact))"
   ]
  },
  {
   "cell_type": "code",
   "execution_count": null,
   "metadata": {},
   "outputs": [],
   "source": [
    "total = 0\n",
    "s = input('enter num or type done')\n",
    "while s!= 'done':\n",
    "    num = int(s)\n",
    "    total = total+num\n",
    "    s = input('enter num or type done')"
   ]
  },
  {
   "cell_type": "code",
   "execution_count": null,
   "metadata": {},
   "outputs": [],
   "source": [
    "print('Didier')"
   ]
  },
  {
   "cell_type": "code",
   "execution_count": null,
   "metadata": {},
   "outputs": [],
   "source": [
    "x = print('Didier')"
   ]
  },
  {
   "cell_type": "code",
   "execution_count": null,
   "metadata": {},
   "outputs": [],
   "source": [
    "import math"
   ]
  },
  {
   "cell_type": "code",
   "execution_count": null,
   "metadata": {},
   "outputs": [],
   "source": [
    "def area(radius):\n",
    "    \"\"\"\n",
    "    returs area given radius\n",
    "    \"\"\"\n",
    "    ar =math.pi*radius**2\n",
    "    print('o')\n",
    "    return ar"
   ]
  },
  {
   "cell_type": "code",
   "execution_count": null,
   "metadata": {},
   "outputs": [],
   "source": [
    "area(2)"
   ]
  },
  {
   "cell_type": "code",
   "execution_count": null,
   "metadata": {},
   "outputs": [],
   "source": [
    "name = 'Didier'\n",
    "def my_name():\n",
    "    print('I am ', name)\n",
    "my_name()"
   ]
  },
  {
   "cell_type": "code",
   "execution_count": null,
   "metadata": {},
   "outputs": [],
   "source": [
    "my_name()"
   ]
  },
  {
   "cell_type": "code",
   "execution_count": null,
   "metadata": {},
   "outputs": [],
   "source": [
    "def avg(list1):\n",
    "   \n",
    "    total = 0\n",
    "\n",
    "    for i in list1:\n",
    "        total += i\n",
    "    return total\n",
    "avg( list1 = [2,3,1])\n",
    "    \n",
    "    \n"
   ]
  },
  {
   "cell_type": "code",
   "execution_count": null,
   "metadata": {},
   "outputs": [],
   "source": [
    "name = 'Dr Lee'"
   ]
  },
  {
   "cell_type": "code",
   "execution_count": null,
   "metadata": {},
   "outputs": [],
   "source": [
    "name.upper()"
   ]
  },
  {
   "cell_type": "code",
   "execution_count": null,
   "metadata": {},
   "outputs": [],
   "source": [
    "name.lower()"
   ]
  },
  {
   "cell_type": "code",
   "execution_count": null,
   "metadata": {},
   "outputs": [],
   "source": [
    "name"
   ]
  },
  {
   "cell_type": "code",
   "execution_count": null,
   "metadata": {},
   "outputs": [],
   "source": [
    "age = 21\n",
    "if age >= 21:\n",
    "    print('you can vote')"
   ]
  },
  {
   "cell_type": "code",
   "execution_count": null,
   "metadata": {},
   "outputs": [],
   "source": [
    "score = int(input(\"Enter your score\"))\n",
    "\n",
    "if 90 <= score :\n",
    "    print(' A')\n",
    "elif 80<= score <=89:\n",
    "       print(' B')\n",
    "else:\n",
    "    print('C')"
   ]
  },
  {
   "cell_type": "code",
   "execution_count": null,
   "metadata": {},
   "outputs": [],
   "source": [
    "score = int(input(\"Enter test score: \"))\n",
    "if score >= 90 and score <= 100:\n",
    "    grade = \"A\"\n",
    "elif score >= 80 and score < 90:\n",
    "    grade = \"B\"\n",
    "elif score >= 70 and score < 80:\n",
    "    grade = \"C\"\n",
    "elif score >= 60 score < 70:\n",
    "    grade = \"D\"\n",
    "elif score < 60:\n",
    "    grade = \"F\"\n",
    "print(grade)"
   ]
  },
  {
   "cell_type": "code",
   "execution_count": null,
   "metadata": {},
   "outputs": [],
   "source": [
    "if r = dis = 0\n",
    "w= .4\n",
    "\n",
    "check if r or w\n",
    "total minus total*0 for r\n",
    "total minus total*.4 for w\n"
   ]
  },
  {
   "cell_type": "code",
   "execution_count": null,
   "metadata": {},
   "outputs": [],
   "source": [
    "for i in range(5):\n",
    "    print(i,)\n"
   ]
  },
  {
   "cell_type": "markdown",
   "metadata": {},
   "source": [
    "The formula for calculating the tip amount is: tip = cost of meal * (tip percent / 100)\n",
    "The program should accept decimal entries like 52.31 and 15.5.\n",
    "Assume the user will enter valid data.\n",
    "The program should round the results to a maximum of two decimal places."
   ]
  },
  {
   "cell_type": "code",
   "execution_count": null,
   "metadata": {},
   "outputs": [],
   "source": [
    "REGISTRATION \n",
    "\n",
    "first = input(\"Put your first name: \")\n",
    "first = first.capitalize().strip()\n",
    "last = input(\"Put your last name: \")\n",
    "last = last.capitalize().strip()\n",
    "Birth = input(\"Input your birth Year: \")\n",
    "print(\"Welcome \" + first + ' ' + last + '!')\n",
    "print(\"Your registration is complete!\")\n",
    "print(\"Your temporary password is \" + first + \"*\" + Birth)"
   ]
  },
  {
   "cell_type": "code",
   "execution_count": null,
   "metadata": {},
   "outputs": [],
   "source": [
    "3RD\n",
    "\n",
    "\n"
   ]
  },
  {
   "cell_type": "code",
   "execution_count": null,
   "metadata": {},
   "outputs": [],
   "source": [
    "#TIP CALCULATOR\n",
    "\n",
    "meal_cost= float(input('Enter meal cost:'))\n",
    "print('Tip options: 15%, 20% 0r 25%')\n",
    "tip_percent = int (input('Enter tip percentage:'))\n",
    "tip_percent15 =   15/100\n",
    "tip_percent20 =   20/100\n",
    "tip_percent25 =   25/100\n",
    "\n",
    "if tip_percent== 15:\n",
    "    tip_amount15 = meal_cost * tip_percent15\n",
    "    total_amount15 = meal_cost + tip_amount15\n",
    "    tip_amount20 = meal_cost * tip_percent20\n",
    "    total_amount20 = meal_cost + tip_amount20\n",
    "    tip_amount25 = meal_cost * tip_percent25\n",
    "    total_amount25 = meal_cost + tip_amount25\n",
    "    \n",
    "elif tip_percent== 20:\n",
    "    tip_amount15 = meal_cost * tip_percent15\n",
    "    total_amount15 = meal_cost + tip_amount15\n",
    "    tip_amount20 = meal_cost * tip_percent20\n",
    "    total_amount20 = meal_cost + tip_amount20\n",
    "    tip_amount25 = meal_cost * tip_percent25\n",
    "    total_amount25 = meal_cost + tip_amount25\n",
    "else:\n",
    "    tip_amount15 = meal_cost * tip_percent15\n",
    "    total_amount15 = meal_cost + tip_amount15\n",
    "    tip_amount20 = meal_cost * tip_percent20\n",
    "    total_amount20 = meal_cost + tip_amount20\n",
    "    tip_amount25 = meal_cost * tip_percent25\n",
    "    total_amount25 = meal_cost + tip_amount25\n",
    "    \n",
    "print('\\nAt 15% \\n Tip amount is: ', round(tip_amount15,2))\n",
    "print(' Total amount is: ',round(total_amount15,2),'\\n' )\n",
    "print('At 20% \\n Tip amount is: ', round(tip_amount20,2))\n",
    "print(' Total amount is: ',round(total_amount20,2),'\\n' )\n",
    "print('At 25% \\n Tip amount is: ', round(tip_amount25,2))\n",
    "print(' Total amount is: ',round(total_amount25,2) )\n",
    "\n"
   ]
  },
  {
   "cell_type": "code",
   "execution_count": null,
   "metadata": {},
   "outputs": [],
   "source": [
    "## Letter Grade Converter\n",
    "\n",
    "\n",
    "def grade_calc():\n",
    "  number_grade = int(input(\"Enter Numerical Grade: \"))\n",
    "  if number_grade >=90:\n",
    "    print(\"A\")\n",
    "  \n",
    "  elif number_grade >=80:\n",
    "    print('B')  \n",
    "  elif number_grade >=70:\n",
    "    print('C')  \n",
    "  elif number_grade >=60:\n",
    "    print('D')  \n",
    "  else:\n",
    "  \n",
    "    print('failure')\n",
    "grade_calc()\n",
    "cont = input(\"Continue? (y/n) \")\n",
    "cont = cont.lower()\n",
    "while cont == \"y\":\n",
    "  grade_calc()\n",
    "  cont = input(\"Continue? \")\n",
    "print(\"bye!\")\n"
   ]
  },
  {
   "cell_type": "markdown",
   "metadata": {},
   "source": [
    "< 30.00 5.95 30.00-49.99 7.95 50.00-74.99 9.95\n",
    "\n",
    "= 75.00 FREE\n",
    "\n",
    "If the user enters a number that’s less than zero, display an error message and give the user a chance to enter the number again."
   ]
  },
  {
   "cell_type": "code",
   "execution_count": null,
   "metadata": {},
   "outputs": [],
   "source": [
    "item_cost= float(input('Enter item cost'))\n",
    "if item_cost < 0:\n",
    "    print('Input has to be zero or great')\n",
    "    item_cost= float(input('Enter item cost'))\n",
    "if item_cost<  30.00 and:\n",
    "    shippind_cost = 5.95\n",
    "elif item_cost >= 30.00 and and item_cost<49.99:\n",
    "    shippind_cost = 7.95\n",
    "elif item_cost >= 50.00 and  item_cost <= 74.99:\n",
    "    shippind_cost = 9.95\n",
    "elif item_cost == 75.00:\n",
    "    shippind_cost = 'FREE'\n",
    "    \n"
   ]
  },
  {
   "cell_type": "code",
   "execution_count": null,
   "metadata": {},
   "outputs": [],
   "source": [
    "list1 = [\"lee\",\"Wee\",\"ree\"]\n",
    "for i in list1:\n",
    "    print(i)"
   ]
  },
  {
   "cell_type": "code",
   "execution_count": null,
   "metadata": {},
   "outputs": [],
   "source": [
    "list1 = [7, 9, 8]\n",
    "list1.index()"
   ]
  },
  {
   "cell_type": "code",
   "execution_count": null,
   "metadata": {},
   "outputs": [],
   "source": []
  },
  {
   "cell_type": "code",
   "execution_count": null,
   "metadata": {},
   "outputs": [],
   "source": []
  }
 ],
 "metadata": {
  "kernelspec": {
   "display_name": "Python 3",
   "language": "python",
   "name": "python3"
  },
  "language_info": {
   "codemirror_mode": {
    "name": "ipython",
    "version": 3
   },
   "file_extension": ".py",
   "mimetype": "text/x-python",
   "name": "python",
   "nbconvert_exporter": "python",
   "pygments_lexer": "ipython3",
   "version": "3.7.3"
  }
 },
 "nbformat": 4,
 "nbformat_minor": 4
}
