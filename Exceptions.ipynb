{
 "cells": [
  {
   "cell_type": "code",
   "execution_count": null,
   "metadata": {},
   "outputs": [],
   "source": [
    "raise IOError('This a test for manually raising exc')\n",
    "#http://docs.python.org/3/library/exceptions.html"
   ]
  },
  {
   "cell_type": "code",
   "execution_count": null,
   "metadata": {},
   "outputs": [],
   "source": [
    "def convert_to_int1(s,base):\n",
    "    try:\n",
    "        return int(s,base)\n",
    "    except(ValueError,TypeError):\n",
    "        return 'error'"
   ]
  },
  {
   "cell_type": "code",
   "execution_count": null,
   "metadata": {},
   "outputs": [],
   "source": [
    "#catch all\n",
    "def convert_to_int3(s,base):\n",
    "    try:\n",
    "        return int(s,base)\n",
    "    except:\n",
    "        return 'error'\n"
   ]
  },
  {
   "cell_type": "code",
   "execution_count": null,
   "metadata": {},
   "outputs": [],
   "source": [
    "def invert(x):\n",
    "    try:\n",
    "        return 1/x\n",
    "    except ZeroDivisionError:\n",
    "        return 'error'\n",
    "    finally:\n",
    "        print('invert(%s) done' % x)\n"
   ]
  },
  {
   "cell_type": "code",
   "execution_count": null,
   "metadata": {},
   "outputs": [],
   "source": [
    "try:\n",
    "    number = int(input(\"Enter an integer: \"))\n",
    "    print(f\"You entered a valid integer of {number}.\")\n",
    "except ValueError:\n",
    "    print(\"You entered an invalid integer. Please try again.\")\n",
    "print(\"Thanks!\")"
   ]
  },
  {
   "cell_type": "code",
   "execution_count": null,
   "metadata": {},
   "outputs": [],
   "source": [
    "#Collect errors to know what went wrong\n",
    "\"\"\"Exception\n",
    "    OSError\n",
    "        FileExistsError\n",
    "        FileNotFoundError\n",
    "    ValueError\"\"\"\n",
    "try:\n",
    "    number = int(input(\"Enter an integer: \"))\n",
    "    print(f\"You entered a valid integer of {number}.\")\n",
    "except Exception as e:\n",
    "    print(e)\n",
    "    print(\"You entered an invalid integer. Please try again.\")\n",
    "print(\"Thanks!\")\n"
   ]
  },
  {
   "cell_type": "code",
   "execution_count": null,
   "metadata": {},
   "outputs": [],
   "source": [
    "import csv\n",
    "import sys\n",
    " \n",
    "FILENAME = \"movies.csv\"\n",
    " \n",
    "def read_movies():\n",
    "    try:\n",
    "        movies = []\n",
    "        with open(FILENAME, newline=\"\") as file:\n",
    "            reader = csv.reader(file)\n",
    "            for row in reader:\n",
    "                movies.append(row)\n",
    "        return movies\n",
    "    except FileNotFoundError:\n",
    "        print(f\"Could not find {FILENAME} file.\")\n",
    "        exit_program()\n",
    "    except Exception as e:\n",
    "        print(type(e), e)\n",
    "        exit_program()\n"
   ]
  },
  {
   "cell_type": "code",
   "execution_count": null,
   "metadata": {},
   "outputs": [],
   "source": [
    "# Define the function\n",
    "def tip_calculator(bill_amount, percentage):\n",
    "    # Calculate tip\n",
    "    tip = bill_amount * (percentage/100)\n",
    "    \n",
    "    # Print tip amount\n",
    "    print(\"Tip amount: ${:.2f}\".format(tip))\n",
    "    \n",
    "    # Calculate and print total amount\n",
    "    total_amount = bill_amount + tip\n",
    "    print(\"Total amount: ${:.2f}\".format(total_amount))\n",
    "    return total_amount\n",
    "# Get user input\n",
    "while True: \n",
    "    try: \n",
    "        bill_amount = int(input(\"What is the bill amount? \"))\n",
    "        percentage = int(input(\"What percentage would you like to tip? \"))\n",
    "    \n",
    "        # Call tip calculator function\n",
    "        tip_calculator(bill_amount, percentage)\n",
    "        break \n",
    "    \n",
    "    except ValueError: \n",
    "        print(\"Enter a valid number and try again\")\n"
   ]
  },
  {
   "cell_type": "code",
   "execution_count": null,
   "metadata": {},
   "outputs": [],
   "source": [
    "## if user enters neg value\n",
    "while True:\n",
    "    try:\n",
    "        user_input = int(input(\"Please enter a positive number: \"))\n",
    "        if user_input < 0:\n",
    "            raise ValueError(\"Negative input\")\n",
    "        break\n",
    "    except ValueError:\n",
    "        print(\"Invalid input, please enter a positive number.\")"
   ]
  },
  {
   "cell_type": "code",
   "execution_count": null,
   "metadata": {},
   "outputs": [],
   "source": [
    "# Define the function\n",
    "def tip_calculator(bill_amount, percentage):\n",
    "    # Calculate tip\n",
    "    tip = bill_amount * (percentage/100)\n",
    "    \n",
    "    # Print tip amount\n",
    "    print(\"Tip amount: ${:.2f}\".format(tip))\n",
    "    \n",
    "    # Calculate and print total amount\n",
    "    total_amount = bill_amount + tip\n",
    "    print(\"Total amount: ${:.2f}\".format(total_amount))\n",
    "    return total_amount\n",
    "# Get user input\n",
    "while True: \n",
    "    try: \n",
    "        bill_amount = float(input(\"What is the bill amount? \"))\n",
    "        percentage = int(input(\"What percentage would you like to tip? \"))\n",
    "        if bill_amount < 0 or percentage < 0:\n",
    "            raise ValueError(\"Negative input\")\n",
    "     \n",
    "    \n",
    "        # Call tip calculator function\n",
    "        tip_calculator(bill_amount, percentage)\n",
    "        break \n",
    "    \n",
    "    except ValueError: \n",
    "        print(\"Enter a valid number and try again\")\n"
   ]
  },
  {
   "cell_type": "code",
   "execution_count": null,
   "metadata": {},
   "outputs": [],
   "source": [
    "import random\n",
    "import os\n",
    "\n",
    "# function to load items from file\n",
    "def load_items(file_name):\n",
    "    try:\n",
    "        with open(file_name, 'r') as file:\n",
    "            items = file.read().splitlines()\n",
    "        return items\n",
    "    except FileNotFoundError:\n",
    "        print(f\"Error: {file_name} not found.\")\n",
    "        exit()\n",
    "\n",
    "# function to save items to file\n",
    "def save_items(file_name, items):\n",
    "    with open(file_name, 'w') as file:\n",
    "        for item in items:\n",
    "            file.write(item + '\\n')\n",
    "\n",
    "# function to display inventory\n",
    "def display_inventory(items):\n",
    "    print(\"Inventory:\")\n",
    "    for i in range(len(items)):\n",
    "        print(f\"{i+1}. {items[i]}\")\n",
    "\n",
    "# function to grab item\n",
    "def grab_item(all_items, inventory):\n",
    "    if len(inventory) >= 4:\n",
    "        print(\"Inventory is full.\")\n",
    "    else:\n",
    "        available_items = list(set(all_items) - set(inventory))\n",
    "        if len(available_items) > 0:\n",
    "            item = random.choice(available_items)\n",
    "            inventory.append(item)\n",
    "            print(f\"You grab a {item}.\")\n",
    "        else:\n",
    "            print(\"No more items to grab.\")\n",
    "\n",
    "# function to drop item\n",
    "def drop_item(inventory):\n",
    "    display_inventory(inventory)\n",
    "    while True:\n",
    "        try:\n",
    "            item_index = int(input(\"Enter the number of the item to drop: \"))\n",
    "            if 1 <= item_index <= len(inventory):\n",
    "                item = inventory.pop(item_index - 1)\n",
    "                print(f\"You drop a {item}.\")\n",
    "                break\n",
    "            else:\n",
    "                raise ValueError(\"Invalid item number.\")\n",
    "        except ValueError as e:\n",
    "            print(e)\n",
    "        except ValueError:\n",
    "            print(\"Invalid input, please enter a valid integer.\")\n",
    "\n",
    "# main loop\n",
    "all_items = load_items(\"wizard_all_items.txt\")\n",
    "inventory = load_items(\"wizardss_inventory.txt\")\n",
    "\n",
    "while True:\n",
    "    command = input(\"Enter command (walk, grab, drop, quit): \")\n",
    "    if command == \"walk\":\n",
    "        grab_item(all_items, inventory)\n",
    "    elif command == \"grab\":\n",
    "        drop_item(inventory)\n",
    "    elif command == \"quit\":\n",
    "        break\n",
    "    "
   ]
  },
  {
   "cell_type": "code",
   "execution_count": 11,
   "metadata": {},
   "outputs": [
    {
     "name": "stdout",
     "output_type": "stream",
     "text": [
      "5\n"
     ]
    }
   ],
   "source": [
    "\n",
    "import random\n",
    "\n",
    "my_list = [1, 2, 3, 4, 5]\n",
    "\n",
    "random_item = random.choice(my_list)\n",
    "\n",
    "print(random_item)"
   ]
  },
  {
   "cell_type": "code",
   "execution_count": null,
   "metadata": {},
   "outputs": [],
   "source": []
  }
 ],
 "metadata": {
  "kernelspec": {
   "display_name": "Python 3",
   "language": "python",
   "name": "python3"
  },
  "language_info": {
   "codemirror_mode": {
    "name": "ipython",
    "version": 3
   },
   "file_extension": ".py",
   "mimetype": "text/x-python",
   "name": "python",
   "nbconvert_exporter": "python",
   "pygments_lexer": "ipython3",
   "version": "3.7.3"
  }
 },
 "nbformat": 4,
 "nbformat_minor": 4
}
