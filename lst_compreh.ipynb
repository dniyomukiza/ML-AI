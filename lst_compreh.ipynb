{
 "cells": [
  {
   "cell_type": "code",
   "execution_count": null,
   "metadata": {},
   "outputs": [],
   "source": [
    "\"\"\"\n",
    "This module has 3 methods: \n",
    "lst_comprehension() that receives a list of strings and returns a new filtered list\n",
    "\"\"\"\n",
    "\n",
    "def lst_comprehension(lst):\n",
    "    fruits = [\"apple\", \"banana\", \"cherry\", \"kiwi\", \"mango\"]\n",
    "\n",
    "    newlist = [x for x in fruits if \"a\" in x]\n",
    "    return  newlist\n",
    "\n",
    "lst_comprehension(fruits)\n",
    "\n",
    "def enum_func(list3):\n",
    "    for item in range(len(list3)):\n",
    "        if 'tomatoes' in list3[item]:\n",
    "            print(list3[item][0])\n",
    "        \n",
    "enum_func(nested_lst) \n",
    "\n",
    "def nest_list(my_list):\n",
    "    for i in my_list:\n",
    "        print(i[0],':',i[1])\n",
    "nested_lst = [['tomato soup', 'tomatoes'], ['carrot juice', 'carrots']]\n",
    "nest_list(nested_lst)"
   ]
  },
  {
   "cell_type": "code",
   "execution_count": null,
   "metadata": {},
   "outputs": [],
   "source": []
  }
 ],
 "metadata": {
  "kernelspec": {
   "display_name": "Python 3",
   "language": "python",
   "name": "python3"
  },
  "language_info": {
   "codemirror_mode": {
    "name": "ipython",
    "version": 3
   },
   "file_extension": ".py",
   "mimetype": "text/x-python",
   "name": "python",
   "nbconvert_exporter": "python",
   "pygments_lexer": "ipython3",
   "version": "3.7.3"
  }
 },
 "nbformat": 4,
 "nbformat_minor": 4
}
